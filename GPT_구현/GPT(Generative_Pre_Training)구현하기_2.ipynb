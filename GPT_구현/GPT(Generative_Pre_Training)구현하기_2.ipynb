{
  "nbformat": 4,
  "nbformat_minor": 0,
  "metadata": {
    "colab": {
      "name": "GPT(Generative Pre-Training)구현하기_2.ipynb",
      "provenance": [],
      "collapsed_sections": [],
      "machine_shape": "hm",
      "mount_file_id": "1Q0e0qW5A_Jm6fZn6bYLg5Qt29QH5vCkh",
      "authorship_tag": "ABX9TyOngWLU7WrCWngbGn0WyH3t",
      "include_colab_link": true
    },
    "kernelspec": {
      "name": "python3",
      "display_name": "Python 3"
    },
    "language_info": {
      "name": "python"
    },
    "accelerator": "GPU"
  },
  "cells": [
    {
      "cell_type": "markdown",
      "metadata": {
        "id": "view-in-github",
        "colab_type": "text"
      },
      "source": [
        "<a href=\"https://colab.research.google.com/github/heejvely/NLP_models/blob/main/GPT(Generative_Pre_Training)%EA%B5%AC%ED%98%84%ED%95%98%EA%B8%B0_2.ipynb\" target=\"_parent\"><img src=\"https://colab.research.google.com/assets/colab-badge.svg\" alt=\"Open In Colab\"/></a>"
      ]
    },
    {
      "cell_type": "markdown",
      "source": [
        "* 코드 참조: https://paul-hyun.github.io/gpt-02/"
      ],
      "metadata": {
        "id": "LfEWuzE7cbcf"
      }
    },
    {
      "cell_type": "markdown",
      "source": [
        "# 0. Pip install\n",
        "필요한 패키지를 pip를 이용해서 설치합니다."
      ],
      "metadata": {
        "id": "fZ6eX2pKchCO"
      }
    },
    {
      "cell_type": "code",
      "execution_count": 1,
      "metadata": {
        "colab": {
          "base_uri": "https://localhost:8080/"
        },
        "id": "MIm5N0R4cYMd",
        "outputId": "b680e60b-a25b-4a5a-e5dd-2f2b337ad21f"
      },
      "outputs": [
        {
          "output_type": "stream",
          "name": "stdout",
          "text": [
            "Collecting sentencepiece\n",
            "  Downloading sentencepiece-0.1.96-cp37-cp37m-manylinux_2_17_x86_64.manylinux2014_x86_64.whl (1.2 MB)\n",
            "\u001b[?25l\r\u001b[K     |▎                               | 10 kB 28.0 MB/s eta 0:00:01\r\u001b[K     |▌                               | 20 kB 11.1 MB/s eta 0:00:01\r\u001b[K     |▉                               | 30 kB 9.2 MB/s eta 0:00:01\r\u001b[K     |█                               | 40 kB 8.4 MB/s eta 0:00:01\r\u001b[K     |█▍                              | 51 kB 5.0 MB/s eta 0:00:01\r\u001b[K     |█▋                              | 61 kB 5.5 MB/s eta 0:00:01\r\u001b[K     |██                              | 71 kB 5.4 MB/s eta 0:00:01\r\u001b[K     |██▏                             | 81 kB 6.1 MB/s eta 0:00:01\r\u001b[K     |██▍                             | 92 kB 4.8 MB/s eta 0:00:01\r\u001b[K     |██▊                             | 102 kB 5.2 MB/s eta 0:00:01\r\u001b[K     |███                             | 112 kB 5.2 MB/s eta 0:00:01\r\u001b[K     |███▎                            | 122 kB 5.2 MB/s eta 0:00:01\r\u001b[K     |███▌                            | 133 kB 5.2 MB/s eta 0:00:01\r\u001b[K     |███▉                            | 143 kB 5.2 MB/s eta 0:00:01\r\u001b[K     |████                            | 153 kB 5.2 MB/s eta 0:00:01\r\u001b[K     |████▎                           | 163 kB 5.2 MB/s eta 0:00:01\r\u001b[K     |████▋                           | 174 kB 5.2 MB/s eta 0:00:01\r\u001b[K     |████▉                           | 184 kB 5.2 MB/s eta 0:00:01\r\u001b[K     |█████▏                          | 194 kB 5.2 MB/s eta 0:00:01\r\u001b[K     |█████▍                          | 204 kB 5.2 MB/s eta 0:00:01\r\u001b[K     |█████▊                          | 215 kB 5.2 MB/s eta 0:00:01\r\u001b[K     |██████                          | 225 kB 5.2 MB/s eta 0:00:01\r\u001b[K     |██████▏                         | 235 kB 5.2 MB/s eta 0:00:01\r\u001b[K     |██████▌                         | 245 kB 5.2 MB/s eta 0:00:01\r\u001b[K     |██████▊                         | 256 kB 5.2 MB/s eta 0:00:01\r\u001b[K     |███████                         | 266 kB 5.2 MB/s eta 0:00:01\r\u001b[K     |███████▎                        | 276 kB 5.2 MB/s eta 0:00:01\r\u001b[K     |███████▋                        | 286 kB 5.2 MB/s eta 0:00:01\r\u001b[K     |███████▉                        | 296 kB 5.2 MB/s eta 0:00:01\r\u001b[K     |████████                        | 307 kB 5.2 MB/s eta 0:00:01\r\u001b[K     |████████▍                       | 317 kB 5.2 MB/s eta 0:00:01\r\u001b[K     |████████▋                       | 327 kB 5.2 MB/s eta 0:00:01\r\u001b[K     |█████████                       | 337 kB 5.2 MB/s eta 0:00:01\r\u001b[K     |█████████▏                      | 348 kB 5.2 MB/s eta 0:00:01\r\u001b[K     |█████████▌                      | 358 kB 5.2 MB/s eta 0:00:01\r\u001b[K     |█████████▊                      | 368 kB 5.2 MB/s eta 0:00:01\r\u001b[K     |██████████                      | 378 kB 5.2 MB/s eta 0:00:01\r\u001b[K     |██████████▎                     | 389 kB 5.2 MB/s eta 0:00:01\r\u001b[K     |██████████▌                     | 399 kB 5.2 MB/s eta 0:00:01\r\u001b[K     |██████████▉                     | 409 kB 5.2 MB/s eta 0:00:01\r\u001b[K     |███████████                     | 419 kB 5.2 MB/s eta 0:00:01\r\u001b[K     |███████████▍                    | 430 kB 5.2 MB/s eta 0:00:01\r\u001b[K     |███████████▋                    | 440 kB 5.2 MB/s eta 0:00:01\r\u001b[K     |███████████▉                    | 450 kB 5.2 MB/s eta 0:00:01\r\u001b[K     |████████████▏                   | 460 kB 5.2 MB/s eta 0:00:01\r\u001b[K     |████████████▍                   | 471 kB 5.2 MB/s eta 0:00:01\r\u001b[K     |████████████▊                   | 481 kB 5.2 MB/s eta 0:00:01\r\u001b[K     |█████████████                   | 491 kB 5.2 MB/s eta 0:00:01\r\u001b[K     |█████████████▎                  | 501 kB 5.2 MB/s eta 0:00:01\r\u001b[K     |█████████████▌                  | 512 kB 5.2 MB/s eta 0:00:01\r\u001b[K     |█████████████▊                  | 522 kB 5.2 MB/s eta 0:00:01\r\u001b[K     |██████████████                  | 532 kB 5.2 MB/s eta 0:00:01\r\u001b[K     |██████████████▎                 | 542 kB 5.2 MB/s eta 0:00:01\r\u001b[K     |██████████████▋                 | 552 kB 5.2 MB/s eta 0:00:01\r\u001b[K     |██████████████▉                 | 563 kB 5.2 MB/s eta 0:00:01\r\u001b[K     |███████████████▏                | 573 kB 5.2 MB/s eta 0:00:01\r\u001b[K     |███████████████▍                | 583 kB 5.2 MB/s eta 0:00:01\r\u001b[K     |███████████████▋                | 593 kB 5.2 MB/s eta 0:00:01\r\u001b[K     |████████████████                | 604 kB 5.2 MB/s eta 0:00:01\r\u001b[K     |████████████████▏               | 614 kB 5.2 MB/s eta 0:00:01\r\u001b[K     |████████████████▌               | 624 kB 5.2 MB/s eta 0:00:01\r\u001b[K     |████████████████▊               | 634 kB 5.2 MB/s eta 0:00:01\r\u001b[K     |█████████████████               | 645 kB 5.2 MB/s eta 0:00:01\r\u001b[K     |█████████████████▎              | 655 kB 5.2 MB/s eta 0:00:01\r\u001b[K     |█████████████████▌              | 665 kB 5.2 MB/s eta 0:00:01\r\u001b[K     |█████████████████▉              | 675 kB 5.2 MB/s eta 0:00:01\r\u001b[K     |██████████████████              | 686 kB 5.2 MB/s eta 0:00:01\r\u001b[K     |██████████████████▍             | 696 kB 5.2 MB/s eta 0:00:01\r\u001b[K     |██████████████████▋             | 706 kB 5.2 MB/s eta 0:00:01\r\u001b[K     |███████████████████             | 716 kB 5.2 MB/s eta 0:00:01\r\u001b[K     |███████████████████▏            | 727 kB 5.2 MB/s eta 0:00:01\r\u001b[K     |███████████████████▍            | 737 kB 5.2 MB/s eta 0:00:01\r\u001b[K     |███████████████████▊            | 747 kB 5.2 MB/s eta 0:00:01\r\u001b[K     |████████████████████            | 757 kB 5.2 MB/s eta 0:00:01\r\u001b[K     |████████████████████▎           | 768 kB 5.2 MB/s eta 0:00:01\r\u001b[K     |████████████████████▌           | 778 kB 5.2 MB/s eta 0:00:01\r\u001b[K     |████████████████████▉           | 788 kB 5.2 MB/s eta 0:00:01\r\u001b[K     |█████████████████████           | 798 kB 5.2 MB/s eta 0:00:01\r\u001b[K     |█████████████████████▎          | 808 kB 5.2 MB/s eta 0:00:01\r\u001b[K     |█████████████████████▋          | 819 kB 5.2 MB/s eta 0:00:01\r\u001b[K     |█████████████████████▉          | 829 kB 5.2 MB/s eta 0:00:01\r\u001b[K     |██████████████████████▏         | 839 kB 5.2 MB/s eta 0:00:01\r\u001b[K     |██████████████████████▍         | 849 kB 5.2 MB/s eta 0:00:01\r\u001b[K     |██████████████████████▊         | 860 kB 5.2 MB/s eta 0:00:01\r\u001b[K     |███████████████████████         | 870 kB 5.2 MB/s eta 0:00:01\r\u001b[K     |███████████████████████▏        | 880 kB 5.2 MB/s eta 0:00:01\r\u001b[K     |███████████████████████▌        | 890 kB 5.2 MB/s eta 0:00:01\r\u001b[K     |███████████████████████▊        | 901 kB 5.2 MB/s eta 0:00:01\r\u001b[K     |████████████████████████        | 911 kB 5.2 MB/s eta 0:00:01\r\u001b[K     |████████████████████████▎       | 921 kB 5.2 MB/s eta 0:00:01\r\u001b[K     |████████████████████████▋       | 931 kB 5.2 MB/s eta 0:00:01\r\u001b[K     |████████████████████████▉       | 942 kB 5.2 MB/s eta 0:00:01\r\u001b[K     |█████████████████████████       | 952 kB 5.2 MB/s eta 0:00:01\r\u001b[K     |█████████████████████████▍      | 962 kB 5.2 MB/s eta 0:00:01\r\u001b[K     |█████████████████████████▋      | 972 kB 5.2 MB/s eta 0:00:01\r\u001b[K     |██████████████████████████      | 983 kB 5.2 MB/s eta 0:00:01\r\u001b[K     |██████████████████████████▏     | 993 kB 5.2 MB/s eta 0:00:01\r\u001b[K     |██████████████████████████▌     | 1.0 MB 5.2 MB/s eta 0:00:01\r\u001b[K     |██████████████████████████▊     | 1.0 MB 5.2 MB/s eta 0:00:01\r\u001b[K     |███████████████████████████     | 1.0 MB 5.2 MB/s eta 0:00:01\r\u001b[K     |███████████████████████████▎    | 1.0 MB 5.2 MB/s eta 0:00:01\r\u001b[K     |███████████████████████████▌    | 1.0 MB 5.2 MB/s eta 0:00:01\r\u001b[K     |███████████████████████████▉    | 1.1 MB 5.2 MB/s eta 0:00:01\r\u001b[K     |████████████████████████████    | 1.1 MB 5.2 MB/s eta 0:00:01\r\u001b[K     |████████████████████████████▍   | 1.1 MB 5.2 MB/s eta 0:00:01\r\u001b[K     |████████████████████████████▋   | 1.1 MB 5.2 MB/s eta 0:00:01\r\u001b[K     |████████████████████████████▉   | 1.1 MB 5.2 MB/s eta 0:00:01\r\u001b[K     |█████████████████████████████▏  | 1.1 MB 5.2 MB/s eta 0:00:01\r\u001b[K     |█████████████████████████████▍  | 1.1 MB 5.2 MB/s eta 0:00:01\r\u001b[K     |█████████████████████████████▊  | 1.1 MB 5.2 MB/s eta 0:00:01\r\u001b[K     |██████████████████████████████  | 1.1 MB 5.2 MB/s eta 0:00:01\r\u001b[K     |██████████████████████████████▎ | 1.1 MB 5.2 MB/s eta 0:00:01\r\u001b[K     |██████████████████████████████▌ | 1.2 MB 5.2 MB/s eta 0:00:01\r\u001b[K     |██████████████████████████████▊ | 1.2 MB 5.2 MB/s eta 0:00:01\r\u001b[K     |███████████████████████████████ | 1.2 MB 5.2 MB/s eta 0:00:01\r\u001b[K     |███████████████████████████████▎| 1.2 MB 5.2 MB/s eta 0:00:01\r\u001b[K     |███████████████████████████████▋| 1.2 MB 5.2 MB/s eta 0:00:01\r\u001b[K     |███████████████████████████████▉| 1.2 MB 5.2 MB/s eta 0:00:01\r\u001b[K     |████████████████████████████████| 1.2 MB 5.2 MB/s \n",
            "\u001b[?25hInstalling collected packages: sentencepiece\n",
            "Successfully installed sentencepiece-0.1.96\n",
            "Collecting wget\n",
            "  Downloading wget-3.2.zip (10 kB)\n",
            "Building wheels for collected packages: wget\n",
            "  Building wheel for wget (setup.py) ... \u001b[?25l\u001b[?25hdone\n",
            "  Created wheel for wget: filename=wget-3.2-py3-none-any.whl size=9675 sha256=a18d236da7bd36ba55d616cb04512399a2a515ea03e3aa95ab1b03492721d57f\n",
            "  Stored in directory: /root/.cache/pip/wheels/a1/b6/7c/0e63e34eb06634181c63adacca38b79ff8f35c37e3c13e3c02\n",
            "Successfully built wget\n",
            "Installing collected packages: wget\n",
            "Successfully installed wget-3.2\n"
          ]
        }
      ],
      "source": [
        "!pip install sentencepiece\n",
        "!pip install wget"
      ]
    },
    {
      "cell_type": "code",
      "source": [
        "# gpu 설정\n",
        "!nvidia-smi"
      ],
      "metadata": {
        "colab": {
          "base_uri": "https://localhost:8080/"
        },
        "id": "Or4SyiSjciY2",
        "outputId": "1d4133d2-8c5b-49d1-b58b-e2d130882f65"
      },
      "execution_count": 2,
      "outputs": [
        {
          "output_type": "stream",
          "name": "stdout",
          "text": [
            "Thu Jan 13 09:49:11 2022       \n",
            "+-----------------------------------------------------------------------------+\n",
            "| NVIDIA-SMI 495.46       Driver Version: 460.32.03    CUDA Version: 11.2     |\n",
            "|-------------------------------+----------------------+----------------------+\n",
            "| GPU  Name        Persistence-M| Bus-Id        Disp.A | Volatile Uncorr. ECC |\n",
            "| Fan  Temp  Perf  Pwr:Usage/Cap|         Memory-Usage | GPU-Util  Compute M. |\n",
            "|                               |                      |               MIG M. |\n",
            "|===============================+======================+======================|\n",
            "|   0  Tesla P100-PCIE...  Off  | 00000000:00:04.0 Off |                    0 |\n",
            "| N/A   42C    P0    29W / 250W |      0MiB / 16280MiB |      0%      Default |\n",
            "|                               |                      |                  N/A |\n",
            "+-------------------------------+----------------------+----------------------+\n",
            "                                                                               \n",
            "+-----------------------------------------------------------------------------+\n",
            "| Processes:                                                                  |\n",
            "|  GPU   GI   CI        PID   Type   Process name                  GPU Memory |\n",
            "|        ID   ID                                                   Usage      |\n",
            "|=============================================================================|\n",
            "|  No running processes found                                                 |\n",
            "+-----------------------------------------------------------------------------+\n"
          ]
        }
      ]
    },
    {
      "cell_type": "markdown",
      "source": [
        "# 1. Imports"
      ],
      "metadata": {
        "id": "D4hD0NMXcmaP"
      }
    },
    {
      "cell_type": "code",
      "source": [
        "import os\n",
        "import numpy as np\n",
        "import math\n",
        "from random import random, randrange, randint, shuffle, choice\n",
        "import matplotlib.pyplot as plt\n",
        "import json\n",
        "import pandas as pd\n",
        "from IPython.display import display\n",
        "from tqdm import tqdm, tqdm_notebook, trange\n",
        "import sentencepiece as spm\n",
        "import wget\n",
        "\n",
        "import torch\n",
        "import torch.nn as nn\n",
        "import torch.nn.functional as F"
      ],
      "metadata": {
        "id": "aoDnki3bcl29"
      },
      "execution_count": 3,
      "outputs": []
    },
    {
      "cell_type": "markdown",
      "source": [
        "# 2. Vocab 및 입력\n",
        "Sentencepiece를 활용해 Vocab 만들기를 통해 만들어 놓은 vocab을 로딩합니다."
      ],
      "metadata": {
        "id": "McBP8uZIcpzG"
      }
    },
    {
      "cell_type": "code",
      "source": [
        "import sentencepiece as spm\n",
        "# vocab loading\n",
        "vocab_file = '/content/drive/MyDrive/colab/NLP_모델/kowiki_corpus/kowiki.model'\n",
        "vocab = spm.SentencePieceProcessor()\n",
        "vocab.load(vocab_file)"
      ],
      "metadata": {
        "colab": {
          "base_uri": "https://localhost:8080/"
        },
        "id": "TmT7yOH3cpVn",
        "outputId": "e0b56acb-b783-4191-eea7-42a5f90c1141"
      },
      "execution_count": 4,
      "outputs": [
        {
          "output_type": "execute_result",
          "data": {
            "text/plain": [
              "True"
            ]
          },
          "metadata": {},
          "execution_count": 4
        }
      ]
    },
    {
      "cell_type": "markdown",
      "source": [
        "# 3. Config\n",
        "모델에 설정 값을 전달하기 위한 config를 만듭니다."
      ],
      "metadata": {
        "id": "2o0v9ud0cwqo"
      }
    },
    {
      "cell_type": "code",
      "source": [
        "\"\"\"configuration json을 읽어들이는 class\"\"\"\n",
        "class Config(dict):\n",
        "  __getattr__ = dict.__getitem__\n",
        "  __setarrt__ = dict.__setitem__\n",
        "\n",
        "  @classmethod\n",
        "  def load(cls, file):\n",
        "    with open(file, 'r') as f:\n",
        "      config = json.loads(f.read())\n",
        "      return Config(config)"
      ],
      "metadata": {
        "id": "O0xnPEAGcsam"
      },
      "execution_count": 5,
      "outputs": []
    },
    {
      "cell_type": "code",
      "source": [
        "config = Config({\n",
        "    \"n_dec_vocab\": len(vocab),\n",
        "    \"n_dec_seq\": 256,\n",
        "    \"n_layer\": 6,\n",
        "    \"d_hidn\": 256,\n",
        "    \"i_pad\": 0,\n",
        "    \"d_ff\": 1024,\n",
        "    \"n_head\": 4,\n",
        "    \"d_head\": 64,\n",
        "    \"dropout\": 0.1,\n",
        "    \"layer_norm_epsilon\": 1e-12\n",
        "})\n",
        "print(config)"
      ],
      "metadata": {
        "colab": {
          "base_uri": "https://localhost:8080/"
        },
        "id": "2rnBLhjQc2Ex",
        "outputId": "8fdea0b7-3d8c-4cf7-bb91-831bc64d460e"
      },
      "execution_count": 6,
      "outputs": [
        {
          "output_type": "stream",
          "name": "stdout",
          "text": [
            "{'n_dec_vocab': 8007, 'n_dec_seq': 256, 'n_layer': 6, 'd_hidn': 256, 'i_pad': 0, 'd_ff': 1024, 'n_head': 4, 'd_head': 64, 'dropout': 0.1, 'layer_norm_epsilon': 1e-12}\n"
          ]
        }
      ]
    },
    {
      "cell_type": "markdown",
      "source": [
        "# 4. Common Class\n",
        "공통으로 사용되는 Class 및 함수입니다."
      ],
      "metadata": {
        "id": "7MY4LRNNc4l8"
      }
    },
    {
      "cell_type": "code",
      "source": [
        "\"\"\"sinusoid position encoding\"\"\"\n",
        "def get_sinusoid_encoding_table(n_seq, d_hidn):\n",
        "  def cal_angle(position, i_hidn):\n",
        "    return position / np.power(10000, 2 * (i_hidn // 2) / d_hidn)\n",
        "  def get_posi_angle_vec(position):\n",
        "    return [cal_angle(position, i_hidn) for i_hidn in range(d_hidn)]\n",
        "\n",
        "  sinusoid_table = np.array([get_posi_angle_vec(i_seq) for i_seq in range(n_seq)])  # 1. 각 position별 hidden index별 angle 값을 구합니다.\n",
        "  sinusoid_table[:, 0::2] = np.sin(sinusoid_table[:, 0::2])                         # 2. hidden 짝수 index의 angle값의 sin값을 구합니다.\n",
        "  sinusoid_table[:, 1::2] = np.cos(sinusoid_table[:, 1::2])                         # 3. hidden 홀수 index의 angle값의 cos값을 구합니다.\n",
        "\n",
        "  return sinusoid_table\n",
        "\n",
        "\"\"\"attention pad mask\"\"\"\n",
        "def get_attn_pad_mask(seq_q, seq_k, i_pad):\n",
        "  batch_size, len_q = seq_q.size()\n",
        "  batch_size, len_k = seq_k.size()\n",
        "  pad_attn_mask = seq_k.data.eq(i_pad)                                              # 1. K의 값 중에 Pad인 부분을 True로 변경합니다.(나머지는 False)\n",
        "  pad_attn_mask = pad_attn_mask.unsqueeze(1).expand(batch_size, len_q, len_k)       # 2. 구해진 값의 크기를 Q-len, K-len 되도록 변경합니다.\n",
        "  return pad_attn_mask\n",
        "\n",
        "\"\"\"attention decoder mask\"\"\"\n",
        "def get_attn_decoder_mask(seq):\n",
        "  subsequent_mask = torch.ones_like(seq).unsqueeze(-1).expand(seq.size(0), seq.size(1), seq.size(1)) # 1. 모든 값이 1인 Q-len, K-leb 테이블을 생성합니다.\n",
        "  subsequent_mask = subsequent_mask.triu(diagonal=1)                                                 # 2. 대각선을 기준으로 아래쪽을 0으로 만듭니다.\n",
        "  return subsequent_mask\n",
        "\n",
        "\"\"\"scale dot product attention\"\"\"\n",
        "class ScaledDotProductAttention(nn.Module):\n",
        "  def __init__(self, config):\n",
        "    super().__init__()\n",
        "    self.config = config\n",
        "    self.dropout= nn.Dropout(config.dropout)\n",
        "    self.scale = 1 / (self.config.d_head ** 0.5)\n",
        "\n",
        "  def forward(self, Q, K, V, attn_mask):\n",
        "    scores = torch.matmul(Q, K.transpose(-1, -2))     # 1. Q * K.transpose를 구합니다.\n",
        "    scores = scores.mul_(self.scale)                   # 2. K-dimention에 루트를 취한 값으로 나눠 줍니다.\n",
        "    scores.masked_fill_(attn_mask, -1e9)              # 3. Mask를 적용합니다.\n",
        "\n",
        "    attn_prob = nn.Softmax(dim= -1)(scores)           # 4. Softmax를 취해 각 단어의 가중치 확률분포 attn_prob를 구합니다.\n",
        "    attn_prob = self.dropout(attn_prob)               # 5. attn_prob * V를 구합니다. 구한 값은 Q에 대한 V의 가중치 합 벡터입니다.\n",
        "\n",
        "    context = torch.matmul(attn_prob, V)\n",
        "\n",
        "    return context, attn_prob\n",
        "\n",
        "\"\"\"multi head attention\"\"\"\n",
        "class MultiHeadAttention(nn.Module):\n",
        "  def __init__(self, config):\n",
        "    super().__init__()\n",
        "    self.config = config\n",
        "\n",
        "    self.W_Q = nn.Linear(self.config.d_hidn, self.config.n_head * self.config.d_head)\n",
        "    self.W_K = nn.Linear(self.config.d_hidn, self.config.n_head * self.config.d_head)\n",
        "    self.W_V = nn.Linear(self.config.d_hidn, self.config.n_head * self.config.d_head)\n",
        "    self.scaled_dot_attn = ScaledDotProductAttention(self.config)\n",
        "    self.linear = nn.Linear(self.config.n_head * self.config.d_head, self.config.d_hidn)\n",
        "    self.dropout = nn.Dropout(config.dropout)\n",
        "\n",
        "  def forward(self, Q, K, V, attn_mask):\n",
        "    batch_size = Q.size(0)\n",
        "    q_s = self.W_Q(Q).view(batch_size, -1, self.config.n_head, self.config.d_head).transpose(1,2)                   # 1. Q * W_Q를 한 후 multi-head로 나눕니다.\n",
        "    k_s = self.W_K(K).view(batch_size, -1, self.config.n_head, self.config.d_head).transpose(1,2)                   # 2. K * W_K를 한 후 multi-head로 나눕니다.\n",
        "    v_s = self.W_V(V).view(batch_size, -1, self.config.n_head, self.config.d_head).transpose(1,2)                   # 3. V * W_V를 한 후 multi-head로 나눕니다.\n",
        "\n",
        "    attn_mask = attn_mask.unsqueeze(1).repeat(1, self.config.n_head, 1, 1)\n",
        "\n",
        "    context, attn_prob = self.scaled_dot_attn(q_s, k_s, v_s, attn_mask)                                             # 4. ScaledDotProductAttention 클래스를 이용해 각 head 별 Attention을 구합니다.\n",
        "    context = context.transpose(1, 2).contiguous().view(batch_size, -1, self.config.n_head * self.config.d_head)    # 5. 여러 개의 head를 1개로 합칩니다.\n",
        "    output = self.linear(context)                                                                                   # 6. Linear를 취해 최종 Multi-Head Attention값을 구합니다.\n",
        "    output = self.dropout(output)\n",
        "    \n",
        "    return output, attn_prob\n",
        "\n",
        "\"\"\"feed forward\"\"\"\n",
        "class PoswiseFeedForwardNet(nn.Module):\n",
        "  def __init__(self, config):\n",
        "    super().__init__()\n",
        "    self.config = config\n",
        "\n",
        "    self.conv1 = nn.Conv1d(in_channels = self.config.d_hidn, out_channels = self.config.d_ff, kernel_size=1)\n",
        "    self.conv2 = nn.Conv1d(in_channels = self.config.d_ff, out_channels = self.config.d_hidn, kernel_size=1)\n",
        "    self.active = F.gelu\n",
        "    self.dropout = nn.Dropout(config.dropout)\n",
        "\n",
        "  def forward(self, inputs):\n",
        "    output = self.conv1(inputs.transpose(1, 2))     # 1. Linear를 실행하여 shape을 d_ff(hidden * 4)크기로 키웁니다.\n",
        "    output = self.active(output)                    # 2. activation 함수(relu or gelu)를 실행합니다.\n",
        "\n",
        "    output = self.conv2(output).transpose(1, 2)     # 3. Linear를 실행하여 shape을 hidden 크기로 줄입니다.\n",
        "    output = self.dropout(output)\n",
        "\n",
        "    return output"
      ],
      "metadata": {
        "id": "daRHTtYtc06G"
      },
      "execution_count": 7,
      "outputs": []
    },
    {
      "cell_type": "markdown",
      "source": [
        "# 5. Decoder\n",
        "GPT는 표준 Transformer의 Encoder는 사용하지 않고 Decoder만 사용하므로 Decoder에서 Encoder의 출력과 Attention을 하는 부분인 Encoder-Decoder Multi-Head Attention 부분을 제거"
      ],
      "metadata": {
        "id": "QGa8p6oNdCGx"
      }
    },
    {
      "cell_type": "code",
      "source": [
        "\"\"\"decoder layer\"\"\"\n",
        "class DecoderLayer(nn.Module):\n",
        "  def __init__(self, config):\n",
        "    super().__init__()\n",
        "    self.config = config\n",
        "\n",
        "    self.self_attn = MultiHeadAttention(self.config)\n",
        "    self.layer_norm1 = nn.LayerNorm(self.config.d_hidn, eps= self.config.layer_norm_epsilon)\n",
        "    self.pos_ffn = PoswiseFeedForwardNet(self.config)\n",
        "    self.layer_norm3 = nn.LayerNorm(self.config.d_hidn, eps = self.config.layer_norm_epsilon)\n",
        "\n",
        "  def forward(self, dec_inputs, self_attn_mask):\n",
        "    self_attn_outputs, self_attn_prob = self.self_attn(dec_inputs, dec_inputs, dec_inputs, self_attn_mask)\n",
        "    self_attn_outputs = self.layer_norm1(dec_inputs + self_attn_outputs)\n",
        "\n",
        "    ffn_outputs = self.pos_ffn(self_attn_outputs)\n",
        "    ffn_outputs = self.layer_norm3(self_attn_outputs + ffn_outputs)\n",
        "\n",
        "    return ffn_outputs, self_attn_prob\n",
        "\n",
        "\"\"\"decoder\"\"\"\n",
        "class Decoder(nn.Module):\n",
        "  def __init__(self, config):\n",
        "    super().__init__()\n",
        "    self.config = config\n",
        "\n",
        "    self.dec_emb = nn.Embedding(self.config.n_dec_vocab, self.config.d_hidn)\n",
        "    sinusoid_table = torch.FloatTensor(get_sinusoid_encoding_table(self.config.n_dec_seq + 1, self.config.d_hidn))\n",
        "    self.pos_emb = nn.Embedding.from_pretrained(sinusoid_table, freeze=True)\n",
        "\n",
        "    self.layers = nn.ModuleList([DecoderLayer(self.config) for _ in range(self.config.n_layer)])\n",
        "\n",
        "  def forward(self, dec_inputs):\n",
        "    positions = torch.arange(dec_inputs.size(1), device = dec_inputs.device, dtype = dec_inputs.dtype).expand(dec_inputs.size(0), dec_inputs.size(1)).contiguous() + 1\n",
        "    pos_mask = dec_inputs.eq(self.config.i_pad)\n",
        "    positions.masked_fill_(pos_mask, 0)\n",
        "\n",
        "    dec_outputs = self.dec_emb(dec_inputs) + self.pos_emb(positions)\n",
        "\n",
        "    dec_attn_pad_mask = get_attn_pad_mask(dec_inputs, dec_inputs, self.config.i_pad)\n",
        "    dec_attn_decoder_mask = get_attn_decoder_mask(dec_inputs)\n",
        "    dec_self_attn_mask = torch.gt((dec_attn_pad_mask + dec_attn_decoder_mask), 0)\n",
        "\n",
        "    self_attn_probs = []\n",
        "    for layer in self.layers:\n",
        "      dec_outputs, self_attn_prob = layer(dec_outputs, dec_self_attn_mask)\n",
        "      self_attn_probs.append(self_attn_prob)\n",
        "    return dec_outputs, self_attn_probs\n",
        "\n",
        "\"\"\"gpt\"\"\"\n",
        "class GPT(nn.Module):\n",
        "  def __init__(self, config):\n",
        "    super().__init__()\n",
        "    self.config = config\n",
        "\n",
        "    self.decoder = Decoder(self.config)\n",
        "\n",
        "  def forward(self, dec_inputs):\n",
        "    dec_outputs, dec_self_attn_probs = self.decoder(dec_inputs)\n",
        "    return dec_outputs, dec_self_attn_probs\n",
        "\n",
        "  def save(self, epoch, loss, path):\n",
        "    torch.save({\n",
        "        'epoch':epoch,\n",
        "        'loss':loss,\n",
        "        'state_dict':self.state_dict()\n",
        "    }, path)\n",
        "\n",
        "  def load(self, path):\n",
        "    save = torch.load(path)\n",
        "    self.load_state_dict(save['state_dict'])\n",
        "    return save['epoch'], save['loss']"
      ],
      "metadata": {
        "id": "GANyDHYLc7jg"
      },
      "execution_count": 8,
      "outputs": []
    },
    {
      "cell_type": "markdown",
      "source": [
        "# 6. Model\n",
        "GPT(Generative Pre-Training)구현하기_1 의 GPT 클래스를 이용하여 Naver 영화리뷰 감정분석 분류 모델 클래스를 아래와 같이 정의\n",
        "\n",
        "1. Decoder input을 입력으로 GPT 모델을 실행합니다.\n",
        "2. 1번 결과 값을 가지고 다음 단어를 예측하는 logits_lm을 만듭니다.\n",
        "  - GPT는 특정 Task를 진행하면서 동시에 다음 단어를 예측하는 lm을 학습할 수 있습니다.\n",
        "3. 1번 결과의 마지막 값을 Classification을 위한 값으로 사용합니다."
      ],
      "metadata": {
        "id": "cu2N1Vm0dJ3A"
      }
    },
    {
      "cell_type": "code",
      "source": [
        "\"\"\" naver movie classification \"\"\"\n",
        "class MovieClassification(nn.Module):\n",
        "  def __init__(self, config):\n",
        "    super().__init__()\n",
        "    self.config = config\n",
        "\n",
        "    self.gpt = GPT(self.config)\n",
        "    self.projection_lm = nn.Linear(self.config.d_hidn, self.config.n_dec_vocab, bias = False)\n",
        "    self.projection_lm.weight = self.gpt.decoder.dec_emb.weight\n",
        "    self.projection_cls = nn.Linear(self.config.d_hidn, self.config.n_output, bias = False)\n",
        "\n",
        "  def forward(self, dec_inputs):\n",
        "    dec_outputs, dec_self_attn_probs = self.gpt(dec_inputs)           # 1. Decoder input을 입력으로 GPT 모델을 실행합니다.\n",
        "    logits_lm = self.projection_lm(dec_outputs)                       # 2. 1번 결과 값을 가지고 다음 단어를 예측하는 logits_lm을 만듭니다.\n",
        "    dec_outputs = dec_outputs[:, -1].contiguous()                     # 3. 1번 결과의 마지막 값을 Classification을 위한 값으로 사용합니다.\n",
        "    logits_cls = self.projection_cls(dec_outputs)\n",
        "    return logits_lm[:, :-1, :].contiguous(), logits_cls, dec_self_attn_probs"
      ],
      "metadata": {
        "id": "9MPQz-27dIWI"
      },
      "execution_count": 9,
      "outputs": []
    },
    {
      "cell_type": "markdown",
      "source": [
        "# 7. DataSet\n",
        "Naver 영화리뷰 감정분석 데이터 셋입니다.\n",
        "\n",
        "![image.png](data:image/png;base64,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)\n",
        "\n",
        "1. 입력 파일로부터 'label'을 읽어 들입니다.\n",
        "2. 입력 파일로부터 'doc' token을 읽어 숫자(token id)로 변경합니다.\n",
        "  - 위 그림과 같이 시작은 '[BOS]' 끝은 '[EOS]'가 되도록 합니다."
      ],
      "metadata": {
        "id": "l8iv3q_GhGSA"
      }
    },
    {
      "cell_type": "code",
      "source": [
        "\"\"\" 영화 분류 데이터셋 \"\"\"\n",
        "class MovieDataSet(torch.utils.data.Dataset):\n",
        "  def __init__(self, vocab, infile):\n",
        "    self.vocab = vocab\n",
        "    self.labels = []\n",
        "    self.sentences = []\n",
        "\n",
        "    line_cnt = 0\n",
        "    with open(infile, 'r') as f:\n",
        "      for line in f:\n",
        "        line_cnt += 1\n",
        "\n",
        "    with open(infile, 'r') as f:\n",
        "      for i, line in enumerate(tqdm(f, total = line_cnt, desc = f'Loading {infile}', unit = ' lines')):\n",
        "        data = json.loads(line)\n",
        "        self.labels.append(data['label'])                                                                                                      # 1. 입력 파일로부터 'label'을 읽어 들입니다.\n",
        "        self.sentences.append([vocab.piece_to_id('[BOS]')] + [vocab.piece_to_id(p) for p in data['doc']] + [vocab.piece_to_id('[EOS]')])       # 2. 입력 파일로부터 'doc' token을 읽어 숫자(token id)로 변경합니다.\n",
        "\n",
        "  def __len__(self):\n",
        "    assert len(self.labels) == len(self.sentences)\n",
        "    return len(self.labels)\n",
        "\n",
        "  def __getitem__(self, item):\n",
        "    return (torch.tensor(self.labels[item]),\n",
        "            torch.tensor(self.sentences[item]))"
      ],
      "metadata": {
        "id": "cWYL_Mvvg-RJ"
      },
      "execution_count": 10,
      "outputs": []
    },
    {
      "cell_type": "markdown",
      "source": [
        "#### collate_fn\n",
        "배치단위로 데이터 처리를 위한 collate_fn입니다.\n",
        "\n",
        "1. Decoder inpputs의 길이가 같아지도록 짧은 문장에 padding(0)을 추가합니다.\n",
        "  - padding은 Sentencepiece를 활용해 Vocab 만들기에서 '-pad_id=0' 옵션으로 지정한 값입니다.\n",
        "2. Label은 길이가 1 고정이므로 stack 함수를 이용해 tensor로 만듭니다."
      ],
      "metadata": {
        "id": "IA7JZK00jEBr"
      }
    },
    {
      "cell_type": "code",
      "source": [
        "\"\"\" movie data collate_fn \"\"\"\n",
        "def movie_collate_fn(inputs):\n",
        "  labels, dec_inputs = list(zip(*inputs))\n",
        "\n",
        "  dec_inputs = torch.nn.utils.rnn.pad_sequence(dec_inputs, batch_first = True, padding_value = 0) # 1. Decoder inpputs의 길이가 같아지도록 짧은 문장에 padding(0)을 추가합니다.\n",
        "\n",
        "  batch = [\n",
        "           torch.stack(labels, dim = 0),                                                          # 2. Label은 길이가 1 고정이므로 stack 함수를 이용해 tensor로 만듭니다.\n",
        "           dec_inputs\n",
        "  ]\n",
        "  return batch"
      ],
      "metadata": {
        "id": "MpSH3MOXjCRo"
      },
      "execution_count": 11,
      "outputs": []
    },
    {
      "cell_type": "markdown",
      "source": [
        "#### DataLoader\n",
        "위에서 정의한 DataSet과 collate_fn을 이용해 학습용 (train_loader), 평가용(test_loader) DataLoader를 만듭니다."
      ],
      "metadata": {
        "id": "t5MxrO6CkFVr"
      }
    },
    {
      "cell_type": "code",
      "source": [
        "\"\"\"데이터 로더\"\"\"\n",
        "batch_size = 128\n",
        "train_dataset = MovieDataSet(vocab, '/content/drive/MyDrive/colab/NLP_모델/naver_sentiment_corpus/ratings_train.json')\n",
        "train_loader = torch.utils.data.DataLoader(train_dataset, batch_size = batch_size, shuffle = True, collate_fn = movie_collate_fn)\n",
        "test_dataset = MovieDataSet(vocab, '/content/drive/MyDrive/colab/NLP_모델/naver_sentiment_corpus/ratings_test.json')\n",
        "test_loader = torch.utils.data.DataLoader(test_dataset, batch_size = batch_size, shuffle = False, collate_fn = movie_collate_fn)"
      ],
      "metadata": {
        "colab": {
          "base_uri": "https://localhost:8080/"
        },
        "id": "Fu4ITdRMkDCe",
        "outputId": "516d243e-a52a-42e0-907a-3ea792611a1e"
      },
      "execution_count": 12,
      "outputs": [
        {
          "output_type": "stream",
          "name": "stderr",
          "text": [
            "Loading /content/drive/MyDrive/colab/NLP_모델/naver_sentiment_corpus/ratings_train.json: 100%|██████████| 149995/149995 [00:06<00:00, 23571.95 lines/s]\n",
            "Loading /content/drive/MyDrive/colab/NLP_모델/naver_sentiment_corpus/ratings_test.json: 100%|██████████| 49997/49997 [00:02<00:00, 22290.19 lines/s]\n"
          ]
        }
      ]
    },
    {
      "cell_type": "markdown",
      "source": [
        "# 8. Evaluate\n",
        "학습된 MovieClassification 모델의 성능을 평가하기 위한 함수입니다. 평가는 정확도(accuracy)를 사용했습니다.\n",
        "\n",
        "1. Decoder input을 입력으로 MovieClassification을 실행합니다.\n",
        "2. 1번의 결과 중 두 번째 값이 예측 logits입니다.\n",
        "3. logits의 최대값의 index를 구합니다.\n",
        "4. 3번에게 구한 값과 labels의 값이 작은지 비교합니다."
      ],
      "metadata": {
        "id": "MMxCT7KwlU5U"
      }
    },
    {
      "cell_type": "code",
      "source": [
        "\"\"\"모델 epoch 평가\"\"\"\n",
        "def eval_epoch(config, model, data_loader):\n",
        "  matchs = []\n",
        "  model.eval()\n",
        "\n",
        "  n_word_total = 0\n",
        "  n_correct_total = 0\n",
        "  with tqdm(total = len(data_loader), desc = f'Valid') as pbar:\n",
        "    for i, value in enumerate(data_loader):\n",
        "      labels, dec_inputs = map(lambda v : v.to(config.device), value)\n",
        "\n",
        "      outputs = model(dec_inputs)                                         # 1. Decoder input을 입력으로 MovieClassification을 실행합니다.\n",
        "      logits_cls = outputs[1]                                             # 2. 1번의 결과 중 두 번째 값이 예측 logits입니다.\n",
        "      _, indices = logits_cls.max(1)                                      # 3. logits의 최대값의 index를 구합니다.\n",
        "\n",
        "      match = torch.eq(indices, labels).detach()                          # 4. 3번에게 구한 값과 labels의 값이 작은지 비교합니다.\n",
        "      matchs.extend(match.cpu())\n",
        "      accuracy = np.sum(matchs) / len(matchs) if 0 < len(matchs) else 0\n",
        "\n",
        "      pbar.update(1)\n",
        "      pbar.set_postfix_str(f'Acc: {accuracy:.3f}')\n",
        "  return np.sum(matchs) / len(matchs) if 0 < len(matchs) else 0"
      ],
      "metadata": {
        "id": "ehFfoSWzk8RS"
      },
      "execution_count": 13,
      "outputs": []
    },
    {
      "cell_type": "markdown",
      "source": [
        "# 9. Train\n",
        "MovieClassification 모델을 학습하기 위한 함수입니다.\n",
        "\n",
        "1. Decoder Input을 입력으로 MovieClassification을 실행합니다.\n",
        "2. 1번의 결과 중 두 번째 값이 예측 logits 입니다.\n",
        "3. logits 값과 labels의 값을 이용해 Loss를 계산합니다.\n",
        "4. loss, optimizer를 이용해 학습합니다."
      ],
      "metadata": {
        "id": "cGmYxpPCmv6O"
      }
    },
    {
      "cell_type": "code",
      "source": [
        "\"\"\" 모델 epcoh 학습\"\"\"\n",
        "def train_epoch(config, epoch, model, criterion_cls, optimizer, train_loader):\n",
        "  losses = []\n",
        "  model.train()\n",
        "\n",
        "  with tqdm(total=len(train_loader), desc = f'Train({epoch})') as pbar:\n",
        "    for i, value in enumerate(train_loader):\n",
        "      labels, dec_inputs = map(lambda v: v.to(config.device), value)\n",
        "\n",
        "      optimizer.zero_grad()\n",
        "      outputs = model(dec_inputs)                      # 1. Decoder Input을 입력으로 MovieClassification을 실행합니다.\n",
        "      logits_cls = outputs[1]                         # 2. 1번의 결과 중 두 번째 값이 예측 logits 입니다.\n",
        "\n",
        "      loss_cls = criterion_cls(logits_cls, labels)    # 3. logits 값과 labels의 값을 이용해 Loss를 계산합니다.\n",
        "      loss = loss_cls\n",
        "\n",
        "      loss_val = loss_cls.item()\n",
        "      losses.append(loss_val)\n",
        "\n",
        "      loss.backward()                                 # 4. loss, optimizer를 이용해 학습합니다.\n",
        "      optimizer.step()\n",
        "\n",
        "      pbar.update(1)\n",
        "      pbar.set_postfix_str(f'Loss : {loss_val:.3f} ({np.mean(losses):.3f})')\n",
        "  return np.mean(losses)"
      ],
      "metadata": {
        "id": "hOvV4diSmvPT"
      },
      "execution_count": 14,
      "outputs": []
    },
    {
      "cell_type": "markdown",
      "source": [
        "학습을 위한 추가적인 내용을 선언합니다.\n",
        "\n",
        "1. GPU 사용 여부를 확인합니다.\n",
        "2. 출력 값 개수를 정의합니다.(부정(0), 긍정(1) 2가지입니다.)\n",
        "3. learning_rate 및 학습 epoch를 선언합니다."
      ],
      "metadata": {
        "id": "bYjpt8KWo86-"
      }
    },
    {
      "cell_type": "code",
      "source": [
        "config.device = torch.device('cuda' if torch.cuda.is_available() else 'cpu')    # 1. GPU 사용 여부를 확인합니다.\n",
        "config.n_output = 2                                                             # 2. 출력 값 개수를 정의합니다.(부정(0), 긍정(1) 2가지입니다.)\n",
        "print(config)\n",
        "\n",
        "learning_rate = 5e-5                                                            # 3. learning_rate 및 학습 epoch를 선언합니다.\n",
        "n_epoch = 10"
      ],
      "metadata": {
        "colab": {
          "base_uri": "https://localhost:8080/"
        },
        "id": "jW6dmTdro7Uf",
        "outputId": "eb0ba02f-096f-4197-92b6-b93208241716"
      },
      "execution_count": 15,
      "outputs": [
        {
          "output_type": "stream",
          "name": "stdout",
          "text": [
            "{'n_dec_vocab': 8007, 'n_dec_seq': 256, 'n_layer': 6, 'd_hidn': 256, 'i_pad': 0, 'd_ff': 1024, 'n_head': 4, 'd_head': 64, 'dropout': 0.1, 'layer_norm_epsilon': 1e-12}\n"
          ]
        }
      ]
    },
    {
      "cell_type": "markdown",
      "source": [
        "위에서 선언된 내용을 이용해 학습을 실행하는 함수입니다.\n",
        "\n",
        "1. MovieClassification이 GPU 또는 CPU를 지원하도록 합니다.\n",
        "2. loss 함수를 선언합니다.\n",
        "3. optimizer를 선언합니다.\n",
        "4. 각 epoch 마다 학습을 합니다.\n",
        "5. 각 epoch 마다 평가를 합니다."
      ],
      "metadata": {
        "id": "A0b4I4mapcmP"
      }
    },
    {
      "cell_type": "code",
      "source": [
        "def train(model):\n",
        "  model.to(config.device)                                                             # 1. MovieClassification이 GPU 또는 CPU를 지원하도록 합니다.\n",
        "\n",
        "  criterion_cls = torch.nn.CrossEntropyLoss()                                         # 2. loss 함수를 선언합니다.\n",
        "  optimizer = torch.optim.Adam(model.parameters(), lr = learning_rate)                # 3. optimizer를 선언합니다.\n",
        "\n",
        "  best_epoch, best_loss, best_score = 0, 0, 0\n",
        "  losses, scores = [], []\n",
        "  for epoch in range(n_epoch):\n",
        "    loss = train_epoch(config, epoch, model, criterion_cls, optimizer, train_loader)  # 4. 각 epoch 마다 학습을 합니다.\n",
        "    score = eval_epoch(config, model, test_loader)                                    # 5. 각 epoch 마다 평가를 합니다.\n",
        "\n",
        "    losses.append(loss)\n",
        "    scores.append(score)\n",
        "\n",
        "    if best_score < score:\n",
        "      best_epoch, best_loss, best_score = epoch, loss, score\n",
        "  print(f'>>>> epoch = {best_epoch}, loss = {best_loss:.5f}, score = {best_score:.5f}')\n",
        "  return losses, scores"
      ],
      "metadata": {
        "id": "I1bM0ij9pawv"
      },
      "execution_count": 16,
      "outputs": []
    },
    {
      "cell_type": "markdown",
      "source": [
        "#### Train(No Pretrain)\n",
        "\n",
        "Pretrain을 사용하지 않고 학습을 진행합니다.\n",
        "\n",
        "1. MovieClassification을 생성합니다.\n",
        "2. 추가적인 처리없이 생성된 MovieClassification으로 학습을 진행합니다."
      ],
      "metadata": {
        "id": "GMHaFI8aqpr9"
      }
    },
    {
      "cell_type": "code",
      "source": [
        "# 약 40분 소요\n",
        "model = MovieClassification(config)   # 1. MovieClassification을 생성합니다.\n",
        "\n",
        "losses_00, scores_00 = train(model)   # 2. 추가적인 처리없이 생성된 MovieClassification으로 학습을 진행합니다."
      ],
      "metadata": {
        "colab": {
          "base_uri": "https://localhost:8080/"
        },
        "id": "SJvDJ96vqZgw",
        "outputId": "e5ba63e7-aa9e-4502-a209-4eb22d79eb2e"
      },
      "execution_count": 17,
      "outputs": [
        {
          "output_type": "stream",
          "name": "stderr",
          "text": [
            "Train(0): 100%|██████████| 1172/1172 [03:16<00:00,  5.95it/s, Loss : 0.441 (0.483)]\n",
            "Valid: 100%|██████████| 391/391 [00:47<00:00,  8.22it/s, Acc: 0.805]\n",
            "Train(1): 100%|██████████| 1172/1172 [03:16<00:00,  5.96it/s, Loss : 0.456 (0.407)]\n",
            "Valid: 100%|██████████| 391/391 [00:47<00:00,  8.20it/s, Acc: 0.818]\n",
            "Train(2): 100%|██████████| 1172/1172 [03:15<00:00,  5.99it/s, Loss : 0.409 (0.379)]\n",
            "Valid: 100%|██████████| 391/391 [00:47<00:00,  8.26it/s, Acc: 0.820]\n",
            "Train(3): 100%|██████████| 1172/1172 [03:16<00:00,  5.96it/s, Loss : 0.289 (0.358)]\n",
            "Valid: 100%|██████████| 391/391 [00:47<00:00,  8.22it/s, Acc: 0.828]\n",
            "Train(4): 100%|██████████| 1172/1172 [03:16<00:00,  5.97it/s, Loss : 0.394 (0.340)]\n",
            "Valid: 100%|██████████| 391/391 [00:47<00:00,  8.28it/s, Acc: 0.831]\n",
            "Train(5): 100%|██████████| 1172/1172 [03:16<00:00,  5.98it/s, Loss : 0.384 (0.322)]\n",
            "Valid: 100%|██████████| 391/391 [00:47<00:00,  8.26it/s, Acc: 0.835]\n",
            "Train(6): 100%|██████████| 1172/1172 [03:16<00:00,  5.97it/s, Loss : 0.258 (0.305)]\n",
            "Valid: 100%|██████████| 391/391 [00:47<00:00,  8.22it/s, Acc: 0.839]\n",
            "Train(7): 100%|██████████| 1172/1172 [03:15<00:00,  5.98it/s, Loss : 0.331 (0.288)]\n",
            "Valid: 100%|██████████| 391/391 [00:47<00:00,  8.31it/s, Acc: 0.837]\n",
            "Train(8): 100%|██████████| 1172/1172 [03:16<00:00,  5.97it/s, Loss : 0.235 (0.272)]\n",
            "Valid: 100%|██████████| 391/391 [00:47<00:00,  8.27it/s, Acc: 0.838]\n",
            "Train(9): 100%|██████████| 1172/1172 [03:16<00:00,  5.98it/s, Loss : 0.266 (0.253)]\n",
            "Valid: 100%|██████████| 391/391 [00:47<00:00,  8.25it/s, Acc: 0.838]\n"
          ]
        },
        {
          "output_type": "stream",
          "name": "stdout",
          "text": [
            ">>>> epoch = 6, loss = 0.30473, score = 0.83891\n"
          ]
        }
      ]
    },
    {
      "cell_type": "markdown",
      "source": [
        "#### Train(5 epoch Pretrain)\n",
        "\n",
        "5 epoch Pretrain된 모델을 이용해 학습을 진행합니다.\n",
        "\n",
        "1. MovieClassification을 생성합니다.\n",
        "2. GPT(Generative Pre-Training) 구현하기_1에서 pretrian 모델을 로드합니다.\n",
        "3. MovieClassification으로 락습을 진행합니다."
      ],
      "metadata": {
        "id": "r1HcpBiZrh1J"
      }
    },
    {
      "cell_type": "code",
      "source": [
        "# 약 40분 소요\n",
        "model = MovieClassification(config)                                                 # 1. MovieClassification을 생성합니다.\n",
        "\n",
        "\n",
        "save_pretrain = '/content/drive/MyDrive/colab/NLP_모델/GPT/save_gpt_pretrain.json'  # 2. GPT(Generative Pre-Training) 구현하기_1에서 pretrian 모델을 로드합니다.\n",
        "model.gpt.load(save_pretrain)\n",
        "\n",
        "losses_10, scores_10 = train(model)                                                 # 3. MovieClassification으로 락습을 진행합니다."
      ],
      "metadata": {
        "colab": {
          "base_uri": "https://localhost:8080/"
        },
        "id": "RaxD9Gersotv",
        "outputId": "8ee03949-fae0-4add-d48f-0180d6af7f3b"
      },
      "execution_count": 18,
      "outputs": [
        {
          "output_type": "stream",
          "name": "stderr",
          "text": [
            "Train(0): 100%|██████████| 1172/1172 [03:16<00:00,  5.96it/s, Loss : 0.407 (0.473)]\n",
            "Valid: 100%|██████████| 391/391 [00:47<00:00,  8.18it/s, Acc: 0.815]\n",
            "Train(1): 100%|██████████| 1172/1172 [03:16<00:00,  5.96it/s, Loss : 0.467 (0.385)]\n",
            "Valid: 100%|██████████| 391/391 [00:47<00:00,  8.18it/s, Acc: 0.832]\n",
            "Valid: 100%|██████████| 391/391 [00:47<00:00,  8.27it/s, Acc: 0.831]\n",
            "Train(3): 100%|██████████| 1172/1172 [03:16<00:00,  5.98it/s, Loss : 0.440 (0.334)]\n",
            "Valid: 100%|██████████| 391/391 [00:47<00:00,  8.20it/s, Acc: 0.843]\n",
            "Train(4): 100%|██████████| 1172/1172 [03:16<00:00,  5.98it/s, Loss : 0.289 (0.315)]\n",
            "Valid: 100%|██████████| 391/391 [00:47<00:00,  8.19it/s, Acc: 0.842]\n",
            "Train(5): 100%|██████████| 1172/1172 [03:16<00:00,  5.97it/s, Loss : 0.239 (0.299)]\n",
            "Valid: 100%|██████████| 391/391 [00:47<00:00,  8.21it/s, Acc: 0.849]\n",
            "Train(6): 100%|██████████| 1172/1172 [03:15<00:00,  5.98it/s, Loss : 0.226 (0.284)]\n",
            "Valid: 100%|██████████| 391/391 [00:47<00:00,  8.24it/s, Acc: 0.853]\n",
            "Train(7): 100%|██████████| 1172/1172 [03:16<00:00,  5.98it/s, Loss : 0.285 (0.269)]\n",
            "Valid: 100%|██████████| 391/391 [00:47<00:00,  8.21it/s, Acc: 0.851]\n",
            "Train(8): 100%|██████████| 1172/1172 [03:16<00:00,  5.98it/s, Loss : 0.293 (0.257)]\n",
            "Valid: 100%|██████████| 391/391 [00:47<00:00,  8.25it/s, Acc: 0.855]\n",
            "Train(9): 100%|██████████| 1172/1172 [03:16<00:00,  5.98it/s, Loss : 0.260 (0.244)]\n",
            "Valid: 100%|██████████| 391/391 [00:47<00:00,  8.23it/s, Acc: 0.855]\n"
          ]
        },
        {
          "output_type": "stream",
          "name": "stdout",
          "text": [
            ">>>> epoch = 8, loss = 0.25741, score = 0.85477\n"
          ]
        }
      ]
    },
    {
      "cell_type": "markdown",
      "source": [
        "# 10. Result\n",
        "학습 결과 및 평가결과는 아래와 같습니다.\n",
        "- Pretrain을 안한 경우는 정확도(score)가 83.8% 정도 나왔습니다.\n",
        "- Pretrain을 5epoch 한 경우는 정확도(score)가 85.4% 정도 나왔습니다."
      ],
      "metadata": {
        "id": "QVwgsCJWts7Y"
      }
    },
    {
      "cell_type": "code",
      "source": [
        "# table\n",
        "data = {\n",
        "    'loss_00' : losses_00,\n",
        "    'score_00' : scores_00,\n",
        "    'loss_05' : losses_05,\n",
        "    'score_05' : scores_05\n",
        "}\n",
        "df = pd.DataFrame(data)\n",
        "display(df)\n",
        "\n",
        "# graph\n",
        "plt.figure(figsize = [12, 4])\n",
        "plt.plot(scores_00, label = 'score_00')\n",
        "plt.plot(scores_05, label = 'score_05')\n",
        "plt.legend()\n",
        "plt.xlabel('Epoch')\n",
        "plt.ylabel('Value')\n",
        "plt.show()"
      ],
      "metadata": {
        "colab": {
          "base_uri": "https://localhost:8080/",
          "height": 625
        },
        "id": "7LFI2QaCtsDE",
        "outputId": "0b70b533-c927-4ae5-d83d-09512f702356"
      },
      "execution_count": 19,
      "outputs": [
        {
          "output_type": "display_data",
          "data": {
            "text/html": [
              "\n",
              "  <div id=\"df-beaa5bda-50d2-46e7-b275-4d5042200ecd\">\n",
              "    <div class=\"colab-df-container\">\n",
              "      <div>\n",
              "<style scoped>\n",
              "    .dataframe tbody tr th:only-of-type {\n",
              "        vertical-align: middle;\n",
              "    }\n",
              "\n",
              "    .dataframe tbody tr th {\n",
              "        vertical-align: top;\n",
              "    }\n",
              "\n",
              "    .dataframe thead th {\n",
              "        text-align: right;\n",
              "    }\n",
              "</style>\n",
              "<table border=\"1\" class=\"dataframe\">\n",
              "  <thead>\n",
              "    <tr style=\"text-align: right;\">\n",
              "      <th></th>\n",
              "      <th>loss_00</th>\n",
              "      <th>score_00</th>\n",
              "      <th>loss_10</th>\n",
              "      <th>score_10</th>\n",
              "    </tr>\n",
              "  </thead>\n",
              "  <tbody>\n",
              "    <tr>\n",
              "      <th>0</th>\n",
              "      <td>0.482853</td>\n",
              "      <td>0.805228</td>\n",
              "      <td>0.473276</td>\n",
              "      <td>0.814969</td>\n",
              "    </tr>\n",
              "    <tr>\n",
              "      <th>1</th>\n",
              "      <td>0.406750</td>\n",
              "      <td>0.817709</td>\n",
              "      <td>0.385435</td>\n",
              "      <td>0.832410</td>\n",
              "    </tr>\n",
              "    <tr>\n",
              "      <th>2</th>\n",
              "      <td>0.378721</td>\n",
              "      <td>0.819729</td>\n",
              "      <td>0.354425</td>\n",
              "      <td>0.831470</td>\n",
              "    </tr>\n",
              "    <tr>\n",
              "      <th>3</th>\n",
              "      <td>0.357609</td>\n",
              "      <td>0.827530</td>\n",
              "      <td>0.333708</td>\n",
              "      <td>0.843291</td>\n",
              "    </tr>\n",
              "    <tr>\n",
              "      <th>4</th>\n",
              "      <td>0.339968</td>\n",
              "      <td>0.831110</td>\n",
              "      <td>0.315008</td>\n",
              "      <td>0.842451</td>\n",
              "    </tr>\n",
              "    <tr>\n",
              "      <th>5</th>\n",
              "      <td>0.321889</td>\n",
              "      <td>0.835290</td>\n",
              "      <td>0.299317</td>\n",
              "      <td>0.848891</td>\n",
              "    </tr>\n",
              "    <tr>\n",
              "      <th>6</th>\n",
              "      <td>0.304734</td>\n",
              "      <td>0.838910</td>\n",
              "      <td>0.284330</td>\n",
              "      <td>0.853391</td>\n",
              "    </tr>\n",
              "    <tr>\n",
              "      <th>7</th>\n",
              "      <td>0.288398</td>\n",
              "      <td>0.837190</td>\n",
              "      <td>0.269250</td>\n",
              "      <td>0.851131</td>\n",
              "    </tr>\n",
              "    <tr>\n",
              "      <th>8</th>\n",
              "      <td>0.271541</td>\n",
              "      <td>0.838130</td>\n",
              "      <td>0.257409</td>\n",
              "      <td>0.854771</td>\n",
              "    </tr>\n",
              "    <tr>\n",
              "      <th>9</th>\n",
              "      <td>0.252948</td>\n",
              "      <td>0.838430</td>\n",
              "      <td>0.243976</td>\n",
              "      <td>0.854571</td>\n",
              "    </tr>\n",
              "  </tbody>\n",
              "</table>\n",
              "</div>\n",
              "      <button class=\"colab-df-convert\" onclick=\"convertToInteractive('df-beaa5bda-50d2-46e7-b275-4d5042200ecd')\"\n",
              "              title=\"Convert this dataframe to an interactive table.\"\n",
              "              style=\"display:none;\">\n",
              "        \n",
              "  <svg xmlns=\"http://www.w3.org/2000/svg\" height=\"24px\"viewBox=\"0 0 24 24\"\n",
              "       width=\"24px\">\n",
              "    <path d=\"M0 0h24v24H0V0z\" fill=\"none\"/>\n",
              "    <path d=\"M18.56 5.44l.94 2.06.94-2.06 2.06-.94-2.06-.94-.94-2.06-.94 2.06-2.06.94zm-11 1L8.5 8.5l.94-2.06 2.06-.94-2.06-.94L8.5 2.5l-.94 2.06-2.06.94zm10 10l.94 2.06.94-2.06 2.06-.94-2.06-.94-.94-2.06-.94 2.06-2.06.94z\"/><path d=\"M17.41 7.96l-1.37-1.37c-.4-.4-.92-.59-1.43-.59-.52 0-1.04.2-1.43.59L10.3 9.45l-7.72 7.72c-.78.78-.78 2.05 0 2.83L4 21.41c.39.39.9.59 1.41.59.51 0 1.02-.2 1.41-.59l7.78-7.78 2.81-2.81c.8-.78.8-2.07 0-2.86zM5.41 20L4 18.59l7.72-7.72 1.47 1.35L5.41 20z\"/>\n",
              "  </svg>\n",
              "      </button>\n",
              "      \n",
              "  <style>\n",
              "    .colab-df-container {\n",
              "      display:flex;\n",
              "      flex-wrap:wrap;\n",
              "      gap: 12px;\n",
              "    }\n",
              "\n",
              "    .colab-df-convert {\n",
              "      background-color: #E8F0FE;\n",
              "      border: none;\n",
              "      border-radius: 50%;\n",
              "      cursor: pointer;\n",
              "      display: none;\n",
              "      fill: #1967D2;\n",
              "      height: 32px;\n",
              "      padding: 0 0 0 0;\n",
              "      width: 32px;\n",
              "    }\n",
              "\n",
              "    .colab-df-convert:hover {\n",
              "      background-color: #E2EBFA;\n",
              "      box-shadow: 0px 1px 2px rgba(60, 64, 67, 0.3), 0px 1px 3px 1px rgba(60, 64, 67, 0.15);\n",
              "      fill: #174EA6;\n",
              "    }\n",
              "\n",
              "    [theme=dark] .colab-df-convert {\n",
              "      background-color: #3B4455;\n",
              "      fill: #D2E3FC;\n",
              "    }\n",
              "\n",
              "    [theme=dark] .colab-df-convert:hover {\n",
              "      background-color: #434B5C;\n",
              "      box-shadow: 0px 1px 3px 1px rgba(0, 0, 0, 0.15);\n",
              "      filter: drop-shadow(0px 1px 2px rgba(0, 0, 0, 0.3));\n",
              "      fill: #FFFFFF;\n",
              "    }\n",
              "  </style>\n",
              "\n",
              "      <script>\n",
              "        const buttonEl =\n",
              "          document.querySelector('#df-beaa5bda-50d2-46e7-b275-4d5042200ecd button.colab-df-convert');\n",
              "        buttonEl.style.display =\n",
              "          google.colab.kernel.accessAllowed ? 'block' : 'none';\n",
              "\n",
              "        async function convertToInteractive(key) {\n",
              "          const element = document.querySelector('#df-beaa5bda-50d2-46e7-b275-4d5042200ecd');\n",
              "          const dataTable =\n",
              "            await google.colab.kernel.invokeFunction('convertToInteractive',\n",
              "                                                     [key], {});\n",
              "          if (!dataTable) return;\n",
              "\n",
              "          const docLinkHtml = 'Like what you see? Visit the ' +\n",
              "            '<a target=\"_blank\" href=https://colab.research.google.com/notebooks/data_table.ipynb>data table notebook</a>'\n",
              "            + ' to learn more about interactive tables.';\n",
              "          element.innerHTML = '';\n",
              "          dataTable['output_type'] = 'display_data';\n",
              "          await google.colab.output.renderOutput(dataTable, element);\n",
              "          const docLink = document.createElement('div');\n",
              "          docLink.innerHTML = docLinkHtml;\n",
              "          element.appendChild(docLink);\n",
              "        }\n",
              "      </script>\n",
              "    </div>\n",
              "  </div>\n",
              "  "
            ],
            "text/plain": [
              "    loss_00  score_00   loss_10  score_10\n",
              "0  0.482853  0.805228  0.473276  0.814969\n",
              "1  0.406750  0.817709  0.385435  0.832410\n",
              "2  0.378721  0.819729  0.354425  0.831470\n",
              "3  0.357609  0.827530  0.333708  0.843291\n",
              "4  0.339968  0.831110  0.315008  0.842451\n",
              "5  0.321889  0.835290  0.299317  0.848891\n",
              "6  0.304734  0.838910  0.284330  0.853391\n",
              "7  0.288398  0.837190  0.269250  0.851131\n",
              "8  0.271541  0.838130  0.257409  0.854771\n",
              "9  0.252948  0.838430  0.243976  0.854571"
            ]
          },
          "metadata": {}
        },
        {
          "output_type": "display_data",
          "data": {
            "image/png": "[encoded data removed]",
            "text/plain": [
              "<Figure size 864x288 with 1 Axes>"
            ]
          },
          "metadata": {
            "needs_background": "light"
          }
        }
      ]
    }
  ]
}
