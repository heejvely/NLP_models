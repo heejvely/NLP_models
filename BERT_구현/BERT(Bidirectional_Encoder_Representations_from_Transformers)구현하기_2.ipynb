{
  "nbformat": 4,
  "nbformat_minor": 0,
  "metadata": {
    "colab": {
      "name": "BERT(Bidirectional Encoder Representations from Transformers)구현하기_2.ipynb",
      "provenance": [],
      "collapsed_sections": [],
      "machine_shape": "hm",
      "mount_file_id": "1oRk--M_yV98fO_Q_NYJBKgMBB-09QEph",
      "authorship_tag": "ABX9TyOwJRL2rrohKJ1Xk5LVumm7",
      "include_colab_link": true
    },
    "kernelspec": {
      "name": "python3",
      "display_name": "Python 3"
    },
    "language_info": {
      "name": "python"
    },
    "accelerator": "GPU"
  },
  "cells": [
    {
      "cell_type": "markdown",
      "metadata": {
        "id": "view-in-github",
        "colab_type": "text"
      },
      "source": [
        "<a href=\"https://colab.research.google.com/github/heejvely/NLP_models/blob/main/BERT(Bidirectional_Encoder_Representations_from_Transformers)%EA%B5%AC%ED%98%84%ED%95%98%EA%B8%B0_2.ipynb\" target=\"_parent\"><img src=\"https://colab.research.google.com/assets/colab-badge.svg\" alt=\"Open In Colab\"/></a>"
      ]
    },
    {
      "cell_type": "markdown",
      "source": [
        "* 코드 참조: https://paul-hyun.github.io/bert-02/"
      ],
      "metadata": {
        "id": "57MZBRfw11x4"
      }
    },
    {
      "cell_type": "markdown",
      "source": [
        "# 0. Pip install\n",
        "필요한 패키지를 pip를 이용해서 설치합니다."
      ],
      "metadata": {
        "id": "Y17Jpn301_92"
      }
    },
    {
      "cell_type": "code",
      "execution_count": 1,
      "metadata": {
        "colab": {
          "base_uri": "https://localhost:8080/"
        },
        "id": "8uuxkKaZ0lun",
        "outputId": "fe7957a1-2328-49bf-d0c1-b2cde05eedbd"
      },
      "outputs": [
        {
          "output_type": "stream",
          "name": "stdout",
          "text": [
            "Collecting sentencepiece\n",
            "  Downloading sentencepiece-0.1.96-cp37-cp37m-manylinux_2_17_x86_64.manylinux2014_x86_64.whl (1.2 MB)\n",
            "\u001b[?25l\r\u001b[K     |▎                               | 10 kB 30.7 MB/s eta 0:00:01\r\u001b[K     |▌                               | 20 kB 37.4 MB/s eta 0:00:01\r\u001b[K     |▉                               | 30 kB 22.4 MB/s eta 0:00:01\r\u001b[K     |█                               | 40 kB 17.5 MB/s eta 0:00:01\r\u001b[K     |█▍                              | 51 kB 10.8 MB/s eta 0:00:01\r\u001b[K     |█▋                              | 61 kB 11.8 MB/s eta 0:00:01\r\u001b[K     |██                              | 71 kB 10.8 MB/s eta 0:00:01\r\u001b[K     |██▏                             | 81 kB 12.0 MB/s eta 0:00:01\r\u001b[K     |██▍                             | 92 kB 12.1 MB/s eta 0:00:01\r\u001b[K     |██▊                             | 102 kB 10.2 MB/s eta 0:00:01\r\u001b[K     |███                             | 112 kB 10.2 MB/s eta 0:00:01\r\u001b[K     |███▎                            | 122 kB 10.2 MB/s eta 0:00:01\r\u001b[K     |███▌                            | 133 kB 10.2 MB/s eta 0:00:01\r\u001b[K     |███▉                            | 143 kB 10.2 MB/s eta 0:00:01\r\u001b[K     |████                            | 153 kB 10.2 MB/s eta 0:00:01\r\u001b[K     |████▎                           | 163 kB 10.2 MB/s eta 0:00:01\r\u001b[K     |████▋                           | 174 kB 10.2 MB/s eta 0:00:01\r\u001b[K     |████▉                           | 184 kB 10.2 MB/s eta 0:00:01\r\u001b[K     |█████▏                          | 194 kB 10.2 MB/s eta 0:00:01\r\u001b[K     |█████▍                          | 204 kB 10.2 MB/s eta 0:00:01\r\u001b[K     |█████▊                          | 215 kB 10.2 MB/s eta 0:00:01\r\u001b[K     |██████                          | 225 kB 10.2 MB/s eta 0:00:01\r\u001b[K     |██████▏                         | 235 kB 10.2 MB/s eta 0:00:01\r\u001b[K     |██████▌                         | 245 kB 10.2 MB/s eta 0:00:01\r\u001b[K     |██████▊                         | 256 kB 10.2 MB/s eta 0:00:01\r\u001b[K     |███████                         | 266 kB 10.2 MB/s eta 0:00:01\r\u001b[K     |███████▎                        | 276 kB 10.2 MB/s eta 0:00:01\r\u001b[K     |███████▋                        | 286 kB 10.2 MB/s eta 0:00:01\r\u001b[K     |███████▉                        | 296 kB 10.2 MB/s eta 0:00:01\r\u001b[K     |████████                        | 307 kB 10.2 MB/s eta 0:00:01\r\u001b[K     |████████▍                       | 317 kB 10.2 MB/s eta 0:00:01\r\u001b[K     |████████▋                       | 327 kB 10.2 MB/s eta 0:00:01\r\u001b[K     |█████████                       | 337 kB 10.2 MB/s eta 0:00:01\r\u001b[K     |█████████▏                      | 348 kB 10.2 MB/s eta 0:00:01\r\u001b[K     |█████████▌                      | 358 kB 10.2 MB/s eta 0:00:01\r\u001b[K     |█████████▊                      | 368 kB 10.2 MB/s eta 0:00:01\r\u001b[K     |██████████                      | 378 kB 10.2 MB/s eta 0:00:01\r\u001b[K     |██████████▎                     | 389 kB 10.2 MB/s eta 0:00:01\r\u001b[K     |██████████▌                     | 399 kB 10.2 MB/s eta 0:00:01\r\u001b[K     |██████████▉                     | 409 kB 10.2 MB/s eta 0:00:01\r\u001b[K     |███████████                     | 419 kB 10.2 MB/s eta 0:00:01\r\u001b[K     |███████████▍                    | 430 kB 10.2 MB/s eta 0:00:01\r\u001b[K     |███████████▋                    | 440 kB 10.2 MB/s eta 0:00:01\r\u001b[K     |███████████▉                    | 450 kB 10.2 MB/s eta 0:00:01\r\u001b[K     |████████████▏                   | 460 kB 10.2 MB/s eta 0:00:01\r\u001b[K     |████████████▍                   | 471 kB 10.2 MB/s eta 0:00:01\r\u001b[K     |████████████▊                   | 481 kB 10.2 MB/s eta 0:00:01\r\u001b[K     |█████████████                   | 491 kB 10.2 MB/s eta 0:00:01\r\u001b[K     |█████████████▎                  | 501 kB 10.2 MB/s eta 0:00:01\r\u001b[K     |█████████████▌                  | 512 kB 10.2 MB/s eta 0:00:01\r\u001b[K     |█████████████▊                  | 522 kB 10.2 MB/s eta 0:00:01\r\u001b[K     |██████████████                  | 532 kB 10.2 MB/s eta 0:00:01\r\u001b[K     |██████████████▎                 | 542 kB 10.2 MB/s eta 0:00:01\r\u001b[K     |██████████████▋                 | 552 kB 10.2 MB/s eta 0:00:01\r\u001b[K     |██████████████▉                 | 563 kB 10.2 MB/s eta 0:00:01\r\u001b[K     |███████████████▏                | 573 kB 10.2 MB/s eta 0:00:01\r\u001b[K     |███████████████▍                | 583 kB 10.2 MB/s eta 0:00:01\r\u001b[K     |███████████████▋                | 593 kB 10.2 MB/s eta 0:00:01\r\u001b[K     |████████████████                | 604 kB 10.2 MB/s eta 0:00:01\r\u001b[K     |████████████████▏               | 614 kB 10.2 MB/s eta 0:00:01\r\u001b[K     |████████████████▌               | 624 kB 10.2 MB/s eta 0:00:01\r\u001b[K     |████████████████▊               | 634 kB 10.2 MB/s eta 0:00:01\r\u001b[K     |█████████████████               | 645 kB 10.2 MB/s eta 0:00:01\r\u001b[K     |█████████████████▎              | 655 kB 10.2 MB/s eta 0:00:01\r\u001b[K     |█████████████████▌              | 665 kB 10.2 MB/s eta 0:00:01\r\u001b[K     |█████████████████▉              | 675 kB 10.2 MB/s eta 0:00:01\r\u001b[K     |██████████████████              | 686 kB 10.2 MB/s eta 0:00:01\r\u001b[K     |██████████████████▍             | 696 kB 10.2 MB/s eta 0:00:01\r\u001b[K     |██████████████████▋             | 706 kB 10.2 MB/s eta 0:00:01\r\u001b[K     |███████████████████             | 716 kB 10.2 MB/s eta 0:00:01\r\u001b[K     |███████████████████▏            | 727 kB 10.2 MB/s eta 0:00:01\r\u001b[K     |███████████████████▍            | 737 kB 10.2 MB/s eta 0:00:01\r\u001b[K     |███████████████████▊            | 747 kB 10.2 MB/s eta 0:00:01\r\u001b[K     |████████████████████            | 757 kB 10.2 MB/s eta 0:00:01\r\u001b[K     |████████████████████▎           | 768 kB 10.2 MB/s eta 0:00:01\r\u001b[K     |████████████████████▌           | 778 kB 10.2 MB/s eta 0:00:01\r\u001b[K     |████████████████████▉           | 788 kB 10.2 MB/s eta 0:00:01\r\u001b[K     |█████████████████████           | 798 kB 10.2 MB/s eta 0:00:01\r\u001b[K     |█████████████████████▎          | 808 kB 10.2 MB/s eta 0:00:01\r\u001b[K     |█████████████████████▋          | 819 kB 10.2 MB/s eta 0:00:01\r\u001b[K     |█████████████████████▉          | 829 kB 10.2 MB/s eta 0:00:01\r\u001b[K     |██████████████████████▏         | 839 kB 10.2 MB/s eta 0:00:01\r\u001b[K     |██████████████████████▍         | 849 kB 10.2 MB/s eta 0:00:01\r\u001b[K     |██████████████████████▊         | 860 kB 10.2 MB/s eta 0:00:01\r\u001b[K     |███████████████████████         | 870 kB 10.2 MB/s eta 0:00:01\r\u001b[K     |███████████████████████▏        | 880 kB 10.2 MB/s eta 0:00:01\r\u001b[K     |███████████████████████▌        | 890 kB 10.2 MB/s eta 0:00:01\r\u001b[K     |███████████████████████▊        | 901 kB 10.2 MB/s eta 0:00:01\r\u001b[K     |████████████████████████        | 911 kB 10.2 MB/s eta 0:00:01\r\u001b[K     |████████████████████████▎       | 921 kB 10.2 MB/s eta 0:00:01\r\u001b[K     |████████████████████████▋       | 931 kB 10.2 MB/s eta 0:00:01\r\u001b[K     |████████████████████████▉       | 942 kB 10.2 MB/s eta 0:00:01\r\u001b[K     |█████████████████████████       | 952 kB 10.2 MB/s eta 0:00:01\r\u001b[K     |█████████████████████████▍      | 962 kB 10.2 MB/s eta 0:00:01\r\u001b[K     |█████████████████████████▋      | 972 kB 10.2 MB/s eta 0:00:01\r\u001b[K     |██████████████████████████      | 983 kB 10.2 MB/s eta 0:00:01\r\u001b[K     |██████████████████████████▏     | 993 kB 10.2 MB/s eta 0:00:01\r\u001b[K     |██████████████████████████▌     | 1.0 MB 10.2 MB/s eta 0:00:01\r\u001b[K     |██████████████████████████▊     | 1.0 MB 10.2 MB/s eta 0:00:01\r\u001b[K     |███████████████████████████     | 1.0 MB 10.2 MB/s eta 0:00:01\r\u001b[K     |███████████████████████████▎    | 1.0 MB 10.2 MB/s eta 0:00:01\r\u001b[K     |███████████████████████████▌    | 1.0 MB 10.2 MB/s eta 0:00:01\r\u001b[K     |███████████████████████████▉    | 1.1 MB 10.2 MB/s eta 0:00:01\r\u001b[K     |████████████████████████████    | 1.1 MB 10.2 MB/s eta 0:00:01\r\u001b[K     |████████████████████████████▍   | 1.1 MB 10.2 MB/s eta 0:00:01\r\u001b[K     |████████████████████████████▋   | 1.1 MB 10.2 MB/s eta 0:00:01\r\u001b[K     |████████████████████████████▉   | 1.1 MB 10.2 MB/s eta 0:00:01\r\u001b[K     |█████████████████████████████▏  | 1.1 MB 10.2 MB/s eta 0:00:01\r\u001b[K     |█████████████████████████████▍  | 1.1 MB 10.2 MB/s eta 0:00:01\r\u001b[K     |█████████████████████████████▊  | 1.1 MB 10.2 MB/s eta 0:00:01\r\u001b[K     |██████████████████████████████  | 1.1 MB 10.2 MB/s eta 0:00:01\r\u001b[K     |██████████████████████████████▎ | 1.1 MB 10.2 MB/s eta 0:00:01\r\u001b[K     |██████████████████████████████▌ | 1.2 MB 10.2 MB/s eta 0:00:01\r\u001b[K     |██████████████████████████████▊ | 1.2 MB 10.2 MB/s eta 0:00:01\r\u001b[K     |███████████████████████████████ | 1.2 MB 10.2 MB/s eta 0:00:01\r\u001b[K     |███████████████████████████████▎| 1.2 MB 10.2 MB/s eta 0:00:01\r\u001b[K     |███████████████████████████████▋| 1.2 MB 10.2 MB/s eta 0:00:01\r\u001b[K     |███████████████████████████████▉| 1.2 MB 10.2 MB/s eta 0:00:01\r\u001b[K     |████████████████████████████████| 1.2 MB 10.2 MB/s \n",
            "\u001b[?25hInstalling collected packages: sentencepiece\n",
            "Successfully installed sentencepiece-0.1.96\n",
            "Collecting wget\n",
            "  Downloading wget-3.2.zip (10 kB)\n",
            "Building wheels for collected packages: wget\n",
            "  Building wheel for wget (setup.py) ... \u001b[?25l\u001b[?25hdone\n",
            "  Created wheel for wget: filename=wget-3.2-py3-none-any.whl size=9672 sha256=46c6574a411cb854edf66598e703c6cb6dffbefc03b92018ee93db10f17d0577\n",
            "  Stored in directory: /root/.cache/pip/wheels/a1/b6/7c/0e63e34eb06634181c63adacca38b79ff8f35c37e3c13e3c02\n",
            "Successfully built wget\n",
            "Installing collected packages: wget\n",
            "Successfully installed wget-3.2\n"
          ]
        }
      ],
      "source": [
        "!pip install sentencepiece\n",
        "!pip install wget"
      ]
    },
    {
      "cell_type": "code",
      "source": [
        "# gpu 설정\n",
        "!nvidia-smi"
      ],
      "metadata": {
        "colab": {
          "base_uri": "https://localhost:8080/"
        },
        "id": "Yuz9ZYxx3D4J",
        "outputId": "6571921a-1817-4236-b617-27fd4338cf20"
      },
      "execution_count": 2,
      "outputs": [
        {
          "output_type": "stream",
          "name": "stdout",
          "text": [
            "Mon Jan  3 08:45:23 2022       \n",
            "+-----------------------------------------------------------------------------+\n",
            "| NVIDIA-SMI 495.44       Driver Version: 460.32.03    CUDA Version: 11.2     |\n",
            "|-------------------------------+----------------------+----------------------+\n",
            "| GPU  Name        Persistence-M| Bus-Id        Disp.A | Volatile Uncorr. ECC |\n",
            "| Fan  Temp  Perf  Pwr:Usage/Cap|         Memory-Usage | GPU-Util  Compute M. |\n",
            "|                               |                      |               MIG M. |\n",
            "|===============================+======================+======================|\n",
            "|   0  Tesla P100-PCIE...  Off  | 00000000:00:04.0 Off |                    0 |\n",
            "| N/A   34C    P0    26W / 250W |      0MiB / 16280MiB |      0%      Default |\n",
            "|                               |                      |                  N/A |\n",
            "+-------------------------------+----------------------+----------------------+\n",
            "                                                                               \n",
            "+-----------------------------------------------------------------------------+\n",
            "| Processes:                                                                  |\n",
            "|  GPU   GI   CI        PID   Type   Process name                  GPU Memory |\n",
            "|        ID   ID                                                   Usage      |\n",
            "|=============================================================================|\n",
            "|  No running processes found                                                 |\n",
            "+-----------------------------------------------------------------------------+\n"
          ]
        }
      ]
    },
    {
      "cell_type": "markdown",
      "source": [
        "# 1. Imports"
      ],
      "metadata": {
        "id": "BMZr7cZb2Pku"
      }
    },
    {
      "cell_type": "code",
      "source": [
        "import os\n",
        "import numpy as np\n",
        "import math\n",
        "from random import random, randrange, randint, shuffle, choice\n",
        "import matplotlib.pyplot as plt\n",
        "import json\n",
        "import pandas as pd\n",
        "from IPython.display import display\n",
        "from tqdm import tqdm, tqdm_notebook, trange\n",
        "import sentencepiece as spm\n",
        "import wget\n",
        "\n",
        "import torch\n",
        "import torch.nn as nn\n",
        "import torch.nn.functional as F"
      ],
      "metadata": {
        "id": "ztzlRADZ2Kp2"
      },
      "execution_count": 3,
      "outputs": []
    },
    {
      "cell_type": "markdown",
      "source": [
        "# 2. Vocab 및 입력\n",
        "Sentencepiece를 활용해 Vocab 만들기를 통해 만들어 놓은 vocab을 로딩합니다."
      ],
      "metadata": {
        "id": "gazXMU-n23hV"
      }
    },
    {
      "cell_type": "code",
      "source": [
        "import sentencepiece as spm\n",
        "# vocab loading\n",
        "vocab_file = '/content/drive/MyDrive/colab/NLP_모델/kowiki_corpus/kowiki.model'\n",
        "vocab = spm.SentencePieceProcessor()\n",
        "vocab.load(vocab_file)"
      ],
      "metadata": {
        "colab": {
          "base_uri": "https://localhost:8080/"
        },
        "id": "XVGpVViZ2_2B",
        "outputId": "f4961dd8-70dc-43f0-c507-77a395b96c6a"
      },
      "execution_count": 4,
      "outputs": [
        {
          "output_type": "execute_result",
          "data": {
            "text/plain": [
              "True"
            ]
          },
          "metadata": {},
          "execution_count": 4
        }
      ]
    },
    {
      "cell_type": "markdown",
      "source": [
        "# 3. Config\n",
        "\n",
        "- Transformer와 파라미터를 동일하게 설정\n",
        "- BERT는 Encoder만 사용하므로 항목 중 Decoder 부분 제거\n",
        "- 기본 입력에 추가로 segment 정보를 입력 받는데, Segment 수를 정의하는 n_seg_type을 추가로 정의"
      ],
      "metadata": {
        "id": "IHkkJE6j2gnd"
      }
    },
    {
      "cell_type": "code",
      "source": [
        "\"\"\"configuration json을 읽어들이는 class\"\"\"\n",
        "class Config(dict):\n",
        "  __getattr__ = dict.__getitem__\n",
        "  __setarrt__ = dict.__setitem__\n",
        "\n",
        "  @classmethod\n",
        "  def load(cls, file):\n",
        "    with open(file, 'r') as f:\n",
        "      config = json.loads(f.read())\n",
        "      return Config(config)"
      ],
      "metadata": {
        "id": "17txb_Vk3qpE"
      },
      "execution_count": 5,
      "outputs": []
    },
    {
      "cell_type": "code",
      "source": [
        "config = Config({\n",
        "    'n_enc_vocab': len(vocab),\n",
        "    'n_enc_seq': 256,\n",
        "    'n_seg_type': 2,\n",
        "    'n_layer': 6,\n",
        "    'd_hidn': 256,\n",
        "    'i_pad': 0,\n",
        "    'd_ff': 1024,\n",
        "    'n_head': 4,\n",
        "    'd_head': 64,\n",
        "    'dropout': 0.1,\n",
        "    'layer_norm_epsilon': 1e-12\n",
        "})\n",
        "print(config)"
      ],
      "metadata": {
        "colab": {
          "base_uri": "https://localhost:8080/"
        },
        "id": "YaB4Q0v42WB1",
        "outputId": "7828a1e3-6e0f-4d3c-830a-46e3b1646538"
      },
      "execution_count": 6,
      "outputs": [
        {
          "output_type": "stream",
          "name": "stdout",
          "text": [
            "{'n_enc_vocab': 8007, 'n_enc_seq': 256, 'n_seg_type': 2, 'n_layer': 6, 'd_hidn': 256, 'i_pad': 0, 'd_ff': 1024, 'n_head': 4, 'd_head': 64, 'dropout': 0.1, 'layer_norm_epsilon': 1e-12}\n"
          ]
        }
      ]
    },
    {
      "cell_type": "markdown",
      "source": [
        "# 4. Common Class\n",
        "공통으로 사용되는 Class 및 함수"
      ],
      "metadata": {
        "id": "g_fPa3K031qc"
      }
    },
    {
      "cell_type": "code",
      "source": [
        "\"\"\"sinusoid position encoding\"\"\"\n",
        "def get_sinusoid_encoding_table(n_seq, d_hidn):\n",
        "  def cal_angle(position, i_hidn):\n",
        "    return position / np.power(10000, 2 * (i_hidn // 2) / d_hidn)\n",
        "  def get_posi_angle_vec(position):\n",
        "    return [cal_angle(position, i_hidn) for i_hidn in range(d_hidn)]\n",
        "\n",
        "  sinusoid_table = np.array([get_posi_angle_vec(i_seq) for i_seq in range(n_seq)])  # 1. 각 position별 hidden index별 angle 값을 구합니다.\n",
        "  sinusoid_table[:, 0::2] = np.sin(sinusoid_table[:, 0::2])                         # 2. hidden 짝수 index의 angle값의 sin값을 구합니다.\n",
        "  sinusoid_table[:, 1::2] = np.cos(sinusoid_table[:, 1::2])                         # 3. hidden 홀수 index의 angle값의 cos값을 구합니다.\n",
        "\n",
        "  return sinusoid_table\n",
        "\n",
        "\"\"\"attention pad mask\"\"\"\n",
        "def get_attn_pad_mask(seq_q, seq_k, i_pad):\n",
        "  batch_size, len_q = seq_q.size()\n",
        "  batch_size, len_k = seq_k.size()\n",
        "  pad_attn_mask = seq_k.data.eq(i_pad)                                              # 1. K의 값 중에 Pad인 부분을 True로 변경합니다.(나머지는 False)\n",
        "  pad_attn_mask = pad_attn_mask.unsqueeze(1).expand(batch_size, len_q, len_k)       # 2. 구해진 값의 크기를 Q-len, K-len 되도록 변경합니다.\n",
        "  return pad_attn_mask\n",
        "\n",
        "\"\"\"attention decoder mask\"\"\"\n",
        "def get_attn_decoder_mask(seq):\n",
        "  subsequent_mask = torch.ones_like(seq).unsqueeze(-1).expand(seq.size(0), seq.size(1), seq.size(1)) # 1. 모든 값이 1인 Q-len, K-leb 테이블을 생성합니다.\n",
        "  subsequent_mask = subsequent_mask.triu(diagonal=1)                                                 # 2. 대각선을 기준으로 아래쪽을 0으로 만듭니다.\n",
        "  return subsequent_mask\n",
        "\n",
        "\"\"\"scale dot product attention\"\"\"\n",
        "class ScaledDotProductAttention(nn.Module):\n",
        "  def __init__(self, config):\n",
        "    super().__init__()\n",
        "    self.config = config\n",
        "    self.dropout= nn.Dropout(config.dropout)\n",
        "    self.scale = 1 / (self.config.d_head ** 0.5)\n",
        "\n",
        "  def forward(self, Q, K, V, attn_mask):\n",
        "    scores = torch.matmul(Q, K.transpose(-1, -2))     # 1. Q * K.transpose를 구합니다.\n",
        "    scores = scores.mul_(self.scale)                   # 2. K-dimention에 루트를 취한 값으로 나눠 줍니다.\n",
        "    scores.masked_fill_(attn_mask, -1e9)              # 3. Mask를 적용합니다.\n",
        "\n",
        "    attn_prob = nn.Softmax(dim= -1)(scores)           # 4. Softmax를 취해 각 단어의 가중치 확률분포 attn_prob를 구합니다.\n",
        "    attn_prob = self.dropout(attn_prob)               # 5. attn_prob * V를 구합니다. 구한 값은 Q에 대한 V의 가중치 합 벡터입니다.\n",
        "\n",
        "    context = torch.matmul(attn_prob, V)\n",
        "\n",
        "    return context, attn_prob\n",
        "\n",
        "\"\"\"multi head attention\"\"\"\n",
        "class MultiHeadAttention(nn.Module):\n",
        "  def __init__(self, config):\n",
        "    super().__init__()\n",
        "    self.config = config\n",
        "\n",
        "    self.W_Q = nn.Linear(self.config.d_hidn, self.config.n_head * self.config.d_head)\n",
        "    self.W_K = nn.Linear(self.config.d_hidn, self.config.n_head * self.config.d_head)\n",
        "    self.W_V = nn.Linear(self.config.d_hidn, self.config.n_head * self.config.d_head)\n",
        "    self.scaled_dot_attn = ScaledDotProductAttention(self.config)\n",
        "    self.linear = nn.Linear(self.config.n_head * self.config.d_head, self.config.d_hidn)\n",
        "    self.dropout = nn.Dropout(config.dropout)\n",
        "\n",
        "  def forward(self, Q, K, V, attn_mask):\n",
        "    batch_size = Q.size(0)\n",
        "    q_s = self.W_Q(Q).view(batch_size, -1, self.config.n_head, self.config.d_head).transpose(1,2)                   # 1. Q * W_Q를 한 후 multi-head로 나눕니다.\n",
        "    k_s = self.W_K(K).view(batch_size, -1, self.config.n_head, self.config.d_head).transpose(1,2)                   # 2. K * W_K를 한 후 multi-head로 나눕니다.\n",
        "    v_s = self.W_V(V).view(batch_size, -1, self.config.n_head, self.config.d_head).transpose(1,2)                   # 3. V * W_V를 한 후 multi-head로 나눕니다.\n",
        "\n",
        "    attn_mask = attn_mask.unsqueeze(1).repeat(1, self.config.n_head, 1, 1)\n",
        "\n",
        "    context, attn_prob = self.scaled_dot_attn(q_s, k_s, v_s, attn_mask)                                             # 4. ScaledDotProductAttention 클래스를 이용해 각 head 별 Attention을 구합니다.\n",
        "    context = context.transpose(1, 2).contiguous().view(batch_size, -1, self.config.n_head * self.config.d_head)    # 5. 여러 개의 head를 1개로 합칩니다.\n",
        "    output = self.linear(context)                                                                                   # 6. Linear를 취해 최종 Multi-Head Attention값을 구합니다.\n",
        "    output = self.dropout(output)\n",
        "    \n",
        "    return output, attn_prob\n",
        "\n",
        "\"\"\"feed forward\"\"\"\n",
        "class PoswiseFeedForwardNet(nn.Module):\n",
        "  def __init__(self, config):\n",
        "    super().__init__()\n",
        "    self.config = config\n",
        "\n",
        "    self.conv1 = nn.Conv1d(in_channels = self.config.d_hidn, out_channels = self.config.d_ff, kernel_size=1)\n",
        "    self.conv2 = nn.Conv1d(in_channels = self.config.d_ff, out_channels = self.config.d_hidn, kernel_size=1)\n",
        "    self.active = F.gelu\n",
        "    self.dropout = nn.Dropout(config.dropout)\n",
        "\n",
        "  def forward(self, inputs):\n",
        "    output = self.conv1(inputs.transpose(1, 2))     # 1. Linear를 실행하여 shape을 d_ff(hidden * 4)크기로 키웁니다.\n",
        "    output = self.active(output)                    # 2. activation 함수(relu or gelu)를 실행합니다.\n",
        "\n",
        "    output = self.conv2(output).transpose(1, 2)     # 3. Linear를 실행하여 shape을 hidden 크기로 줄입니다.\n",
        "    output = self.dropout(output)\n",
        "\n",
        "    return output"
      ],
      "metadata": {
        "id": "sBTszDX435dN"
      },
      "execution_count": 7,
      "outputs": []
    },
    {
      "cell_type": "markdown",
      "source": [
        "# 5. Encoder\n",
        "BERT는 표준 Transformer의 Decoder는 사용하지 않고 Encoder만 사용합니다.\n",
        "\n",
        "Position Embedding 학습, Segment Embedding 추가 두가지 이외에 나머지 부분은 표준 Transformer와 동일합니다.\n",
        "\n",
        "![image.png](data:image/png;base64,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)"
      ],
      "metadata": {
        "id": "JGR1Lu8w4I1u"
      }
    },
    {
      "cell_type": "markdown",
      "source": [
        "#### Encoder Layer\n",
        "표준 Transformer EncoderLayer와 동일합니다."
      ],
      "metadata": {
        "id": "AJ3JMemO4ZSL"
      }
    },
    {
      "cell_type": "code",
      "source": [
        "\"\"\"encoder layer\"\"\"\n",
        "class EncoderLayer(nn.Module):\n",
        "  def __init__(self, config):\n",
        "    super().__init__()\n",
        "    self.config = config\n",
        "\n",
        "    self.self_attn = MultiHeadAttention(self.config)\n",
        "    self.layer_norm1 = nn.LayerNorm(self.config.d_hidn, eps = self.config.layer_norm_epsilon)\n",
        "    self.pos_ffn = PoswiseFeedForwardNet(self.config)\n",
        "    self.layer_norm2 = nn.LayerNorm(self.config.d_hidn, eps = self.config.layer_norm_epsilon)\n",
        "\n",
        "  def forward(self, inputs, attn_mask):\n",
        "    attn_outputs, attn_prob = self.self_attn(inputs, inputs, inputs,attn_mask)    # 1. Multi-Head Attention을 수행합니다. Q, K, V 모두 동일한 값을 사용하는 self-attention입니다.\n",
        "    attn_outputs = self.layer_norm1(inputs + attn_outputs)                        # 2. 1번의 결과와 input(residual)을 더한 후 LayerNorm을 실행합니다.\n",
        "\n",
        "    ffn_outputs = self.pos_ffn(attn_outputs)                                      # 3. 2번의 결과를 입력으로 Feed Forward를 실행합니다.\n",
        "    ffn_outputs = self.layer_norm2(ffn_outputs + attn_outputs)                    # 4. 3번의 결과와 2번의 결과(residual)을 더한 후 LayerNorm을 실행합니다.\n",
        "\n",
        "    return ffn_outputs, attn_prob"
      ],
      "metadata": {
        "id": "QDCCb0H14Ev1"
      },
      "execution_count": 8,
      "outputs": []
    },
    {
      "cell_type": "markdown",
      "source": [
        "#### Encoder\n",
        "표준 Transformer Encoder와 아래 내용이 다릅니다.\n",
        "\n",
        "![image.png](data:image/png;base64,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)\n",
        "\n",
        "1. Position을 학습할 수 있도록 하였습니다.\n",
        "  - 표준 Transformer에서는 sinusoid encoding을 구한 후 이 값으로 position embedding을 초기화 할 때 freeze 옵션을 True로 주어 Position embedding이 학습되지 않도록 하였습니다.\n",
        "  - BERT는 position embedding을 기본 값으로 초기화 한 후 학습되도록 하였습니다.\n",
        "\n",
        "2. Segment Embedding을 추가했습니다.\n",
        "  - Segment Embedding은 위 그림과 같이 두개의 문장이 들어갈 경우 첫 번째 문장과 두번째 문장을 구분하기 위해 사용됩니다.\n",
        "\n",
        "3. Encoder input에 Segment 정보를 추가했습니다.\n",
        "\n",
        "4. Token, Position 및 Segment 3가지 Embedding을 더 합니다.\n",
        "  - 표준 Transformer에서는 Token, Position 2가지 Embedding을 더 합니다.\n",
        "\n",
        "나머지는 Transforemr Encoder와 동일합니다."
      ],
      "metadata": {
        "id": "70zSlsJD4icR"
      }
    },
    {
      "cell_type": "code",
      "source": [
        "\"\"\"encoder\"\"\"\n",
        "class Encoder(nn.Module):\n",
        "  def __init__(self, config):\n",
        "    super().__init__()\n",
        "    self.config = config\n",
        "\n",
        "    self.enc_emb = nn.Embedding(self.config.n_enc_vocab, self.config.d_hidn)\n",
        "    self.pos_emb = nn.Embedding(self.config.n_enc_seq + 1, self.config.d_hidn)                      # 1. Position을 학습할 수 있도록 하였습니다.\n",
        "    self.seg_emb = nn.Embedding(self.config.n_seg_type, self.config.d_hidn)                         # 2. Segment Embedding을 추가했습니다.\n",
        "\n",
        "    self.layers = nn.ModuleList([EncoderLayer(self.config) for _ in range(self.config.n_layer)])\n",
        "\n",
        "  def forward(self, inputs, segments):                                                              # 3. Encoder input에 Segment 정보를 추가했습니다.\n",
        "    positions = torch.arange(inputs.size(1), device = inputs.device, dtype = inputs.dtype).expand(inputs.size(0), inputs.size(1)).contiguous() + 1\n",
        "    pos_mask = inputs.eq(self.config.i_pad)\n",
        "    positions.masked_fill_(pos_mask, 0)\n",
        "\n",
        "    outputs = self.enc_emb(inputs) + self.pos_emb(positions) + self.seg_emb(segments)               # 4. Token, Position 및 Segment 3가지 Embedding을 더 합니다.\n",
        "   \n",
        "    attn_mask = get_attn_pad_mask(inputs, inputs, self.config.i_pad)\n",
        "    \n",
        "    attn_probs = []\n",
        "    for layer in self.layers:\n",
        "      outputs, attn_prob = layer(outputs, attn_mask)\n",
        "      attn_probs.append(attn_prob)\n",
        "    \n",
        "    return outputs, attn_probs"
      ],
      "metadata": {
        "id": "ngKDJYhZ4fs-"
      },
      "execution_count": 9,
      "outputs": []
    },
    {
      "cell_type": "markdown",
      "source": [
        "# 6. BERT\n",
        "BERT 모델 클래스\n",
        "\n",
        "1. BERT는 Transformer Encoder를 실행합니다.\n",
        "2. 1번의 결과(outputs)의 첫 번째([CLS]) Token을 output_cls로 저장합니다.\n",
        "3. outputs_cls에 Linear 및 tanh을 실행합니다.\n",
        "4. Pretrain된 모델을 저장하기위한 save 함수입니다.\n",
        "5. Pretrain된 모델을 읽기위한 load 함수 입니다."
      ],
      "metadata": {
        "id": "7l8Ya7bJ7aIo"
      }
    },
    {
      "cell_type": "code",
      "source": [
        "\"\"\"bert\"\"\"\n",
        "class BERT(nn.Module):\n",
        "  def __init__(self, config):\n",
        "    super().__init__()\n",
        "    self.config = config\n",
        "\n",
        "    self.encoder = Encoder(self.config)\n",
        "\n",
        "    self.linear = nn.Linear(config.d_hidn, config.d_hidn)\n",
        "    self.activation = torch.tanh\n",
        "\n",
        "  def forward(self, inputs, segments):\n",
        "    outputs, self_attn_probs = self.encoder(inputs, segments)     # 1. BERT는 Transformer Encoder를 실행합니다.\n",
        "\n",
        "    outputs_cls = outputs[:, 0].contiguous()                      # 2. 1번의 결과(outputs)의 첫 번째([CLS]) Token을 output_cls로 저장합니다.\n",
        "    outputs_cls = self.linear(outputs_cls)                        # 3. outputs_cls에 Linear 및 tanh을 실행합니다.\n",
        "    outputs_cls = self.activation(outputs_cls)\n",
        "\n",
        "    return outputs, outputs_cls, self_attn_probs\n",
        "\n",
        "  def save(self, epoch, loss, path):                              # 4. Pretrain된 모델을 저장하기위한 save 함수입니다.\n",
        "    torch.save({\n",
        "        'epoch': epoch,\n",
        "        'loss': loss,\n",
        "        'state_dict': self.state_dict()\n",
        "    }, path)\n",
        "\n",
        "  def load(self, path):                                           # 5. Pretrain된 모델을 읽기위한 load 함수 입니다.\n",
        "    save = torch.load(path)\n",
        "    self.load_state_dict(save['state_dict'])\n",
        "    return save['epoch'], save['loss']"
      ],
      "metadata": {
        "id": "xOJC1B337YEq"
      },
      "execution_count": 10,
      "outputs": []
    },
    {
      "cell_type": "markdown",
      "source": [
        "# 7. Naver 영화 분류 모델\n",
        "\n",
        "BERT 클래스를 이용하여 Naver 영화리뷰 감정분석 분류 모델 클래스를 아래와 같이 정의합니다.\n",
        "\n",
        "1. inputs, segments를 입력으로 BERT 모델을 실행합니다.\n",
        "2. 1번 결과의 outputs_cls 값을 Classification을 위한 값으로 사용합니다."
      ],
      "metadata": {
        "id": "6aUbeJjB9P5j"
      }
    },
    {
      "cell_type": "code",
      "source": [
        "\"\"\"naver movie classification\"\"\"\n",
        "class MovieClassification(nn.Module):\n",
        "  def __init__(self, config):\n",
        "    super().__init__()\n",
        "    self.config = config\n",
        "\n",
        "    self.bert = BERT(self.config)\n",
        "    self.projection_cls = nn.Linear(self.config.d_hidn, self.config.n_output, bias = False)\n",
        "\n",
        "  def forward(self, inputs, segments):\n",
        "    outputs, outputs_cls, attn_probs = self.bert(inputs, segments)      # 1. inputs, segments를 입력으로 BERT 모델을 실행합니다.\n",
        "    logits_cls = self.projection_cls(outputs_cls)                       # 2. 1번 결과의 outputs_cls 값을 Classification을 위한 값으로 사용합니다.\n",
        "    return logits_cls, attn_probs"
      ],
      "metadata": {
        "id": "AlPHkgXq22bi"
      },
      "execution_count": 11,
      "outputs": []
    },
    {
      "cell_type": "markdown",
      "source": [
        "# 8. DataSet"
      ],
      "metadata": {
        "id": "025sGe9Y6FD2"
      }
    },
    {
      "cell_type": "markdown",
      "source": [
        "#### DataSet\n",
        "Naver 영화리뷰 감정분석 데이터 셋입니다.\n",
        "\n",
        "1. 입력 파일로부터 'label'을 읽어 들입니다.\n",
        "2. 입력파일로부터 'doc' token을 읽어 숫자(token id)로 변경합니다.\n",
        "  - 시작은 '[CLS]' 끝은 '[SEP]'가 되도록 합니다.\n",
        "3. segment(0)를 생성합니다."
      ],
      "metadata": {
        "id": "t8sbkUtF6Hjg"
      }
    },
    {
      "cell_type": "code",
      "source": [
        "\"\"\" 영화 분류 데이터셋 \"\"\"\n",
        "class MovieDataSet(torch.utils.data.Dataset):\n",
        "  def __init__(self, vocab, infile):\n",
        "    self.vocab = vocab\n",
        "    self.labels = []\n",
        "    self.sentences = []\n",
        "    self.segments = []\n",
        "\n",
        "    line_cnt = 0\n",
        "    with open(infile, 'r') as f:\n",
        "      for line in f:\n",
        "        line_cnt += 1\n",
        "\n",
        "    with open(infile, 'r') as f:\n",
        "      for i, line in enumerate(tqdm(f, total=line_cnt, desc='Loading Dataset', unit=' lines')):\n",
        "        data = json.loads(line)\n",
        "        self.labels.append(data['label'])                 # 1. 입력 파일로부터 'label'을 읽어 들입니다.\n",
        "\n",
        "        # 2. 입력파일로부터 'doc' token을 읽어 숫자(token id)로 변경합니다.\n",
        "        sentence = [vocab.piece_to_id('[CLS]')] + [vocab.piece_to_id(p) for p in data['doc']] + [vocab.piece_to_id('[SEP]')]\n",
        "        self.sentences.append(sentence)\n",
        "        self.segments.append([0] * len(sentence))         # 3. segment(0)를 생성합니다.\n",
        "\n",
        "  def __len__(self):\n",
        "    assert len(self.labels) == len(self.sentences)\n",
        "    assert len(self.labels) == len(self.segments)\n",
        "    return len(self.labels)\n",
        "\n",
        "  def __getitem__(self, item):\n",
        "    return (torch.tensor(self.labels[item]),\n",
        "            torch.tensor(self.sentences[item]),\n",
        "            torch.tensor(self.segments[item]))"
      ],
      "metadata": {
        "id": "Q85N9tc05qnl"
      },
      "execution_count": 12,
      "outputs": []
    },
    {
      "cell_type": "markdown",
      "source": [
        "#### collate_fn\n",
        "배치단위로 데이터 처리를 위한 collate_fn\n",
        "\n",
        "1. inputs의 길이가 같아지도록 짧은 문장에 padding(0)을 추가합니다.\n",
        "  - padding은 Sentencepiece를 활용해 Vocab 만들기에서 '-pad_id=0' 옵션으로 지정한 값입니다.\n",
        "2. segments의 길이가 같아지도록 짧은 문장에 padding(0)을 추가합니다.\n",
        "3. Label은 길이가 1 고정이므로 stack 함수를 이용해 tensor로 만듭니다."
      ],
      "metadata": {
        "id": "8fT2mkuR9H9q"
      }
    },
    {
      "cell_type": "code",
      "source": [
        "\"\"\"movie data collate_fn\"\"\"\n",
        "def movie_collate_fn(inputs):\n",
        "  labels, inputs, segments = list(zip(*inputs))\n",
        "\n",
        "  inputs = torch.nn.utils.rnn.pad_sequence(inputs, batch_first=True, padding_value = 0)     # 1. inputs의 길이가 같아지도록 짧은 문장에 padding(0)을 추가합니다.\n",
        "  segments = torch.nn.utils.rnn.pad_sequence(segments, batch_first=True, padding_value = 0) # 2. segments의 길이가 같아지도록 짧은 문장에 padding(0)을 추가합니다.\n",
        "  batch = [\n",
        "           torch.stack(labels, dim=0),                                                      # 3. Label은 길이가 1 고정이므로 stack 함수를 이용해 tensor로 만듭니다.\n",
        "           inputs,\n",
        "           segments\n",
        "  ]\n",
        "  return batch"
      ],
      "metadata": {
        "id": "cGsnW1Lt9F7K"
      },
      "execution_count": 13,
      "outputs": []
    },
    {
      "cell_type": "markdown",
      "source": [
        "#### DataLoader\n",
        "위에서 정의한 DataSet과 collate_fn을 이용해 학습용(train_loader), 평가용(test_lader) DataLoader를 만듭니다."
      ],
      "metadata": {
        "id": "wzg9VhyZ-fTn"
      }
    },
    {
      "cell_type": "code",
      "source": [
        "\"\"\"데이터 로더\"\"\"\n",
        "batch_size = 128\n",
        "train_dataset = MovieDataSet(vocab, '/content/drive/MyDrive/colab/NLP_모델/naver_sentiment_corpus/ratings_train.json')\n",
        "train_loader = torch.utils.data.DataLoader(train_dataset, batch_size=batch_size, shuffle = True, collate_fn = movie_collate_fn)\n",
        "test_dataset = MovieDataSet(vocab, '/content/drive/MyDrive/colab/NLP_모델/naver_sentiment_corpus/ratings_test.json')\n",
        "test_loader = torch.utils.data.DataLoader(test_dataset, batch_size=batch_size, shuffle = True, collate_fn = movie_collate_fn)"
      ],
      "metadata": {
        "colab": {
          "base_uri": "https://localhost:8080/"
        },
        "id": "lFfsIQyv-dpN",
        "outputId": "65695bdf-7139-4153-f892-b2219e73b641"
      },
      "execution_count": 14,
      "outputs": [
        {
          "output_type": "stream",
          "name": "stderr",
          "text": [
            "Loading Dataset: 100%|██████████| 149995/149995 [00:05<00:00, 25801.59 lines/s]\n",
            "Loading Dataset: 100%|██████████| 49997/49997 [00:01<00:00, 25464.10 lines/s]\n"
          ]
        }
      ]
    },
    {
      "cell_type": "markdown",
      "source": [
        "# 9. Evaluate\n",
        "- 학습된 MoviedClassification 모델의 성능을 평가하기 위한 함수\n",
        "- 평가는 정확도(accuracy)를 사용\n",
        "\n",
        "1. inputs, segments를 입력으로 MovieClassification을 실행합니다.\n",
        "2. 1번의 결과 중 첫번째 값이 예측 logits입니다.\n",
        "3. logits의 최대값의 index를 구합니다.\n",
        "4. 3번에서 구한 값과 labels의 값이 같은지 비교합니다."
      ],
      "metadata": {
        "id": "MY8RH9MY_md2"
      }
    },
    {
      "cell_type": "code",
      "source": [
        "\"\"\"모델 epoch 평가\"\"\"\n",
        "def eval_epoch(config, model, data_loader):\n",
        "  matchs = []\n",
        "  model.eval()\n",
        "\n",
        "  n_word_total = 0\n",
        "  n_correct_total = 0\n",
        "  with tqdm(total=len(data_loader), desc=f'Valid') as pbar:\n",
        "    for i, value in enumerate(data_loader):\n",
        "      labels, inputs, segments = map(lambda v: v.to(config.device), value)\n",
        "\n",
        "      outputs = model(inputs, segments)                                   # 1. inputs, segments를 입력으로 MovieClassification을 실행합니다.\n",
        "      logits_cls = outputs[0]                                             # 2. 1번의 결과 중 첫번째 값이 예측 logits입니다.\n",
        "      _, indices = logits_cls.max(1)                                      # 3. logits의 최대값의 index를 구합니다.\n",
        "\n",
        "      match = torch.eq(indices, labels).detach()                          # 4. 3번에서 구한 값과 labels의 값이 같은지 비교합니다.\n",
        "      matchs.extend(match.cpu())\n",
        "      accuracy = np.sum(matchs) / len(matchs) if 0 < len(matchs) else 0\n",
        "\n",
        "      pbar.update(1)\n",
        "      pbar.set_postfix_str(f'Acc: {accuracy:.3f}')\n",
        "  return np.sum(matchs) / len(matchs) if 0 < len(matchs) else 0"
      ],
      "metadata": {
        "id": "kPflcFbD_ky-"
      },
      "execution_count": 15,
      "outputs": []
    },
    {
      "cell_type": "markdown",
      "source": [
        "# 10. Train\n",
        "MovieClassification 모델을 학습하기 위한 함수입니다.\n",
        "\n",
        "1. inputs, segments를 입력으로 MovieClassification을 실행합니다.\n",
        "2. 1번의 결과 중 첫 번째 값이 예측 logits입니다.\n",
        "3. logits 값과 labels의 값을 이용해 Loss를 계산합니다.\n",
        "4. loss, optimizer를 이용해 학습합니다."
      ],
      "metadata": {
        "id": "y-Xwe-w7Bs7G"
      }
    },
    {
      "cell_type": "code",
      "source": [
        "\"\"\"모델 epoch 학습\"\"\"\n",
        "def train_epoch(config, epoch, model, criterion_cls, optimizer, train_loaer):\n",
        "  losses = []\n",
        "  model.train()\n",
        "\n",
        "  with tqdm(total=len(train_loader), desc = f'Train({epoch})') as pbar:\n",
        "    for i, value in enumerate(train_loader):\n",
        "      labels, inputs, segments = map(lambda v: v.to(config.device), value)\n",
        "\n",
        "      optimizer.zero_grad()\n",
        "      outputs = model(inputs, segments)                          # 1. inputs, segments를 입력으로 MovieClassification을 실행합니다.\n",
        "      logits_cls = outputs[0]                                    # 2. 1번의 결과 중 첫 번째 값이 예측 logits입니다.\n",
        "\n",
        "      loss_cls = criterion_cls(logits_cls, labels)               # 3. logits 값과 labels의 값을 이용해 Loss를 계산합니다.\n",
        "      loss = loss_cls\n",
        "                              \n",
        "      loss_val = loss.item()\n",
        "      losses.append(loss_val)\n",
        "\n",
        "      loss.backward()                                            # 4. loss, optimizer를 이용해 학습합니다.\n",
        "      optimizer.step()\n",
        "\n",
        "      pbar.update(1)\n",
        "      pbar.set_postfix_str(f'Loss: {loss_val:.3f} ({np.mean(losses):.3f}')\n",
        "  return np.mean(losses)"
      ],
      "metadata": {
        "id": "cZYgH26_Bqn0"
      },
      "execution_count": 16,
      "outputs": []
    },
    {
      "cell_type": "markdown",
      "source": [
        "학습을 위한 추가적인 내용을 선언합니다.\n",
        "\n",
        "1. GPU 사용 여부를 확인합니다.\n",
        "2. 출력 값 개수를 정의합니다.(부정(0), 긍정(1) 2가지입니다.)\n",
        "3. learning_rate 및 학습 epoch를 선언합니다."
      ],
      "metadata": {
        "id": "U9WAEGAPDRKK"
      }
    },
    {
      "cell_type": "code",
      "source": [
        "config.device = torch.device('cuda' if torch.cuda.is_available() else 'cpu')    # 1. GPU 사용 여부를 확인합니다.\n",
        "config.n_output = 2                                                             # 2. 출력 값 개수를 정의합니다.(부정(0), 긍정(1) 2가지입니다.)\n",
        "print(config)\n",
        "\n",
        "learning_rate = 5e-5                                                            # 3. learning_rate 및 학습 epoch를 선언합니다.\n",
        "n_epoch = 10"
      ],
      "metadata": {
        "colab": {
          "base_uri": "https://localhost:8080/"
        },
        "id": "NdR_KVcADN6c",
        "outputId": "c484e6f7-e796-4676-f995-b072f0d6c22c"
      },
      "execution_count": 17,
      "outputs": [
        {
          "output_type": "stream",
          "name": "stdout",
          "text": [
            "{'n_enc_vocab': 8007, 'n_enc_seq': 256, 'n_seg_type': 2, 'n_layer': 6, 'd_hidn': 256, 'i_pad': 0, 'd_ff': 1024, 'n_head': 4, 'd_head': 64, 'dropout': 0.1, 'layer_norm_epsilon': 1e-12}\n"
          ]
        }
      ]
    },
    {
      "cell_type": "markdown",
      "source": [
        "위에서 선언된 내용을 이용해 학습을 실행하는 함수입니다.\n",
        "\n",
        "1. MovieClassification이 GPU 또는 CPU를 지원하도록 합니다.\n",
        "2. loss 함수를 선언합니다.\n",
        "3. optimizer를 선언합니다.\n",
        "4. 각 epoch 마다 학습을 합니다.\n",
        "5. 각 epoch 마다 평가를 합니다."
      ],
      "metadata": {
        "id": "SwIzSOLQDdes"
      }
    },
    {
      "cell_type": "code",
      "source": [
        "def train(model):\n",
        "  model.to(config.device)                                                               # 1. MovieClassification이 GPU 또는 CPU를 지원하도록 합니다.\n",
        "\n",
        "  criterion_cls = torch.nn.CrossEntropyLoss()                                           # 2. loss 함수를 선언합니다.\n",
        "  optimizer = torch.optim.Adam(model.parameters(), lr=learning_rate)                    # 3. optimizer를 선언합니다.\n",
        "\n",
        "  best_epoch, best_loss, best_score = 0, 0, 0\n",
        "  losses, scores = [], []\n",
        "  for epoch in range(n_epoch):\n",
        "    loss = train_epoch(config, epoch, model, criterion_cls, optimizer, train_loader)    # 4. 각 epoch 마다 학습을 합니다.\n",
        "    score = eval_epoch(config, model, test_loader)                                      # 5. 각 epoch 마다 평가를 합니다.\n",
        "\n",
        "    losses.append(loss)\n",
        "    scores.append(score)\n",
        "\n",
        "    if best_score < score:\n",
        "      best_epoch, best_loss, best_score = epoch, loss, score\n",
        "  print(f'>>>> epoch={best_epoch}, loss={best_loss:.5f}, score={best_score:.5f}')\n",
        "  return losses, scores"
      ],
      "metadata": {
        "id": "RTRfunJmDWFw"
      },
      "execution_count": 18,
      "outputs": []
    },
    {
      "cell_type": "markdown",
      "source": [
        "#### Train(No Pretrain)\n",
        "Pretrain을 사용하지 않고 학습을 진행합니다.\n",
        "\n",
        "1. MovieClassification을 생성합니다.\n",
        "2. 추가적인 처리없이 생성된 MovieClassification으로 학습을 진행합니다."
      ],
      "metadata": {
        "id": "zVd32SdxFxdU"
      }
    },
    {
      "cell_type": "code",
      "source": [
        "# 약 40분 소요\n",
        "model = MovieClassification(config)\n",
        "losses_00, scores_00 = train(model)"
      ],
      "metadata": {
        "colab": {
          "base_uri": "https://localhost:8080/"
        },
        "id": "miM0ShJiFvmi",
        "outputId": "82764a43-1e24-424c-9b39-9d314a39d7eb"
      },
      "execution_count": 19,
      "outputs": [
        {
          "output_type": "stream",
          "name": "stderr",
          "text": [
            "Train(0): 100%|██████████| 1172/1172 [03:04<00:00,  6.37it/s, Loss: 0.548 (0.518]\n",
            "Valid: 100%|██████████| 391/391 [00:39<00:00,  9.84it/s, Acc: 0.778]\n",
            "Train(1): 100%|██████████| 1172/1172 [03:03<00:00,  6.38it/s, Loss: 0.500 (0.435]\n",
            "Valid: 100%|██████████| 391/391 [00:43<00:00,  8.89it/s, Acc: 0.797]\n",
            "Train(2): 100%|██████████| 1172/1172 [03:03<00:00,  6.38it/s, Loss: 0.379 (0.409]\n",
            "Valid: 100%|██████████| 391/391 [00:39<00:00,  9.83it/s, Acc: 0.805]\n",
            "Train(3): 100%|██████████| 1172/1172 [03:03<00:00,  6.39it/s, Loss: 0.366 (0.388]\n",
            "Valid: 100%|██████████| 391/391 [00:39<00:00,  9.89it/s, Acc: 0.805]\n",
            "Train(4): 100%|██████████| 1172/1172 [03:02<00:00,  6.41it/s, Loss: 0.277 (0.373]\n",
            "Valid: 100%|██████████| 391/391 [00:39<00:00,  9.84it/s, Acc: 0.812]\n",
            "Train(5): 100%|██████████| 1172/1172 [03:02<00:00,  6.41it/s, Loss: 0.389 (0.358]\n",
            "Valid: 100%|██████████| 391/391 [00:39<00:00,  9.89it/s, Acc: 0.814]\n",
            "Train(6): 100%|██████████| 1172/1172 [03:03<00:00,  6.40it/s, Loss: 0.330 (0.344]\n",
            "Valid: 100%|██████████| 391/391 [00:39<00:00,  9.81it/s, Acc: 0.816]\n",
            "Train(7): 100%|██████████| 1172/1172 [03:03<00:00,  6.39it/s, Loss: 0.295 (0.327]\n",
            "Valid: 100%|██████████| 391/391 [00:39<00:00,  9.88it/s, Acc: 0.816]\n",
            "Train(8): 100%|██████████| 1172/1172 [03:03<00:00,  6.40it/s, Loss: 0.246 (0.312]\n",
            "Valid: 100%|██████████| 391/391 [00:39<00:00,  9.86it/s, Acc: 0.816]\n",
            "Train(9): 100%|██████████| 1172/1172 [03:02<00:00,  6.41it/s, Loss: 0.275 (0.294]\n",
            "Valid: 100%|██████████| 391/391 [00:39<00:00,  9.81it/s, Acc: 0.813]\n"
          ]
        },
        {
          "output_type": "stream",
          "name": "stdout",
          "text": [
            ">>>> epoch=8, loss=0.31150, score=0.81593\n"
          ]
        }
      ]
    },
    {
      "cell_type": "markdown",
      "source": [
        "#### Train(5 epoch Pretrain)\n",
        "\n",
        "5 epoch Pretrain된 모델을 이용해 학습을 진행합니다.(참조 코드는 epoch 20)\n",
        "\n",
        "1. MovieClassification을 생성합니다.\n",
        "2. BERT(Bidirectional Encoder Representations from Transformers) 구현하기_1 에서 Pretrain 모델을 로드 합니다. \n",
        "3. MovieClassification으로 학습을 진행합니다."
      ],
      "metadata": {
        "id": "4i4yWWurGBie"
      }
    },
    {
      "cell_type": "code",
      "source": [
        "# 약 40분 소요\n",
        "model = MovieClassification(config)\n",
        "\n",
        "save_pretrain = '/content/drive/MyDrive/colab/NLP_모델/BERT/save_bert_pretrain.pth'\n",
        "model.bert.load(save_pretrain)\n",
        "\n",
        "losses_05, scores_05 = train(model)"
      ],
      "metadata": {
        "colab": {
          "base_uri": "https://localhost:8080/"
        },
        "id": "ZLEZo3LDGA7V",
        "outputId": "ebd9e961-6823-4c85-d630-f87ddad1826b"
      },
      "execution_count": 20,
      "outputs": [
        {
          "output_type": "stream",
          "name": "stderr",
          "text": [
            "Train(0): 100%|██████████| 1172/1172 [03:03<00:00,  6.39it/s, Loss: 0.460 (0.517]\n",
            "Valid: 100%|██████████| 391/391 [00:39<00:00,  9.85it/s, Acc: 0.775]\n",
            "Train(1): 100%|██████████| 1172/1172 [03:02<00:00,  6.42it/s, Loss: 0.444 (0.428]\n",
            "Valid: 100%|██████████| 391/391 [00:39<00:00,  9.80it/s, Acc: 0.802]\n",
            "Train(2): 100%|██████████| 1172/1172 [03:02<00:00,  6.42it/s, Loss: 0.333 (0.397]\n",
            "Valid: 100%|██████████| 391/391 [00:39<00:00,  9.87it/s, Acc: 0.804]\n",
            "Train(3): 100%|██████████| 1172/1172 [03:02<00:00,  6.41it/s, Loss: 0.396 (0.374]\n",
            "Valid: 100%|██████████| 391/391 [00:39<00:00,  9.85it/s, Acc: 0.817]\n",
            "Train(4): 100%|██████████| 1172/1172 [03:03<00:00,  6.40it/s, Loss: 0.305 (0.354]\n",
            "Valid: 100%|██████████| 391/391 [00:39<00:00,  9.79it/s, Acc: 0.819]\n",
            "Train(5): 100%|██████████| 1172/1172 [03:03<00:00,  6.40it/s, Loss: 0.315 (0.336]\n",
            "Valid: 100%|██████████| 391/391 [00:39<00:00,  9.81it/s, Acc: 0.819]\n",
            "Train(6): 100%|██████████| 1172/1172 [03:03<00:00,  6.39it/s, Loss: 0.352 (0.318]\n",
            "Valid: 100%|██████████| 391/391 [00:39<00:00,  9.82it/s, Acc: 0.818]\n",
            "Train(7): 100%|██████████| 1172/1172 [03:03<00:00,  6.40it/s, Loss: 0.419 (0.299]\n",
            "Valid: 100%|██████████| 391/391 [00:39<00:00,  9.85it/s, Acc: 0.821]\n",
            "Train(8): 100%|██████████| 1172/1172 [03:03<00:00,  6.40it/s, Loss: 0.270 (0.281]\n",
            "Valid: 100%|██████████| 391/391 [00:40<00:00,  9.76it/s, Acc: 0.821]\n",
            "Train(9): 100%|██████████| 1172/1172 [03:03<00:00,  6.39it/s, Loss: 0.364 (0.263]\n",
            "Valid: 100%|██████████| 391/391 [00:39<00:00,  9.86it/s, Acc: 0.818]\n"
          ]
        },
        {
          "output_type": "stream",
          "name": "stdout",
          "text": [
            ">>>> epoch=7, loss=0.29944, score=0.82127\n"
          ]
        }
      ]
    },
    {
      "cell_type": "markdown",
      "source": [
        "# 11. Result\n",
        "\n",
        "학습결과 및 평가결과는 아래와 같습니다.\n",
        "\n",
        "Pretrain을 안한 경우는 정확도(score)가 81.3%정도 나왔습니다.\n",
        "\n",
        "Pretrain을 5 epoch 한 경우는 정확도(socre)가 81.7%정도 나왔습니다."
      ],
      "metadata": {
        "id": "Thm2D_kNIMLz"
      }
    },
    {
      "cell_type": "code",
      "source": [
        "# table\n",
        "data = {\n",
        "    'loss_00': losses_00,\n",
        "    'score_00': scores_00,\n",
        "    'loss_05': losses_05,\n",
        "    'score_05': scores_05\n",
        "}\n",
        "\n",
        "df = pd.DataFrame(data)\n",
        "display(df)\n",
        "\n",
        "# graph\n",
        "plt.figure(figsize=[12,4])\n",
        "plt.plot(scores_00, label = 'score_00')\n",
        "plt.plot(scores_05, label='score_05')\n",
        "plt.legend()\n",
        "plt.xlabel('Epoch')\n",
        "plt.ylabel('Value')\n",
        "plt.show()"
      ],
      "metadata": {
        "colab": {
          "base_uri": "https://localhost:8080/",
          "height": 625
        },
        "id": "g7Pi2L_xIbv7",
        "outputId": "f7f58f19-a869-42f6-8401-84583c6f1674"
      },
      "execution_count": 21,
      "outputs": [
        {
          "output_type": "display_data",
          "data": {
            "text/html": [
              "\n",
              "  <div id=\"df-7c41b43c-7448-4a86-af0e-147a95e0df72\">\n",
              "    <div class=\"colab-df-container\">\n",
              "      <div>\n",
              "<style scoped>\n",
              "    .dataframe tbody tr th:only-of-type {\n",
              "        vertical-align: middle;\n",
              "    }\n",
              "\n",
              "    .dataframe tbody tr th {\n",
              "        vertical-align: top;\n",
              "    }\n",
              "\n",
              "    .dataframe thead th {\n",
              "        text-align: right;\n",
              "    }\n",
              "</style>\n",
              "<table border=\"1\" class=\"dataframe\">\n",
              "  <thead>\n",
              "    <tr style=\"text-align: right;\">\n",
              "      <th></th>\n",
              "      <th>loss_00</th>\n",
              "      <th>score_00</th>\n",
              "      <th>loss_05</th>\n",
              "      <th>score_05</th>\n",
              "    </tr>\n",
              "  </thead>\n",
              "  <tbody>\n",
              "    <tr>\n",
              "      <th>0</th>\n",
              "      <td>0.517969</td>\n",
              "      <td>0.777607</td>\n",
              "      <td>0.516642</td>\n",
              "      <td>0.774906</td>\n",
              "    </tr>\n",
              "    <tr>\n",
              "      <th>1</th>\n",
              "      <td>0.434667</td>\n",
              "      <td>0.796988</td>\n",
              "      <td>0.428195</td>\n",
              "      <td>0.802328</td>\n",
              "    </tr>\n",
              "    <tr>\n",
              "      <th>2</th>\n",
              "      <td>0.408886</td>\n",
              "      <td>0.805148</td>\n",
              "      <td>0.397082</td>\n",
              "      <td>0.804388</td>\n",
              "    </tr>\n",
              "    <tr>\n",
              "      <th>3</th>\n",
              "      <td>0.388349</td>\n",
              "      <td>0.805188</td>\n",
              "      <td>0.373587</td>\n",
              "      <td>0.816549</td>\n",
              "    </tr>\n",
              "    <tr>\n",
              "      <th>4</th>\n",
              "      <td>0.372887</td>\n",
              "      <td>0.811729</td>\n",
              "      <td>0.354034</td>\n",
              "      <td>0.818929</td>\n",
              "    </tr>\n",
              "    <tr>\n",
              "      <th>5</th>\n",
              "      <td>0.357846</td>\n",
              "      <td>0.813809</td>\n",
              "      <td>0.336197</td>\n",
              "      <td>0.818809</td>\n",
              "    </tr>\n",
              "    <tr>\n",
              "      <th>6</th>\n",
              "      <td>0.343571</td>\n",
              "      <td>0.815549</td>\n",
              "      <td>0.318232</td>\n",
              "      <td>0.818249</td>\n",
              "    </tr>\n",
              "    <tr>\n",
              "      <th>7</th>\n",
              "      <td>0.327491</td>\n",
              "      <td>0.815869</td>\n",
              "      <td>0.299437</td>\n",
              "      <td>0.821269</td>\n",
              "    </tr>\n",
              "    <tr>\n",
              "      <th>8</th>\n",
              "      <td>0.311502</td>\n",
              "      <td>0.815929</td>\n",
              "      <td>0.281233</td>\n",
              "      <td>0.821069</td>\n",
              "    </tr>\n",
              "    <tr>\n",
              "      <th>9</th>\n",
              "      <td>0.293657</td>\n",
              "      <td>0.813409</td>\n",
              "      <td>0.263326</td>\n",
              "      <td>0.817969</td>\n",
              "    </tr>\n",
              "  </tbody>\n",
              "</table>\n",
              "</div>\n",
              "      <button class=\"colab-df-convert\" onclick=\"convertToInteractive('df-7c41b43c-7448-4a86-af0e-147a95e0df72')\"\n",
              "              title=\"Convert this dataframe to an interactive table.\"\n",
              "              style=\"display:none;\">\n",
              "        \n",
              "  <svg xmlns=\"http://www.w3.org/2000/svg\" height=\"24px\"viewBox=\"0 0 24 24\"\n",
              "       width=\"24px\">\n",
              "    <path d=\"M0 0h24v24H0V0z\" fill=\"none\"/>\n",
              "    <path d=\"M18.56 5.44l.94 2.06.94-2.06 2.06-.94-2.06-.94-.94-2.06-.94 2.06-2.06.94zm-11 1L8.5 8.5l.94-2.06 2.06-.94-2.06-.94L8.5 2.5l-.94 2.06-2.06.94zm10 10l.94 2.06.94-2.06 2.06-.94-2.06-.94-.94-2.06-.94 2.06-2.06.94z\"/><path d=\"M17.41 7.96l-1.37-1.37c-.4-.4-.92-.59-1.43-.59-.52 0-1.04.2-1.43.59L10.3 9.45l-7.72 7.72c-.78.78-.78 2.05 0 2.83L4 21.41c.39.39.9.59 1.41.59.51 0 1.02-.2 1.41-.59l7.78-7.78 2.81-2.81c.8-.78.8-2.07 0-2.86zM5.41 20L4 18.59l7.72-7.72 1.47 1.35L5.41 20z\"/>\n",
              "  </svg>\n",
              "      </button>\n",
              "      \n",
              "  <style>\n",
              "    .colab-df-container {\n",
              "      display:flex;\n",
              "      flex-wrap:wrap;\n",
              "      gap: 12px;\n",
              "    }\n",
              "\n",
              "    .colab-df-convert {\n",
              "      background-color: #E8F0FE;\n",
              "      border: none;\n",
              "      border-radius: 50%;\n",
              "      cursor: pointer;\n",
              "      display: none;\n",
              "      fill: #1967D2;\n",
              "      height: 32px;\n",
              "      padding: 0 0 0 0;\n",
              "      width: 32px;\n",
              "    }\n",
              "\n",
              "    .colab-df-convert:hover {\n",
              "      background-color: #E2EBFA;\n",
              "      box-shadow: 0px 1px 2px rgba(60, 64, 67, 0.3), 0px 1px 3px 1px rgba(60, 64, 67, 0.15);\n",
              "      fill: #174EA6;\n",
              "    }\n",
              "\n",
              "    [theme=dark] .colab-df-convert {\n",
              "      background-color: #3B4455;\n",
              "      fill: #D2E3FC;\n",
              "    }\n",
              "\n",
              "    [theme=dark] .colab-df-convert:hover {\n",
              "      background-color: #434B5C;\n",
              "      box-shadow: 0px 1px 3px 1px rgba(0, 0, 0, 0.15);\n",
              "      filter: drop-shadow(0px 1px 2px rgba(0, 0, 0, 0.3));\n",
              "      fill: #FFFFFF;\n",
              "    }\n",
              "  </style>\n",
              "\n",
              "      <script>\n",
              "        const buttonEl =\n",
              "          document.querySelector('#df-7c41b43c-7448-4a86-af0e-147a95e0df72 button.colab-df-convert');\n",
              "        buttonEl.style.display =\n",
              "          google.colab.kernel.accessAllowed ? 'block' : 'none';\n",
              "\n",
              "        async function convertToInteractive(key) {\n",
              "          const element = document.querySelector('#df-7c41b43c-7448-4a86-af0e-147a95e0df72');\n",
              "          const dataTable =\n",
              "            await google.colab.kernel.invokeFunction('convertToInteractive',\n",
              "                                                     [key], {});\n",
              "          if (!dataTable) return;\n",
              "\n",
              "          const docLinkHtml = 'Like what you see? Visit the ' +\n",
              "            '<a target=\"_blank\" href=https://colab.research.google.com/notebooks/data_table.ipynb>data table notebook</a>'\n",
              "            + ' to learn more about interactive tables.';\n",
              "          element.innerHTML = '';\n",
              "          dataTable['output_type'] = 'display_data';\n",
              "          await google.colab.output.renderOutput(dataTable, element);\n",
              "          const docLink = document.createElement('div');\n",
              "          docLink.innerHTML = docLinkHtml;\n",
              "          element.appendChild(docLink);\n",
              "        }\n",
              "      </script>\n",
              "    </div>\n",
              "  </div>\n",
              "  "
            ],
            "text/plain": [
              "    loss_00  score_00   loss_05  score_05\n",
              "0  0.517969  0.777607  0.516642  0.774906\n",
              "1  0.434667  0.796988  0.428195  0.802328\n",
              "2  0.408886  0.805148  0.397082  0.804388\n",
              "3  0.388349  0.805188  0.373587  0.816549\n",
              "4  0.372887  0.811729  0.354034  0.818929\n",
              "5  0.357846  0.813809  0.336197  0.818809\n",
              "6  0.343571  0.815549  0.318232  0.818249\n",
              "7  0.327491  0.815869  0.299437  0.821269\n",
              "8  0.311502  0.815929  0.281233  0.821069\n",
              "9  0.293657  0.813409  0.263326  0.817969"
            ]
          },
          "metadata": {}
        },
        {
          "output_type": "display_data",
          "data": {
            "image/png": "[encoded data removed]",
            "text/plain": [
              "<Figure size 864x288 with 1 Axes>"
            ]
          },
          "metadata": {
            "needs_background": "light"
          }
        }
      ]
    }
  ]
}
