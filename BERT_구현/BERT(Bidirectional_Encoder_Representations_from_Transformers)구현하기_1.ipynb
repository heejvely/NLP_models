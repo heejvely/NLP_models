{
  "nbformat": 4,
  "nbformat_minor": 0,
  "metadata": {
    "colab": {
      "name": "BERT(Bidirectional Encoder Representations from Transformers)구현하기_1.ipynb",
      "provenance": [],
      "collapsed_sections": [],
      "machine_shape": "hm",
      "mount_file_id": "1y6vau7rht_el_4YF9J2EwoQ2Y6e4yep7",
      "authorship_tag": "ABX9TyPzw7XbXqirYWsVHfRPp1GP",
      "include_colab_link": true
    },
    "kernelspec": {
      "name": "python3",
      "display_name": "Python 3"
    },
    "language_info": {
      "name": "python"
    },
    "accelerator": "GPU"
  },
  "cells": [
    {
      "cell_type": "markdown",
      "metadata": {
        "id": "view-in-github",
        "colab_type": "text"
      },
      "source": [
        "<a href=\"https://colab.research.google.com/github/heejvely/NLP_models/blob/main/BERT(Bidirectional_Encoder_Representations_from_Transformers)%EA%B5%AC%ED%98%84%ED%95%98%EA%B8%B0_1.ipynb\" target=\"_parent\"><img src=\"https://colab.research.google.com/assets/colab-badge.svg\" alt=\"Open In Colab\"/></a>"
      ]
    },
    {
      "cell_type": "markdown",
      "source": [
        "* 코드 참조: https://paul-hyun.github.io/bert-01/"
      ],
      "metadata": {
        "id": "57MZBRfw11x4"
      }
    },
    {
      "cell_type": "markdown",
      "source": [
        "# 0. Pip install\n",
        "필요한 패키지를 pip를 이용해서 설치합니다."
      ],
      "metadata": {
        "id": "Y17Jpn301_92"
      }
    },
    {
      "cell_type": "code",
      "execution_count": 2,
      "metadata": {
        "colab": {
          "base_uri": "https://localhost:8080/"
        },
        "id": "8uuxkKaZ0lun",
        "outputId": "73b324c9-4fbf-451d-904b-5b411b575260"
      },
      "outputs": [
        {
          "output_type": "stream",
          "name": "stdout",
          "text": [
            "Requirement already satisfied: sentencepiece in /usr/local/lib/python3.7/dist-packages (0.1.96)\n",
            "Requirement already satisfied: wget in /usr/local/lib/python3.7/dist-packages (3.2)\n"
          ]
        }
      ],
      "source": [
        "!pip install sentencepiece\n",
        "!pip install wget"
      ]
    },
    {
      "cell_type": "code",
      "source": [
        "# gpu 설정\n",
        "!nvidia-smi"
      ],
      "metadata": {
        "colab": {
          "base_uri": "https://localhost:8080/"
        },
        "id": "Yuz9ZYxx3D4J",
        "outputId": "556efde6-400b-4490-9b93-b08f1f0919ab"
      },
      "execution_count": 3,
      "outputs": [
        {
          "output_type": "stream",
          "name": "stdout",
          "text": [
            "Sun Jan  2 09:43:21 2022       \n",
            "+-----------------------------------------------------------------------------+\n",
            "| NVIDIA-SMI 495.44       Driver Version: 460.32.03    CUDA Version: 11.2     |\n",
            "|-------------------------------+----------------------+----------------------+\n",
            "| GPU  Name        Persistence-M| Bus-Id        Disp.A | Volatile Uncorr. ECC |\n",
            "| Fan  Temp  Perf  Pwr:Usage/Cap|         Memory-Usage | GPU-Util  Compute M. |\n",
            "|                               |                      |               MIG M. |\n",
            "|===============================+======================+======================|\n",
            "|   0  Tesla P100-PCIE...  Off  | 00000000:00:04.0 Off |                    0 |\n",
            "| N/A   50C    P0    29W / 250W |      0MiB / 16280MiB |      0%      Default |\n",
            "|                               |                      |                  N/A |\n",
            "+-------------------------------+----------------------+----------------------+\n",
            "                                                                               \n",
            "+-----------------------------------------------------------------------------+\n",
            "| Processes:                                                                  |\n",
            "|  GPU   GI   CI        PID   Type   Process name                  GPU Memory |\n",
            "|        ID   ID                                                   Usage      |\n",
            "|=============================================================================|\n",
            "|  No running processes found                                                 |\n",
            "+-----------------------------------------------------------------------------+\n"
          ]
        }
      ]
    },
    {
      "cell_type": "markdown",
      "source": [
        "# 1. Imports"
      ],
      "metadata": {
        "id": "BMZr7cZb2Pku"
      }
    },
    {
      "cell_type": "code",
      "source": [
        "import os\n",
        "import numpy as np\n",
        "import math\n",
        "from random import random, randrange, randint, shuffle, choice\n",
        "import matplotlib.pyplot as plt\n",
        "import json\n",
        "import pandas as pd\n",
        "from IPython.display import display\n",
        "from tqdm import tqdm, tqdm_notebook, trange\n",
        "import sentencepiece as spm\n",
        "import wget\n",
        "\n",
        "import torch\n",
        "import torch.nn as nn\n",
        "import torch.nn.functional as F"
      ],
      "metadata": {
        "id": "ztzlRADZ2Kp2"
      },
      "execution_count": 4,
      "outputs": []
    },
    {
      "cell_type": "markdown",
      "source": [
        "# 2. Vocab 및 입력\n",
        "Sentencepiece를 활용해 Vocab 만들기를 통해 만들어 놓은 vocab을 로딩합니다."
      ],
      "metadata": {
        "id": "gazXMU-n23hV"
      }
    },
    {
      "cell_type": "code",
      "source": [
        "import sentencepiece as spm\n",
        "# vocab loading\n",
        "vocab_file = '/content/drive/MyDrive/colab/NLP_모델/kowiki_corpus/kowiki.model'\n",
        "vocab = spm.SentencePieceProcessor()\n",
        "vocab.load(vocab_file)"
      ],
      "metadata": {
        "colab": {
          "base_uri": "https://localhost:8080/"
        },
        "id": "XVGpVViZ2_2B",
        "outputId": "92a951b5-f854-42f8-a13e-a0546f25caef"
      },
      "execution_count": 5,
      "outputs": [
        {
          "output_type": "execute_result",
          "data": {
            "text/plain": [
              "True"
            ]
          },
          "metadata": {},
          "execution_count": 5
        }
      ]
    },
    {
      "cell_type": "markdown",
      "source": [
        "# 3. Config\n",
        "\n",
        "- Transformer와 파라미터를 동일하게 설정\n",
        "- BERT는 Encoder만 사용하므로 항목 중 Decoder 부분 제거\n",
        "- 기본 입력에 추가로 segment 정보를 입력 받는데, Segment 수를 정의하는 n_seg_type을 추가로 정의"
      ],
      "metadata": {
        "id": "IHkkJE6j2gnd"
      }
    },
    {
      "cell_type": "code",
      "source": [
        "\"\"\"configuration json을 읽어들이는 class\"\"\"\n",
        "class Config(dict):\n",
        "  __getattr__ = dict.__getitem__\n",
        "  __setarrt__ = dict.__setitem__\n",
        "\n",
        "  @classmethod\n",
        "  def load(cls, file):\n",
        "    with open(file, 'r') as f:\n",
        "      config = json.loads(f.read())\n",
        "      return Config(config)"
      ],
      "metadata": {
        "id": "17txb_Vk3qpE"
      },
      "execution_count": 6,
      "outputs": []
    },
    {
      "cell_type": "code",
      "source": [
        "config = Config({\n",
        "    'n_enc_vocab': len(vocab),\n",
        "    'n_enc_seq': 256,\n",
        "    'n_seg_type': 2,\n",
        "    'n_layer': 6,\n",
        "    'd_hidn': 256,\n",
        "    'i_pad': 0,\n",
        "    'd_ff': 1024,\n",
        "    'n_head': 4,\n",
        "    'd_head': 64,\n",
        "    'dropout': 0.1,\n",
        "    'layer_norm_epsilon': 1e-12\n",
        "})\n",
        "print(config)"
      ],
      "metadata": {
        "colab": {
          "base_uri": "https://localhost:8080/"
        },
        "id": "YaB4Q0v42WB1",
        "outputId": "1540bc30-aace-4470-9a16-b6185557d6e5"
      },
      "execution_count": 7,
      "outputs": [
        {
          "output_type": "stream",
          "name": "stdout",
          "text": [
            "{'n_enc_vocab': 8007, 'n_enc_seq': 256, 'n_seg_type': 2, 'n_layer': 6, 'd_hidn': 256, 'i_pad': 0, 'd_ff': 1024, 'n_head': 4, 'd_head': 64, 'dropout': 0.1, 'layer_norm_epsilon': 1e-12}\n"
          ]
        }
      ]
    },
    {
      "cell_type": "markdown",
      "source": [
        "# 4. Common Class\n",
        "공통으로 사용되는 Class 및 함수"
      ],
      "metadata": {
        "id": "g_fPa3K031qc"
      }
    },
    {
      "cell_type": "code",
      "source": [
        "\"\"\"sinusoid position encoding\"\"\"\n",
        "def get_sinusoid_encoding_table(n_seq, d_hidn):\n",
        "  def cal_angle(position, i_hidn):\n",
        "    return position / np.power(10000, 2 * (i_hidn // 2) / d_hidn)\n",
        "  def get_posi_angle_vec(position):\n",
        "    return [cal_angle(position, i_hidn) for i_hidn in range(d_hidn)]\n",
        "\n",
        "  sinusoid_table = np.array([get_posi_angle_vec(i_seq) for i_seq in range(n_seq)])  # 1. 각 position별 hidden index별 angle 값을 구합니다.\n",
        "  sinusoid_table[:, 0::2] = np.sin(sinusoid_table[:, 0::2])                         # 2. hidden 짝수 index의 angle값의 sin값을 구합니다.\n",
        "  sinusoid_table[:, 1::2] = np.cos(sinusoid_table[:, 1::2])                         # 3. hidden 홀수 index의 angle값의 cos값을 구합니다.\n",
        "\n",
        "  return sinusoid_table\n",
        "\n",
        "\"\"\"attention pad mask\"\"\"\n",
        "def get_attn_pad_mask(seq_q, seq_k, i_pad):\n",
        "  batch_size, len_q = seq_q.size()\n",
        "  batch_size, len_k = seq_k.size()\n",
        "  pad_attn_mask = seq_k.data.eq(i_pad)                                              # 1. K의 값 중에 Pad인 부분을 True로 변경합니다.(나머지는 False)\n",
        "  pad_attn_mask = pad_attn_mask.unsqueeze(1).expand(batch_size, len_q, len_k)       # 2. 구해진 값의 크기를 Q-len, K-len 되도록 변경합니다.\n",
        "  return pad_attn_mask\n",
        "\n",
        "\"\"\"attention decoder mask\"\"\"\n",
        "def get_attn_decoder_mask(seq):\n",
        "  subsequent_mask = torch.ones_like(seq).unsqueeze(-1).expand(seq.size(0), seq.size(1), seq.size(1)) # 1. 모든 값이 1인 Q-len, K-leb 테이블을 생성합니다.\n",
        "  subsequent_mask = subsequent_mask.triu(diagonal=1)                                                 # 2. 대각선을 기준으로 아래쪽을 0으로 만듭니다.\n",
        "  return subsequent_mask\n",
        "\n",
        "\"\"\"scale dot product attention\"\"\"\n",
        "class ScaledDotProductAttention(nn.Module):\n",
        "  def __init__(self, config):\n",
        "    super().__init__()\n",
        "    self.config = config\n",
        "    self.dropout= nn.Dropout(config.dropout)\n",
        "    self.scale = 1 / (self.config.d_head ** 0.5)\n",
        "\n",
        "  def forward(self, Q, K, V, attn_mask):\n",
        "    scores = torch.matmul(Q, K.transpose(-1, -2))     # 1. Q * K.transpose를 구합니다.\n",
        "    scores = scores.mul_(self.scale)                   # 2. K-dimention에 루트를 취한 값으로 나눠 줍니다.\n",
        "    scores.masked_fill_(attn_mask, -1e9)              # 3. Mask를 적용합니다.\n",
        "\n",
        "    attn_prob = nn.Softmax(dim= -1)(scores)           # 4. Softmax를 취해 각 단어의 가중치 확률분포 attn_prob를 구합니다.\n",
        "    attn_prob = self.dropout(attn_prob)               # 5. attn_prob * V를 구합니다. 구한 값은 Q에 대한 V의 가중치 합 벡터입니다.\n",
        "\n",
        "    context = torch.matmul(attn_prob, V)\n",
        "\n",
        "    return context, attn_prob\n",
        "\n",
        "\"\"\"multi head attention\"\"\"\n",
        "class MultiHeadAttention(nn.Module):\n",
        "  def __init__(self, config):\n",
        "    super().__init__()\n",
        "    self.config = config\n",
        "\n",
        "    self.W_Q = nn.Linear(self.config.d_hidn, self.config.n_head * self.config.d_head)\n",
        "    self.W_K = nn.Linear(self.config.d_hidn, self.config.n_head * self.config.d_head)\n",
        "    self.W_V = nn.Linear(self.config.d_hidn, self.config.n_head * self.config.d_head)\n",
        "    self.scaled_dot_attn = ScaledDotProductAttention(self.config)\n",
        "    self.linear = nn.Linear(self.config.n_head * self.config.d_head, self.config.d_hidn)\n",
        "    self.dropout = nn.Dropout(config.dropout)\n",
        "\n",
        "  def forward(self, Q, K, V, attn_mask):\n",
        "    batch_size = Q.size(0)\n",
        "    q_s = self.W_Q(Q).view(batch_size, -1, self.config.n_head, self.config.d_head).transpose(1,2)                   # 1. Q * W_Q를 한 후 multi-head로 나눕니다.\n",
        "    k_s = self.W_K(K).view(batch_size, -1, self.config.n_head, self.config.d_head).transpose(1,2)                   # 2. K * W_K를 한 후 multi-head로 나눕니다.\n",
        "    v_s = self.W_V(V).view(batch_size, -1, self.config.n_head, self.config.d_head).transpose(1,2)                   # 3. V * W_V를 한 후 multi-head로 나눕니다.\n",
        "\n",
        "    attn_mask = attn_mask.unsqueeze(1).repeat(1, self.config.n_head, 1, 1)\n",
        "\n",
        "    context, attn_prob = self.scaled_dot_attn(q_s, k_s, v_s, attn_mask)                                             # 4. ScaledDotProductAttention 클래스를 이용해 각 head 별 Attention을 구합니다.\n",
        "    context = context.transpose(1, 2).contiguous().view(batch_size, -1, self.config.n_head * self.config.d_head)    # 5. 여러 개의 head를 1개로 합칩니다.\n",
        "    output = self.linear(context)                                                                                   # 6. Linear를 취해 최종 Multi-Head Attention값을 구합니다.\n",
        "    output = self.dropout(output)\n",
        "    \n",
        "    return output, attn_prob\n",
        "\n",
        "\"\"\"feed forward\"\"\"\n",
        "class PoswiseFeedForwardNet(nn.Module):\n",
        "  def __init__(self, config):\n",
        "    super().__init__()\n",
        "    self.config = config\n",
        "\n",
        "    self.conv1 = nn.Conv1d(in_channels = self.config.d_hidn, out_channels = self.config.d_ff, kernel_size=1)\n",
        "    self.conv2 = nn.Conv1d(in_channels = self.config.d_ff, out_channels = self.config.d_hidn, kernel_size=1)\n",
        "    self.active = F.gelu\n",
        "    self.dropout = nn.Dropout(config.dropout)\n",
        "\n",
        "  def forward(self, inputs):\n",
        "    output = self.conv1(inputs.transpose(1, 2))     # 1. Linear를 실행하여 shape을 d_ff(hidden * 4)크기로 키웁니다.\n",
        "    output = self.active(output)                    # 2. activation 함수(relu or gelu)를 실행합니다.\n",
        "\n",
        "    output = self.conv2(output).transpose(1, 2)     # 3. Linear를 실행하여 shape을 hidden 크기로 줄입니다.\n",
        "    output = self.dropout(output)\n",
        "\n",
        "    return output"
      ],
      "metadata": {
        "id": "sBTszDX435dN"
      },
      "execution_count": 8,
      "outputs": []
    },
    {
      "cell_type": "markdown",
      "source": [
        "# 5. Encoder\n",
        "BERT는 표준 Transformer의 Decoder는 사용하지 않고 Encoder만 사용합니다.\n",
        "\n",
        "Position Embedding 학습, Segment Embedding 추가 두가지 이외에 나머지 부분은 표준 Transformer와 동일합니다.\n",
        "\n",
        "![image.png](data:image/png;base64,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)"
      ],
      "metadata": {
        "id": "JGR1Lu8w4I1u"
      }
    },
    {
      "cell_type": "markdown",
      "source": [
        "#### Encoder Layer\n",
        "표준 Transformer EncoderLayer와 동일합니다."
      ],
      "metadata": {
        "id": "AJ3JMemO4ZSL"
      }
    },
    {
      "cell_type": "code",
      "source": [
        "\"\"\"encoder layer\"\"\"\n",
        "class EncoderLayer(nn.Module):\n",
        "  def __init__(self, config):\n",
        "    super().__init__()\n",
        "    self.config = config\n",
        "\n",
        "    self.self_attn = MultiHeadAttention(self.config)\n",
        "    self.layer_norm1 = nn.LayerNorm(self.config.d_hidn, eps = self.config.layer_norm_epsilon)\n",
        "    self.pos_ffn = PoswiseFeedForwardNet(self.config)\n",
        "    self.layer_norm2 = nn.LayerNorm(self.config.d_hidn, eps = self.config.layer_norm_epsilon)\n",
        "\n",
        "  def forward(self, inputs, attn_mask):\n",
        "    attn_outputs, attn_prob = self.self_attn(inputs, inputs, inputs,attn_mask)    # 1. Multi-Head Attention을 수행합니다. Q, K, V 모두 동일한 값을 사용하는 self-attention입니다.\n",
        "    attn_outputs = self.layer_norm1(inputs + attn_outputs)                        # 2. 1번의 결과와 input(residual)을 더한 후 LayerNorm을 실행합니다.\n",
        "\n",
        "    ffn_outputs = self.pos_ffn(attn_outputs)                                      # 3. 2번의 결과를 입력으로 Feed Forward를 실행합니다.\n",
        "    ffn_outputs = self.layer_norm2(ffn_outputs + attn_outputs)                    # 4. 3번의 결과와 2번의 결과(residual)을 더한 후 LayerNorm을 실행합니다.\n",
        "\n",
        "    return ffn_outputs, attn_prob"
      ],
      "metadata": {
        "id": "QDCCb0H14Ev1"
      },
      "execution_count": 9,
      "outputs": []
    },
    {
      "cell_type": "markdown",
      "source": [
        "#### Encoder\n",
        "표준 Transformer Encoder와 아래 내용이 다릅니다.\n",
        "\n",
        "![image.png](data:image/png;base64,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)\n",
        "\n",
        "1. Position을 학습할 수 있도록 하였습니다.\n",
        "  - 표준 Transformer에서는 sinusoid encoding을 구한 후 이 값으로 position embedding을 초기화 할 때 freeze 옵션을 True로 주어 Position embedding이 학습되지 않도록 하였습니다.\n",
        "  - BERT는 position embedding을 기본 값으로 초기화 한 후 학습되도록 하였습니다.\n",
        "\n",
        "2. Segment Embedding을 추가했습니다.\n",
        "  - Segment Embedding은 위 그림과 같이 두개의 문장이 들어갈 경우 첫 번째 문장과 두번째 문장을 구분하기 위해 사용됩니다.\n",
        "\n",
        "3. Encoder input에 Segment 정보를 추가했습니다.\n",
        "\n",
        "4. Token, Position 및 Segment 3가지 Embedding을 더 합니다.\n",
        "  - 표준 Transformer에서는 Token, Position 2가지 Embedding을 더 합니다.\n",
        "\n",
        "나머지는 Transforemr Encoder와 동일합니다."
      ],
      "metadata": {
        "id": "70zSlsJD4icR"
      }
    },
    {
      "cell_type": "code",
      "source": [
        "\"\"\"encoder\"\"\"\n",
        "class Encoder(nn.Module):\n",
        "  def __init__(self, config):\n",
        "    super().__init__()\n",
        "    self.config = config\n",
        "\n",
        "    self.enc_emb = nn.Embedding(self.config.n_enc_vocab, self.config.d_hidn)\n",
        "    self.pos_emb = nn.Embedding(self.config.n_enc_seq + 1, self.config.d_hidn)                      # 1. Position을 학습할 수 있도록 하였습니다.\n",
        "    self.seg_emb = nn.Embedding(self.config.n_seg_type, self.config.d_hidn)                         # 2. Segment Embedding을 추가했습니다.\n",
        "\n",
        "    self.layers = nn.ModuleList([EncoderLayer(self.config) for _ in range(self.config.n_layer)])\n",
        "\n",
        "  def forward(self, inputs, segments):                                                              # 3. Encoder input에 Segment 정보를 추가했습니다.\n",
        "    positions = torch.arange(inputs.size(1), device = inputs.device, dtype = inputs.dtype).expand(inputs.size(0), inputs.size(1)).contiguous() + 1\n",
        "    pos_mask = inputs.eq(self.config.i_pad)\n",
        "    positions.masked_fill_(pos_mask, 0)\n",
        "\n",
        "    outputs = self.enc_emb(inputs) + self.pos_emb(positions) + self.seg_emb(segments)               # 4. Token, Position 및 Segment 3가지 Embedding을 더 합니다.\n",
        "   \n",
        "    attn_mask = get_attn_pad_mask(inputs, inputs, self.config.i_pad)\n",
        "    \n",
        "    attn_probs = []\n",
        "    for layer in self.layers:\n",
        "      outputs, attn_prob = layer(outputs, attn_mask)\n",
        "      attn_probs.append(attn_prob)\n",
        "    \n",
        "    return outputs, attn_probs"
      ],
      "metadata": {
        "id": "ngKDJYhZ4fs-"
      },
      "execution_count": 10,
      "outputs": []
    },
    {
      "cell_type": "markdown",
      "source": [
        "# 6. BERT\n",
        "BERT 모델 클래스\n",
        "\n",
        "1. BERT는 Transformer Encoder를 실행합니다.\n",
        "2. 1번의 결과(outputs)의 첫 번째([CLS]) Token을 output_cls로 저장합니다.\n",
        "3. outputs_cls에 Linear 및 tanh을 실행합니다.\n",
        "4. Pretrain된 모델을 저장하기위한 save 함수입니다.\n",
        "5. Pretrain된 모델을 읽기위한 load 함수 입니다."
      ],
      "metadata": {
        "id": "7l8Ya7bJ7aIo"
      }
    },
    {
      "cell_type": "code",
      "source": [
        "\"\"\"bert\"\"\"\n",
        "class BERT(nn.Module):\n",
        "  def __init__(self, config):\n",
        "    super().__init__()\n",
        "    self.config = config\n",
        "\n",
        "    self.encoder = Encoder(self.config)\n",
        "\n",
        "    self.linear = nn.Linear(config.d_hidn, config.d_hidn)\n",
        "    self.activation = torch.tanh\n",
        "\n",
        "  def forward(self, inputs, segments):\n",
        "    outputs, self_attn_probs = self.encoder(inputs, segments)     # 1. BERT는 Transformer Encoder를 실행합니다.\n",
        "\n",
        "    outputs_cls = outputs[:, 0].contiguous()                      # 2. 1번의 결과(outputs)의 첫 번째([CLS]) Token을 output_cls로 저장합니다.\n",
        "    outputs_cls = self.linear(outputs_cls)                        # 3. outputs_cls에 Linear 및 tanh을 실행합니다.\n",
        "    outputs_cls = self.activation(outputs_cls)\n",
        "\n",
        "    return outputs, outputs_cls, self_attn_probs\n",
        "\n",
        "  def save(self, epoch, loss, path):                              # 4. Pretrain된 모델을 저장하기위한 save 함수입니다.\n",
        "    torch.save({\n",
        "        'epoch': epoch,\n",
        "        'loss': loss,\n",
        "        'state_dict': self.state_dict()\n",
        "    }, path)\n",
        "\n",
        "  def load(self, path):                                           # 5. Pretrain된 모델을 읽기위한 load 함수 입니다.\n",
        "    save = torch.load(path)\n",
        "    self.load_state_dict(save['state_dict'])\n",
        "    return save['epoch'], save['loss']"
      ],
      "metadata": {
        "id": "xOJC1B337YEq"
      },
      "execution_count": 11,
      "outputs": []
    },
    {
      "cell_type": "markdown",
      "source": [
        "# 7. Pretrain Model\n",
        "BERT를 Pretrain 하기 위한 목적함수는 다음 두가지 입니다.\n",
        "\n",
        "![image.png](data:image/png;base64,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)\n",
        "\n",
        "1. MLM(Masked Language Model)\n",
        "  - 위 그림과 같이[MASK]된 부분의 단어를 예측하는 것을 MLM이라 합니다.\n",
        "  - 전체 단어의 15% 를 선택한 후 그중 80%는 [MASK], 10%는 현재 단어 유지, 10%는 임의의 단어로 대체합니다.\n",
        "\n",
        "2. NSP(Next Sentence Prediction)\n",
        "  - 위 그림과 같이 첫번쨰([CLS])Token으로 문장 A와 문장 B의 관계를 예측하는 것을 NSP라 합니다.\n",
        "  - A 다음 문장이 B가 맞을 경우는 True(IsNext), A 다음 문장이 B가 아닐 경우 False(NotNext)로 예측하도록 합니다."
      ],
      "metadata": {
        "id": "6aUbeJjB9P5j"
      }
    },
    {
      "cell_type": "markdown",
      "source": [
        "BERT를 Pretrain 하기 위한 클래스\n",
        "\n",
        "1. BERT의 결과를 입력으로 NSP를 예측하기 위한 projection_cls를 선언합니다.\n",
        "2. BERT의 결과를 입력으로 MLM을 예측하기 위한 projection_lm을 선언합니다.\n",
        "3. projection_lm은 Encoder의 Embedding과 weight를 share합니다.\n",
        "4. inputs, segments를 입력으로 BERT를 실행합니다.\n",
        "5. outputs_cls를 입력으로 projection_cls를 실행하여 NSP를 예측하도록 합니다.\n",
        "6. outputs를 입력으로 projection_lm을 실행하여 MLM을 예측하도록합니다."
      ],
      "metadata": {
        "id": "zE1_preO-RAz"
      }
    },
    {
      "cell_type": "code",
      "source": [
        "\"\"\"BERT pretrain\"\"\"\n",
        "class BERTPretrain(nn.Module):\n",
        "  def __init__(self, config):\n",
        "    super().__init__()\n",
        "    self.config = config\n",
        "\n",
        "    self.bert = BERT(self.config)\n",
        "    # classifier\n",
        "    self.projection_cls = nn.Linear(self.config.d_hidn, 2, bias = False)                          # 1. BERT의 결과를 입력으로 NSP를 예측하기 위한 projection_cls를 선언합니다.\n",
        "    # lm\n",
        "    self.projection_lm = nn.Linear(self.config.d_hidn, self.config.n_enc_vocab, bias = False)     # 2. BERT의 결과를 입력으로 MLM을 예측하기 위한 projection_lm을 선언합니다.\n",
        "    self.projection_lm.weight = self.bert.encoder.enc_emb.weight                                  # 3. projection_lm은 Encoder의 Embedding과 weight를 share합니다.\n",
        "\n",
        "  def forward(self, inputs, segments):\n",
        "    outputs, outputs_cls, attn_probs = self.bert(inputs, segments)                                # 4. inputs, segments를 입력으로 BERT를 실행합니다.\n",
        "    logits_cls = self.projection_cls(outputs_cls)                                                 # 5. outputs_cls를 입력으로 projection_cls를 실행하여 NSP를 예측하도록 합니다.\n",
        "    logits_lm = self.projection_lm(outputs)                                                       # 6. outputs를 입력으로 projection_lm을 실행하여 MLM을 예측하도록합니다.\n",
        "    return logits_cls, logits_lm, attn_probs"
      ],
      "metadata": {
        "id": "_6pn-h_19Ogp"
      },
      "execution_count": 12,
      "outputs": []
    },
    {
      "cell_type": "markdown",
      "source": [
        "# 8. Pretrain Data 생성\n",
        "\n",
        "#### [MASK] 생성 함수\n",
        "마스크를 생성하는 함수\n",
        "\n",
        "1. Token을 단어별로 index 배열 형태로 저장합니다.\n",
        "  - u\"\\u2582\"은 단어의 시작을 의미하는 값으로 시작하지 않으면 이전 Token과 연결된 subword입니다.\n",
        "2. Random 선택을 위해 단어의 index를 섞습니다.\n",
        "3. index를 for loop를 돌며 아래 내용(4 ~9)을 실행합니다.\n",
        "4. mask_lms의 개수가 mask_cnt를 넘지 않도록 합니다.\n",
        "  - mask_cnt는 전체 token 개수의 15%에 해당하는 개수입니다.\n",
        "5. index에 대해 80% 확률로 [MASK]를 취합니다.\n",
        "6. index에 대해 10% 확률로 현재 값을 유지합니다.\n",
        "7. index에 대해 10% 확률로 vocab_list에서 임의의 값을 선택합니다.\n",
        "8. mask된 index의 값과 정답 label을 mask_lms에 저장합니다.\n",
        "9. token index의 값을 mask합니다.\n",
        "10. Random하게 mask된 값을 index 순으로 정렬합니다.\n",
        "11. 10번에서 정렬된 값을 이용해 mask_index, mask_label를 만듭니다."
      ],
      "metadata": {
        "id": "u9eKQoSHASsD"
      }
    },
    {
      "cell_type": "code",
      "source": [
        "\"\"\"마스크 생성\"\"\"\n",
        "def create_pretrain_mask(tokens, mask_cnt, vocab_list):\n",
        "  cand_idx = []\n",
        "  for (i, token) in enumerate(tokens):                            # 1. Token을 단어별로 index 배열 형태로 저장합니다.\n",
        "    if token == '[CLS]' or token == '[SEP]':\n",
        "      continue\n",
        "    if 0 < len(cand_idx) and not token.startswith(u\"\\u2581\"):\n",
        "      cand_idx[-1].append(i)\n",
        "    else:\n",
        "      cand_idx.append([i])\n",
        "  shuffle(cand_idx)                                               # 2. Random 선택을 위해 단어의 index를 섞습니다.\n",
        "\n",
        "  mask_lms = []\n",
        "  for index_set in cand_idx:                                      # 3. index를 for loop를 돌며 아래 내용(4 ~9)을 실행합니다.\n",
        "    if len(mask_lms) >= mask_cnt:                                 # 4. mask_lms의 개수가 mask_cnt를 넘지 않도록 합니다.\n",
        "      break\n",
        "    if len(mask_lms) + len(index_set) > mask_cnt:\n",
        "      continue\n",
        "    for index in index_set:\n",
        "      masked_token = None\n",
        "      if random() < 0.8:                                          # 5. index에 대해 80% 확률로 [MASK]를 취합니다.\n",
        "        masked_token = '[MASK]'\n",
        "      else:\n",
        "        if random() < 0.5:                                        # 6. index에 대해 10% 확률로 현재 값을 유지합니다.\n",
        "          masked_token = tokens[index]\n",
        "        else:                                                     # 7. index에 대해 10% 확률로 vocab_list에서 임의의 값을 선택합니다.\n",
        "          masked_token = choice(vocab_list)\n",
        "      mask_lms.append({'index':index, 'label':tokens[index]})     # 8. mask된 index의 값과 정답 label을 mask_lms에 저장합니다.\n",
        "      tokens[index] = masked_token                                # 9. token index의 값을 mask합니다.\n",
        "  mask_lms = sorted(mask_lms, key = lambda x: x['index'])         # 10. Random하게 mask된 값을 index 순으로 정렬합니다.\n",
        "  mask_idx = [p['index'] for p in mask_lms]                       # 11. 10번에서 정렬된 값을 이용해 mask_index, mask_label를 만듭니다.\n",
        "  mask_label = [p['label'] for p in mask_lms]\n",
        "\n",
        "  return tokens, mask_idx, mask_label"
      ],
      "metadata": {
        "id": "Brla3NMuAEZB"
      },
      "execution_count": 13,
      "outputs": []
    },
    {
      "cell_type": "markdown",
      "source": [
        "#### 최대 길이 초과하는 Token 자르기\n",
        "token A, token B의 길이의 합이 특정 길이보다 클 경우 이를 줄이는 함수입니다.\n",
        "\n",
        "1. token A의 길이가 길 경우 앞에서부터 토큰을 제거합니다.\n",
        "2. token B의 길이가 길 경우 뒤에서부터 토큰을 제거합니다."
      ],
      "metadata": {
        "id": "qgbLCc3wDyuv"
      }
    },
    {
      "cell_type": "code",
      "source": [
        "\"\"\"최대 길이 초과하는 토큰 자르기\"\"\"\n",
        "def trim_tokens(tokens_a, tokens_b, max_seq):\n",
        "  while True:\n",
        "    total_length = len(tokens_a) + len(tokens_b)\n",
        "    if total_length <= max_seq:\n",
        "      break\n",
        "\n",
        "    if len(tokens_a) > len(tokens_b):       # 1. token A의 길이가 길 경우 앞에서부터 토큰을 제거합니다.\n",
        "      del tokens_a[0]\n",
        "    else:                                   # 2. token B의 길이가 길 경우 뒤에서부터 토큰을 제거합니다.\n",
        "      tokens_b.pop()"
      ],
      "metadata": {
        "id": "KdBPNaErDv1D"
      },
      "execution_count": 14,
      "outputs": []
    },
    {
      "cell_type": "markdown",
      "source": [
        "#### 단락별 pretrain 데이터 생성 함수\n",
        "단락을 여러 개의 Pretrain 데이터로 만드는 함수입니다.\n",
        "\n",
        "1. 특수 Token은 시작'[CLS]', 구분자 '[SEP]' 2개 입니다.\n",
        "  - tgt_seq는 n_seq에서 3개를 뺀 값입니다.\n",
        "2. 단락을 줄 단위로 for loop를 돌며 아래내용(3 ~ 12)을 실행합니다.\n",
        "3. current_chunk에 line을 추가, current_length에 라인의 token수를 더합니다.\n",
        "4. 마지막 줄이거나 current_length가 tgt_seq를 넘을 경우 학습데이터를 만듭니다.\n",
        "5. current_chunk에서 Random하게 길이를 선택해서 toknes_a를 만듭니다.\n",
        "6. 50%의 확률로 다른 단락에서 tokens_b를 만듭니다.\n",
        "7. is_next의 값은 False(0)입니다.\n",
        "8. 50%의 확률로 current_chunk에서 tokens_a 이후부터 tokens_b를 만듭니다.\n",
        "9. is_next의 값은 True(1)입니다.\n",
        "10. 위에서 정의한 trim_tokens 함수를 실행하여 token 크기를 줄입니다.\n",
        "11. '[CLS]' + token_a + '[SEP]' + tokens_b + '[SEP]' 형태로 데이터를 생성합니다.\n",
        "12. segment를 생성합니다.\n",
        "  - 9번에서 '[CLS]' + tokens_a + '[SEP]'는 0, tokens_b + '[SEP]'는 1입니다.\n",
        "13. 위에서 정의한 create_pretrain_mask 함수를 실행하여 Mask 합니다.\n",
        "  - Mask Token 개수는 전체 Token 수에 0.15(15%)를 곱해서 구합니다.\n",
        "14. 위 결과를 가지고 데이터를 생성합니다."
      ],
      "metadata": {
        "id": "J4vk8k4_EbYP"
      }
    },
    {
      "cell_type": "code",
      "source": [
        "\"\"\"doc 별 pretrain 데이터 생성\"\"\"\n",
        "def create_pretrain_instances(docs, doc_idx, doc, n_seq, mask_prob, vocab_list):\n",
        "  max_seq = n_seq - 3                                         # 1. 특수 Token은 시작'[CLS]', 구분자 '[SEP]' 2개 입니다.\n",
        "  tgt_seq = max_seq\n",
        "\n",
        "  instances = []\n",
        "  current_chunk = []\n",
        "  current_length = 0\n",
        "  for i in range(len(doc)):                                   # 2. 단락을 줄 단위로 for loop를 돌며 아래내용(3 ~ 12)을 실행합니다.\n",
        "    current_chunk.append(doc[i])                              # 3. current_chunk에 line을 추가, current_length에 라인의 token수를 더합니다.\n",
        "    current_length += len(doc[i])\n",
        "    if i == len(doc) - 1 or current_length >= tgt_seq:         # 4. 마지막 줄이거나 current_length가 tgt_seq를 넘을 경우 학습데이터를 만듭니다.\n",
        "      if 0 < len(current_chunk):\n",
        "        a_end = 1                                             # 5. current_chunk에서 Random하게 길이를 선택해서 toknes_a를 만듭니다.\n",
        "        if 1 < len(current_chunk):\n",
        "          a_end = randrange(1, len(current_chunk))\n",
        "        tokens_a = []\n",
        "        for j in range(a_end):\n",
        "          tokens_a.extend(current_chunk[j])\n",
        "\n",
        "        tokens_b = []\n",
        "        if len(current_chunk) == 1 or random() < 0.5:         # 6. 50%의 확률로 다른 단락에서 tokens_b를 만듭니다.\n",
        "          is_next = 0                                         # 7. is_next의 값은 False(0)입니다.\n",
        "          token_b_len = tgt_seq - len(tokens_a)\n",
        "          random_doc_idx = doc_idx\n",
        "          while doc_idx == random_doc_idx:\n",
        "            random_doc_idx = randrange(0, len(docs))\n",
        "          random_doc = docs[random_doc_idx]\n",
        "\n",
        "          random_start = randrange(0, len(random_doc))\n",
        "          for j in range(random_start, len(random_doc)):\n",
        "            tokens_b.extend(random_doc[j])\n",
        "\n",
        "        else:                                                 # 8. 50%의 확률로 current_chunk에서 tokens_a 이후부터 tokens_b를 만듭니다.\n",
        "          is_next = 1                                         # 9. is_next의 값은 True(1)입니다.\n",
        "          for j in range(a_end, len(current_chunk)):\n",
        "            tokens_b.extend(current_chunk[j])\n",
        "        \n",
        "        trim_tokens(tokens_a, tokens_b, max_seq)              # 10. 위에서 정의한 trim_tokens 함수를 실행하여 token 크기를 줄입니다.\n",
        "        assert 0 < len(tokens_a)\n",
        "        assert 0 < len(tokens_b)\n",
        "\n",
        "        tokens = ['[CLS]'] + tokens_a + ['[SEP]'] + tokens_b + ['[SEP]']                # 11. '[CLS]' + token_a + '[SEP]' + tokens_b + '[SEP]' 형태로 데이터를 생성합니다.\n",
        "        segment = [0] * (len(tokens_a) + 2) + [1] * (len(tokens_b) + 1)                 # 12. segment를 생성합니다.\n",
        "\n",
        "        tokens, mask_idx, mask_label = create_pretrain_mask(tokens, int((len(tokens) - 3) * mask_prob), vocab_list)   # 13. 위에서 정의한 create_pretrain_mask 함수를 실행하여 Mask 합니다.\n",
        "        instance = {                                          # 14. 위 결과를 가지고 데이터를 생성합니다.\n",
        "            'tokens': tokens,\n",
        "            'segment': segment,\n",
        "            'is_next': is_next,\n",
        "            'mask_idx': mask_idx,\n",
        "            'mask_label': mask_label\n",
        "        }\n",
        "        instances.append(instance)\n",
        "\n",
        "      current_chunk = []\n",
        "      current_length = 0\n",
        "  return instances"
      ],
      "metadata": {
        "id": "MSCrxg9eFpEw"
      },
      "execution_count": 15,
      "outputs": []
    },
    {
      "cell_type": "markdown",
      "source": [
        "#### pretrain 데이터 생성 함수\n",
        "말뭉치를 읽어 Pretrain 데이터를 만드는 함수입니다.\n",
        "\n",
        "1. 단어목록 vocab_list를 생성합니다. 생성 시 unknown은 제거합니다.\n",
        "  - voacb_list는 위에서 정의한 create_pretrain_mask 함수의 입력으로 사용하기 위함입니다.\n",
        "2. 말뭉치 파일 라인수를 확인합니다.\n",
        "3. 말뭉치를 줄 단위로 for loop를 돌며 아래내용(3~4)을 실행합니다.\n",
        "4. 줄의 문자를 vocab을 이용해 tokenize한 후 doc에 추가합니다.\n",
        "5. 빈 줄이 나타날 경우 단락의 끝이므로 doc를 docs에 추가하고 doc를 새로 만듭니다.\n",
        "6. count 횟수만큼 for loop를 돌며(7 ~ 9) Pretrain 데이터를 만듭니다.\n",
        "  - BERT는 Mask를 15%만 하므로 한 번에 전체 단어를 학습할 수 없습니다. 한 말뭉치에 대해 통상 Pretrain 데이터 10개(150%)정도 만들어서 학습하도록 합니다.\n",
        "7. docs(단락배열)을 doc(단락) 단위로 for loop를 돌며 아래 내용(6~7)을 실행 합니다.\n",
        "8. doc를 입력으로 위에서 정의한 create_pretrain_instances 함수를 호출합니다.\n",
        "9. 8번의 결과를 파일에 저장합니다."
      ],
      "metadata": {
        "id": "0oKMnVSXI9ig"
      }
    },
    {
      "cell_type": "code",
      "source": [
        "\"\"\" pretrain 데이터 생성 \"\"\"\n",
        "def make_pretrain_data(vocab, in_file, out_file, count, n_seq, mask_prob):\n",
        "  vocab_list = []                                                               # 1. 단어목록 vocab_list를 생성합니다. 생성 시 unknown은 제거합니다.\n",
        "  for id in range(vocab.get_piece_size()):\n",
        "    if not vocab.is_unknown(id):\n",
        "      vocab_list.append(vocab.id_to_piece(id))\n",
        "\n",
        "  line_cnt = 0                                                                  # 2. 말뭉치 파일 라인수를 확인합니다.\n",
        "  with open(in_file,'r') as in_f:\n",
        "    for line in in_f:\n",
        "      line_cnt += 1\n",
        "\n",
        "  docs = []\n",
        "  with open(in_file, 'r') as f:                                                 # 3. 말뭉치를 줄 단위로 for loop를 돌며 아래내용(3~4)을 실행합니다.\n",
        "    doc = []\n",
        "    with tqdm(total=line_cnt, desc=f'Loading') as pbar:\n",
        "      for i, line in enumerate(f):\n",
        "        line = line.strip()\n",
        "        if line == \"\":                                                          # 5. 빈 줄이 나타날 경우 단락의 끝이므로 doc를 docs에 추가하고 doc를 새로 만듭니다.\n",
        "          if 0 < len(doc):\n",
        "            docs.append(doc)\n",
        "            doc = []\n",
        "        else:\n",
        "          pieces = vocab.encode_as_pieces(line)                                 # 4. 줄의 문자를 vocab을 이용해 tokenize한 후 doc에 추가합니다.\n",
        "          if 0 < len(pieces):\n",
        "            doc.append(pieces)\n",
        "        pbar.update(1)\n",
        "    if doc:                                                                     # 7. docs(단락배열)을 doc(단락) 단위로 for loop를 돌며 아래 내용(6~7)을 실행 합니다.\n",
        "      docs.append(doc)\n",
        "      \n",
        "  for index in range(count):                                                    # 6. count 횟수만큼 for loop를 돌며(7 ~ 9) Pretrain 데이터를 만듭니다.\n",
        "    output = out_file.format(index)\n",
        "    if os.path.isfile(output): continue\n",
        "\n",
        "    with open(output, 'w') as out_f:\n",
        "      with tqdm(total=len(docs), desc = f'Making') as pbar:\n",
        "        for i, doc in enumerate(docs):                                          # 8. doc를 입력으로 위에서 정의한 create_pretrain_instances 함수를 호출합니다.\n",
        "          instances = create_pretrain_instances(docs, i, doc, n_seq, mask_prob, vocab_list)\n",
        "          for instance in instances:                                            # 9. 8번의 결과를 파일에 저장합니다.\n",
        "            out_f.write(json.dumps(instance))\n",
        "            out_f.write('\\n')\n",
        "          pbar.update(1)"
      ],
      "metadata": {
        "id": "vHqkK7ZcI5oL"
      },
      "execution_count": 16,
      "outputs": []
    },
    {
      "cell_type": "markdown",
      "source": [
        "#### pretrain 데이터 생성 실행\n",
        "pretrain 데이터를 만드는 코드입니다.\n",
        "\n",
        "- 말뭉치 개수(count)는 10으로 합니다.\n",
        "- sequence 길이(n_seq)는 256으로 합니다.\n",
        "- Mask 확률(mask_prob)는 15%로 합니다."
      ],
      "metadata": {
        "id": "BNhGQrYEOdkN"
      }
    },
    {
      "cell_type": "code",
      "source": [
        "# 약 50분 소요\n",
        "in_file = '/content/drive/MyDrive/colab/NLP_모델/kowiki_corpus/kowiki.txt'\n",
        "out_file = '/content/drive/MyDrive/colab/NLP_모델/BERT/kowiki_bert_{}.json'\n",
        "count = 10\n",
        "n_seq = 256\n",
        "mask_prob = 0.15\n",
        "\n",
        "make_pretrain_data(vocab, in_file, out_file, count, n_seq, mask_prob)"
      ],
      "metadata": {
        "colab": {
          "base_uri": "https://localhost:8080/"
        },
        "id": "zsvMJn4_OcRb",
        "outputId": "c52bc0c9-f867-4629-bda2-8ac59fff8c4f"
      },
      "execution_count": 17,
      "outputs": [
        {
          "output_type": "stream",
          "name": "stderr",
          "text": [
            "Loading: 100%|██████████| 4475042/4475042 [04:22<00:00, 17073.37it/s]\n"
          ]
        }
      ]
    },
    {
      "cell_type": "markdown",
      "source": [
        "# 9. DataSet"
      ],
      "metadata": {
        "id": "URRwyPtNPD-m"
      }
    },
    {
      "cell_type": "markdown",
      "source": [
        "#### DataSet\n",
        "Pretrain DataSet입니다.\n",
        "\n",
        "1. 입력 파일에서 아래 내용을 읽습니다.\n",
        "  - is_next: tokens_a 와 tokens_b가 인접한 문장인지 여부\n",
        "  - tokens: 문장 tokens\n",
        "  - segment: tokens_a(0)와 tokens_b(1)을 구분하기 위한 값\n",
        "  - mask_idx: tokens와 mask index\n",
        "  - mask_label: tokens내의 mask된 부분의 정답\n",
        "\n",
        "2. 값이 모두 -1인 label_lm변수를 만듭니다.\n",
        "3. label_lm의 mask_idx 위치에 mask_label값을 저장합니다.\n",
        "  - 이렇게 하면 mask_idx 위치는 mask_label이 나머지는 -1이 됩니다."
      ],
      "metadata": {
        "id": "ImunQH0rPI9k"
      }
    },
    {
      "cell_type": "code",
      "source": [
        "\"\"\" pretrain 데이터셋\"\"\"\n",
        "class PretrainDataSet(torch.utils.data.Dataset):\n",
        "  def __init__(self, vocab, infile):\n",
        "    self.vocab = vocab\n",
        "    self.labels_cls = []\n",
        "    self.labels_lm = []\n",
        "    self.sentences = []\n",
        "    self.segments = []\n",
        "\n",
        "    line_cnt = 0\n",
        "    with open(infile, 'r') as f:\n",
        "      for line in f:\n",
        "        line_cnt += 1\n",
        "\n",
        "    with open(infile, 'r') as f:\n",
        "      for i, line in enumerate(tqdm(f, total=line_cnt, desc=f'Loading {infile}', unit=' lines')):\n",
        "        instance = json.loads(line)\n",
        "\n",
        "        # 1. 입력 파일에서 아래 내용을 읽습니다.\n",
        "        #   - is_next: tokens_a 와 tokens_b가 인접한 문장인지 여부\n",
        "        #   - tokens: 문장 tokens\n",
        "        #   - segment: tokens_a(0)와 tokens_b(1)을 구분하기 위한 값\n",
        "        #   - mask_idx: tokens와 mask index\n",
        "        #   - mask_label: tokens내의 mask된 부분의 정답\n",
        "        self.labels_cls.append(instance['is_next'])\n",
        "        sentences = [vocab.piece_to_id(p) for p in instance['tokens']]\n",
        "        self.sentences.append(sentences)\n",
        "        self.segments.append(instance['segment'])\n",
        "        mask_idx = np.array(instance['mask_idx'], dtype = np.int)\n",
        "        mask_label = np.array([vocab.piece_to_id(p) for p in instance['mask_label']], dtype = np.int)\n",
        "        label_lm = np.full(len(sentences), dtype = np.int, fill_value = -1)     # 2. 값이 모두 -1인 label_lm변수를 만듭니다.\n",
        "        label_lm[mask_idx] = mask_label                                         # 3. label_lm의 mask_idx 위치에 mask_label값을 저장합니다.    \n",
        "        self.labels_lm.append(label_lm)\n",
        "\n",
        "  def __len__(self):\n",
        "    assert len(self.labels_cls) == len(self.labels_lm)\n",
        "    assert len(self.labels_cls) == len(self.sentences)\n",
        "    assert len(self.labels_cls) == len(self.segments)\n",
        "    return len(self.labels_cls)\n",
        "\n",
        "  def __getitem__(self, item):\n",
        "    return (torch.tensor(self.labels_cls[item]),\n",
        "            torch.tensor(self.labels_lm[item]),\n",
        "            torch.tensor(self.sentences[item]),\n",
        "            torch.tensor(self.segments[item]))"
      ],
      "metadata": {
        "id": "frt0FuwKPCmP"
      },
      "execution_count": 18,
      "outputs": []
    },
    {
      "cell_type": "markdown",
      "source": [
        "#### collate_fn\n",
        "배치단위로 데이터 처리를 위한 collate_fn입니다.\n",
        "\n",
        "1. labels_lm의 길이가 같아지도록 짧은 문장에 padding(-1)을 추가합니다.\n",
        "2. inputs의 길이가 같아지도록 짧은 문장에 padding(0)을 추가합니다.\n",
        "  - padding은 Sentencepiece를 활용해 Vocab 만들기에서 '-pad_id=0' 옵션으로 지정한 값입니다.\n",
        "3. segments의 길이가 같아지도록 짧은 문장에 padding(0)을 추가합니다.\n",
        "4. labels_cls는 길이가 1 고정이므로 stack 함수를 이용해 tensor로 만듭니다."
      ],
      "metadata": {
        "id": "79TzTVFYVQks"
      }
    },
    {
      "cell_type": "code",
      "source": [
        "\"\"\"pretrain data collate_fn\"\"\"\n",
        "def pretrain_collate_fn(inputs):\n",
        "  labels_cls, labels_lm, inputs, segments = list(zip(*inputs))\n",
        "\n",
        "  labels_lm = torch.nn.utils.rnn.pad_sequence(labels_lm, batch_first=True, padding_value = -1)  # 1. labels_lm의 길이가 같아지도록 짧은 문장에 padding(-1)을 추가합니다.\n",
        "  inputs = torch.nn.utils.rnn.pad_sequence(inputs, batch_first=True, padding_value = 0)         # 2. inputs의 길이가 같아지도록 짧은 문장에 padding(0)을 추가합니다.\n",
        "  segments = torch.nn.utils.rnn.pad_sequence(segments, batch_first=True, padding_value = 0)     # 3. segments의 길이가 같아지도록 짧은 문장에 padding(0)을 추가합니다.\n",
        "\n",
        "  batch = [\n",
        "           torch.stack(labels_cls, dim=0),                                                      # 4. labels_cls는 길이가 1 고정이므로 stack 함수를 이용해 tensor로 만듭니다.\n",
        "           labels_lm,\n",
        "           inputs,\n",
        "           segments\n",
        "  ]\n",
        "  return batch"
      ],
      "metadata": {
        "id": "ASRuWlw6Vri_"
      },
      "execution_count": 19,
      "outputs": []
    },
    {
      "cell_type": "markdown",
      "source": [
        "#### DataLoader\n",
        "위에서 정의한 DataSet과 collate_fn을 이용해 학습용(train_loader) DataLoader를 만듭니다.\n",
        "\n",
        "위에서 생성한 pretrain 데이터 중 첫 번째 값을 읽습니다."
      ],
      "metadata": {
        "id": "a2oxuufBWzcN"
      }
    },
    {
      "cell_type": "code",
      "source": [
        "# 약 5분 소요\n",
        "\n",
        "\"\"\"pretrain 데이터 로더\"\"\"\n",
        "batch_size = 128\n",
        "dataset = PretrainDataSet(vocab, '/content/drive/MyDrive/colab/NLP_모델/BERT/kowiki_bert_0.json')\n",
        "train_loader = torch.utils.data.DataLoader(dataset, batch_size = batch_size, shuffle=True, collate_fn = pretrain_collate_fn)"
      ],
      "metadata": {
        "colab": {
          "base_uri": "https://localhost:8080/"
        },
        "id": "Lr6K3KblW9RT",
        "outputId": "0992140c-d1cd-4962-c65d-621839a8db83"
      },
      "execution_count": 20,
      "outputs": [
        {
          "output_type": "stream",
          "name": "stderr",
          "text": [
            "Loading /content/drive/MyDrive/colab/NLP_모델/BERT/kowiki_bert_0.json: 100%|██████████| 930403/930403 [05:06<00:00, 3031.66 lines/s]\n"
          ]
        }
      ]
    },
    {
      "cell_type": "markdown",
      "source": [
        "# 10. Pretrain"
      ],
      "metadata": {
        "id": "389sUUJdYTh1"
      }
    },
    {
      "cell_type": "markdown",
      "source": [
        "#### Train\n",
        "BERT 모델을 Pretrain 하기 위한 함수입니다.\n",
        "\n",
        "1. inputs, segments를 입력으로 BERTPretrain을 실행합니다.\n",
        "2. 1번의 결과 중 첫 번째 값이 NSP(logits_cls), 두 번째 값이 MLM(logits_lm)입니다.\n",
        "3. logits_cls 값과 labels_cls 값을 이용해 NSP Loss(loss_cls)를 계산합니다.\n",
        "4. logits_lm 값과 labels_lm 값을 이용해 MLM Loss(loss_lm)를 계산합니다.\n",
        "5. loss_cls와 loss_lm을 더해 loss를 생성합니다.\n",
        "6. loss, optimizer를 이용해 학습합니다."
      ],
      "metadata": {
        "id": "1YdhhE9gYVzB"
      }
    },
    {
      "cell_type": "code",
      "source": [
        "\"\"\"모델 epoch 학습\"\"\"\n",
        "def train_epoch(config, epoch, model, criterion_lm, criterion_cls, optimizer, train_loader):\n",
        "  losses = []\n",
        "  model.train()\n",
        "\n",
        "  with tqdm(total=len(train_loader), desc = f'Train({epoch})') as pbar:\n",
        "    for i, value in enumerate(train_loader):\n",
        "      labels_cls, labels_lm, inputs, segments = map(lambda v: v.to(config.device), value)\n",
        "\n",
        "      optimizer.zero_grad()\n",
        "      outputs = model(inputs, segments)                                                       # 1. inputs, segments를 입력으로 BERTPretrain을 실행합니다.\n",
        "      logits_cls, logits_lm = outputs[0], outputs[1]                                          # 2. 1번의 결과 중 첫 번째 값이 NSP(logits_cls), 두 번째 값이 MLM(logits_lm)입니다.\n",
        "\n",
        "      loss_cls = criterion_cls(logits_cls, labels_cls)                                        # 3. logits_cls 값과 labels_cls 값을 이용해 NSP Loss(loss_cls)를 계산합니다.\n",
        "      loss_lm = criterion_lm(logits_lm.view(-1, logits_lm.size(2)), labels_lm.view(-1))       # 4. logits_lm 값과 labels_lm 값을 이용해 MLM Loss(loss_lm)를 계산합니다.\n",
        "      loss = loss_cls + loss_lm                                                               # 5. loss_cls와 loss_lm을 더해 loss를 생성합니다.\n",
        "\n",
        "      loss_val = loss_lm.item()\n",
        "      losses.append(loss_val)\n",
        "\n",
        "      loss.backward()                                                                         # 6. loss, optimizer를 이용해 학습합니다.\n",
        "      optimizer.step()\n",
        "\n",
        "      pbar.update(1)\n",
        "      pbar.set_postfix_str(f'Loss: {loss_val:.3f} ({np.mean(losses):.3f})')\n",
        "  return np.mean(losses)\n"
      ],
      "metadata": {
        "id": "7CWOMm4qY5aW"
      },
      "execution_count": 21,
      "outputs": []
    },
    {
      "cell_type": "markdown",
      "source": [
        "학습을 위한 추가적인 내용을 선언합니다.\n",
        "\n",
        "1. GPU 사용 여부를 확인합니다.\n",
        "2. learning_rate 및 학습 epoch를 선언합니다."
      ],
      "metadata": {
        "id": "CaOsUdBzaxVT"
      }
    },
    {
      "cell_type": "code",
      "source": [
        "config.device = torch.device('cuda' if torch.cuda.is_available() else 'cpu')    # 1. GPU 사용 여부를 확인합니다.\n",
        "print(config)\n",
        "\n",
        "learning_rate = 5e-5                                                            # 2. learning_rate 및 학습 epoch를 선언합니다.\n",
        "n_epoch = 5"
      ],
      "metadata": {
        "id": "33v2QaJHa5d6",
        "colab": {
          "base_uri": "https://localhost:8080/"
        },
        "outputId": "cb004d63-54a5-4e22-f5e5-3fc5e40048e2"
      },
      "execution_count": 22,
      "outputs": [
        {
          "output_type": "stream",
          "name": "stdout",
          "text": [
            "{'n_enc_vocab': 8007, 'n_enc_seq': 256, 'n_seg_type': 2, 'n_layer': 6, 'd_hidn': 256, 'i_pad': 0, 'd_ff': 1024, 'n_head': 4, 'd_head': 64, 'dropout': 0.1, 'layer_norm_epsilon': 1e-12}\n"
          ]
        }
      ]
    },
    {
      "cell_type": "markdown",
      "source": [
        "위에서 선언된 내용을 이용해 학습을 실행하는 절차입니다.\n",
        "\n",
        "1. BERTPretrain을 생성합니다.\n",
        "2. 기존에 학습된 pretrain 값이 있다면 이를 로드합니다.\n",
        "3. BERTPretrain이 GPU 또는 CPU를 지원하도록 합니다.\n",
        "4. MLM loss(criterion_lm) 및 NLP loss(criterion_cls) 함수를 선언합니다.\n",
        "5. optimizer를 선언합니다.\n",
        "6. 각 epoch 마다 새로 train_loader를 생성합니다.\n",
        "  - step이 0인 경우는 위에서 생성했기 때문에 생성하지 않습니다.\n",
        "7. 각 epoch 마다 학습을 합니다."
      ],
      "metadata": {
        "id": "axFzaGrsbP6b"
      }
    },
    {
      "cell_type": "code",
      "source": [
        "# epoch 1당 약 1시간 소요\n",
        "# 중간에 RAM 초과 계속 진행 \n",
        "model = BERTPretrain(config)                                                            # 1. BERTPretrain을 생성합니다.\n",
        "\n",
        "save_pretrain = '/content/drive/MyDrive/colab/NLP_모델/BERT/save_bert_pretrain.pth'\n",
        "best_epoch, best_loss = 0, 0\n",
        "if os.path.isfile(save_pretrain):                                                       # 2. 기존에 학습된 pretrain 값이 있다면 이를 로드합니다.\n",
        "  best_epoch, best_loss = model.bert.load(save_pretrain)\n",
        "  print(f'load pretrain from: {save_pretrain}, epoch = {best_epoch}, loss = {best_loss}')\n",
        "  best_epoch += 1\n",
        "\n",
        "model.to(config.device)                                                                 # 3. BERTPretrain이 GPU 또는 CPU를 지원하도록 합니다.\n",
        "\n",
        "criterion_lm = torch.nn.CrossEntropyLoss(ignore_index = -1, reduction='mean')           # 4. MLM loss(criterion_lm) 및 NLP loss(criterion_cls) 함수를 선언합니다.\n",
        "criterion_cls = torch.nn.CrossEntropyLoss()\n",
        "optimizer = torch.optim.Adam(model.parameters(), lr = learning_rate)                    # 5. optimizer를 선언합니다.\n",
        "\n",
        "losses = []\n",
        "offset = best_epoch\n",
        "for step in range(n_epoch):\n",
        "  epoch = step + offset\n",
        "  if 0 < step:                                                                          # 6. 각 epoch 마다 새로 train_loader를 생성합니다.\n",
        "    del train_loader\n",
        "    dataset = PretrainDataSet(vocab, f'/content/drive/MyDrive/colab/NLP_모델/BERT/kowiki_bert_{epoch % count}.json')\n",
        "    train_loader = torch.utils.data.DataLoader(dataset, batch_size = batch_size, shuffle = True, collate_fn = pretrain_collate_fn)\n",
        "\n",
        "  loss = train_epoch(config, epoch, model, criterion_lm, criterion_cls, optimizer, train_loader)      # 7. 각 epoch 마다 학습을 합니다.\n",
        "  losses.append(loss)\n",
        "  model.bert.save(epoch, loss, save_pretrain)"
      ],
      "metadata": {
        "colab": {
          "base_uri": "https://localhost:8080/"
        },
        "id": "7JnEy9xTM3fh",
        "outputId": "df67e933-c8fa-4ad2-f9d5-f196b652d304"
      },
      "execution_count": 23,
      "outputs": [
        {
          "output_type": "stream",
          "name": "stdout",
          "text": [
            "load pretrain from: /content/drive/MyDrive/colab/NLP_모델/BERT/save_bert_pretrain.pth, epoch = 2, loss = 6.7877650272733066\n"
          ]
        },
        {
          "output_type": "stream",
          "name": "stderr",
          "text": [
            "Train(3): 100%|██████████| 7269/7269 [52:49<00:00,  2.29it/s, Loss: 6.704 (6.725)]\n",
            "Loading /content/drive/MyDrive/colab/NLP_모델/BERT/kowiki_bert_4.json: 100%|██████████| 930403/930403 [05:16<00:00, 2942.83 lines/s]\n",
            "Train(4): 100%|██████████| 7269/7269 [52:57<00:00,  2.29it/s, Loss: 6.797 (6.677)]\n",
            "Loading /content/drive/MyDrive/colab/NLP_모델/BERT/kowiki_bert_5.json: 100%|██████████| 930403/930403 [05:21<00:00, 2898.40 lines/s]\n",
            "Train(5): 100%|██████████| 7269/7269 [52:58<00:00,  2.29it/s, Loss: 6.614 (6.631)]\n",
            "Loading /content/drive/MyDrive/colab/NLP_모델/BERT/kowiki_bert_6.json: 100%|██████████| 930403/930403 [05:19<00:00, 2908.49 lines/s]\n",
            "Train(6): 100%|██████████| 7269/7269 [52:57<00:00,  2.29it/s, Loss: 6.681 (6.589)]\n",
            "Loading /content/drive/MyDrive/colab/NLP_모델/BERT/kowiki_bert_7.json: 100%|██████████| 930403/930403 [05:17<00:00, 2934.05 lines/s]\n",
            "Train(7): 100%|██████████| 7269/7269 [52:57<00:00,  2.29it/s, Loss: 6.519 (6.549)]\n"
          ]
        }
      ]
    },
    {
      "cell_type": "markdown",
      "source": [
        "# 11. Result\n",
        "학습 결과는 아래와 같습니다."
      ],
      "metadata": {
        "id": "kt2UpPUUQ__v"
      }
    },
    {
      "cell_type": "code",
      "source": [
        "# data\n",
        "data = {\n",
        "    'loss': losses\n",
        "}\n",
        "df = pd.DataFrame(data)\n",
        "display(df)\n",
        "\n",
        "# graph\n",
        "plt.figure(figsize=[8,4])\n",
        "plt.plot(losses)\n",
        "plt.xlabel('Depth')\n",
        "plt.xlim(0, n_epoch - 1)\n",
        "plt.ylabel('Position')\n",
        "plt.show()"
      ],
      "metadata": {
        "colab": {
          "base_uri": "https://localhost:8080/",
          "height": 468
        },
        "id": "u6KL3l5FRDQb",
        "outputId": "3ac68290-15b8-4414-fc86-7724a9c76d03"
      },
      "execution_count": 24,
      "outputs": [
        {
          "output_type": "display_data",
          "data": {
            "text/html": [
              "\n",
              "  <div id=\"df-f2529f84-c307-4265-8d1f-1339c2e6fda4\">\n",
              "    <div class=\"colab-df-container\">\n",
              "      <div>\n",
              "<style scoped>\n",
              "    .dataframe tbody tr th:only-of-type {\n",
              "        vertical-align: middle;\n",
              "    }\n",
              "\n",
              "    .dataframe tbody tr th {\n",
              "        vertical-align: top;\n",
              "    }\n",
              "\n",
              "    .dataframe thead th {\n",
              "        text-align: right;\n",
              "    }\n",
              "</style>\n",
              "<table border=\"1\" class=\"dataframe\">\n",
              "  <thead>\n",
              "    <tr style=\"text-align: right;\">\n",
              "      <th></th>\n",
              "      <th>loss</th>\n",
              "    </tr>\n",
              "  </thead>\n",
              "  <tbody>\n",
              "    <tr>\n",
              "      <th>0</th>\n",
              "      <td>6.725142</td>\n",
              "    </tr>\n",
              "    <tr>\n",
              "      <th>1</th>\n",
              "      <td>6.676604</td>\n",
              "    </tr>\n",
              "    <tr>\n",
              "      <th>2</th>\n",
              "      <td>6.630890</td>\n",
              "    </tr>\n",
              "    <tr>\n",
              "      <th>3</th>\n",
              "      <td>6.589169</td>\n",
              "    </tr>\n",
              "    <tr>\n",
              "      <th>4</th>\n",
              "      <td>6.549330</td>\n",
              "    </tr>\n",
              "  </tbody>\n",
              "</table>\n",
              "</div>\n",
              "      <button class=\"colab-df-convert\" onclick=\"convertToInteractive('df-f2529f84-c307-4265-8d1f-1339c2e6fda4')\"\n",
              "              title=\"Convert this dataframe to an interactive table.\"\n",
              "              style=\"display:none;\">\n",
              "        \n",
              "  <svg xmlns=\"http://www.w3.org/2000/svg\" height=\"24px\"viewBox=\"0 0 24 24\"\n",
              "       width=\"24px\">\n",
              "    <path d=\"M0 0h24v24H0V0z\" fill=\"none\"/>\n",
              "    <path d=\"M18.56 5.44l.94 2.06.94-2.06 2.06-.94-2.06-.94-.94-2.06-.94 2.06-2.06.94zm-11 1L8.5 8.5l.94-2.06 2.06-.94-2.06-.94L8.5 2.5l-.94 2.06-2.06.94zm10 10l.94 2.06.94-2.06 2.06-.94-2.06-.94-.94-2.06-.94 2.06-2.06.94z\"/><path d=\"M17.41 7.96l-1.37-1.37c-.4-.4-.92-.59-1.43-.59-.52 0-1.04.2-1.43.59L10.3 9.45l-7.72 7.72c-.78.78-.78 2.05 0 2.83L4 21.41c.39.39.9.59 1.41.59.51 0 1.02-.2 1.41-.59l7.78-7.78 2.81-2.81c.8-.78.8-2.07 0-2.86zM5.41 20L4 18.59l7.72-7.72 1.47 1.35L5.41 20z\"/>\n",
              "  </svg>\n",
              "      </button>\n",
              "      \n",
              "  <style>\n",
              "    .colab-df-container {\n",
              "      display:flex;\n",
              "      flex-wrap:wrap;\n",
              "      gap: 12px;\n",
              "    }\n",
              "\n",
              "    .colab-df-convert {\n",
              "      background-color: #E8F0FE;\n",
              "      border: none;\n",
              "      border-radius: 50%;\n",
              "      cursor: pointer;\n",
              "      display: none;\n",
              "      fill: #1967D2;\n",
              "      height: 32px;\n",
              "      padding: 0 0 0 0;\n",
              "      width: 32px;\n",
              "    }\n",
              "\n",
              "    .colab-df-convert:hover {\n",
              "      background-color: #E2EBFA;\n",
              "      box-shadow: 0px 1px 2px rgba(60, 64, 67, 0.3), 0px 1px 3px 1px rgba(60, 64, 67, 0.15);\n",
              "      fill: #174EA6;\n",
              "    }\n",
              "\n",
              "    [theme=dark] .colab-df-convert {\n",
              "      background-color: #3B4455;\n",
              "      fill: #D2E3FC;\n",
              "    }\n",
              "\n",
              "    [theme=dark] .colab-df-convert:hover {\n",
              "      background-color: #434B5C;\n",
              "      box-shadow: 0px 1px 3px 1px rgba(0, 0, 0, 0.15);\n",
              "      filter: drop-shadow(0px 1px 2px rgba(0, 0, 0, 0.3));\n",
              "      fill: #FFFFFF;\n",
              "    }\n",
              "  </style>\n",
              "\n",
              "      <script>\n",
              "        const buttonEl =\n",
              "          document.querySelector('#df-f2529f84-c307-4265-8d1f-1339c2e6fda4 button.colab-df-convert');\n",
              "        buttonEl.style.display =\n",
              "          google.colab.kernel.accessAllowed ? 'block' : 'none';\n",
              "\n",
              "        async function convertToInteractive(key) {\n",
              "          const element = document.querySelector('#df-f2529f84-c307-4265-8d1f-1339c2e6fda4');\n",
              "          const dataTable =\n",
              "            await google.colab.kernel.invokeFunction('convertToInteractive',\n",
              "                                                     [key], {});\n",
              "          if (!dataTable) return;\n",
              "\n",
              "          const docLinkHtml = 'Like what you see? Visit the ' +\n",
              "            '<a target=\"_blank\" href=https://colab.research.google.com/notebooks/data_table.ipynb>data table notebook</a>'\n",
              "            + ' to learn more about interactive tables.';\n",
              "          element.innerHTML = '';\n",
              "          dataTable['output_type'] = 'display_data';\n",
              "          await google.colab.output.renderOutput(dataTable, element);\n",
              "          const docLink = document.createElement('div');\n",
              "          docLink.innerHTML = docLinkHtml;\n",
              "          element.appendChild(docLink);\n",
              "        }\n",
              "      </script>\n",
              "    </div>\n",
              "  </div>\n",
              "  "
            ],
            "text/plain": [
              "       loss\n",
              "0  6.725142\n",
              "1  6.676604\n",
              "2  6.630890\n",
              "3  6.589169\n",
              "4  6.549330"
            ]
          },
          "metadata": {}
        },
        {
          "output_type": "display_data",
          "data": {
            "image/png": "[encoded data removed]",
            "text/plain": [
              "<Figure size 576x288 with 1 Axes>"
            ]
          },
          "metadata": {
            "needs_background": "light"
          }
        }
      ]
    }
  ]
}
