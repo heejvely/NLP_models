{
  "nbformat": 4,
  "nbformat_minor": 0,
  "metadata": {
    "colab": {
      "name": "Google Sentence Piece를 이용한 vocab 파일 만들기.ipynb",
      "provenance": [],
      "collapsed_sections": [],
      "machine_shape": "hm",
      "mount_file_id": "15Yp65A4Cv0J741bMLCEceKeDuxcgPhuC",
      "authorship_tag": "ABX9TyM9/80GXL30ixGdlBBS4GR8",
      "include_colab_link": true
    },
    "kernelspec": {
      "name": "python3",
      "display_name": "Python 3"
    },
    "language_info": {
      "name": "python"
    },
    "accelerator": "GPU"
  },
  "cells": [
    {
      "cell_type": "markdown",
      "metadata": {
        "id": "view-in-github",
        "colab_type": "text"
      },
      "source": [
        "<a href=\"https://colab.research.google.com/github/heejvely/NLP_models/blob/main/Google_Sentence_Piece%EB%A5%BC_%EC%9D%B4%EC%9A%A9%ED%95%9C_vocab_%ED%8C%8C%EC%9D%BC_%EB%A7%8C%EB%93%A4%EA%B8%B0.ipynb\" target=\"_parent\"><img src=\"https://colab.research.google.com/assets/colab-badge.svg\" alt=\"Open In Colab\"/></a>"
      ]
    },
    {
      "cell_type": "markdown",
      "source": [
        "* 코드 참조 :https://github.com/paul-hyun/transformer-evolution/blob/master/tutorial/vocab_with_sentencepiece.ipynb"
      ],
      "metadata": {
        "id": "VaBWJ2qngc06"
      }
    },
    {
      "cell_type": "markdown",
      "source": [
        "0. Pip install\n",
        "\n",
        "필요한 패키지를 pip를 이용해 설치"
      ],
      "metadata": {
        "id": "SmvXTKSsgxtg"
      }
    },
    {
      "cell_type": "code",
      "execution_count": 1,
      "metadata": {
        "id": "gdMESsQ9gYk6",
        "colab": {
          "base_uri": "https://localhost:8080/"
        },
        "outputId": "d0e6b59f-d94d-402b-8ec9-5e715945c00b"
      },
      "outputs": [
        {
          "output_type": "stream",
          "name": "stdout",
          "text": [
            "Collecting sentencepiece\n",
            "  Downloading sentencepiece-0.1.96-cp37-cp37m-manylinux_2_17_x86_64.manylinux2014_x86_64.whl (1.2 MB)\n",
            "\u001b[?25l\r\u001b[K     |▎                               | 10 kB 33.2 MB/s eta 0:00:01\r\u001b[K     |▌                               | 20 kB 27.8 MB/s eta 0:00:01\r\u001b[K     |▉                               | 30 kB 13.6 MB/s eta 0:00:01\r\u001b[K     |█                               | 40 kB 10.8 MB/s eta 0:00:01\r\u001b[K     |█▍                              | 51 kB 7.1 MB/s eta 0:00:01\r\u001b[K     |█▋                              | 61 kB 7.2 MB/s eta 0:00:01\r\u001b[K     |██                              | 71 kB 7.6 MB/s eta 0:00:01\r\u001b[K     |██▏                             | 81 kB 8.5 MB/s eta 0:00:01\r\u001b[K     |██▍                             | 92 kB 8.0 MB/s eta 0:00:01\r\u001b[K     |██▊                             | 102 kB 6.9 MB/s eta 0:00:01\r\u001b[K     |███                             | 112 kB 6.9 MB/s eta 0:00:01\r\u001b[K     |███▎                            | 122 kB 6.9 MB/s eta 0:00:01\r\u001b[K     |███▌                            | 133 kB 6.9 MB/s eta 0:00:01\r\u001b[K     |███▉                            | 143 kB 6.9 MB/s eta 0:00:01\r\u001b[K     |████                            | 153 kB 6.9 MB/s eta 0:00:01\r\u001b[K     |████▎                           | 163 kB 6.9 MB/s eta 0:00:01\r\u001b[K     |████▋                           | 174 kB 6.9 MB/s eta 0:00:01\r\u001b[K     |████▉                           | 184 kB 6.9 MB/s eta 0:00:01\r\u001b[K     |█████▏                          | 194 kB 6.9 MB/s eta 0:00:01\r\u001b[K     |█████▍                          | 204 kB 6.9 MB/s eta 0:00:01\r\u001b[K     |█████▊                          | 215 kB 6.9 MB/s eta 0:00:01\r\u001b[K     |██████                          | 225 kB 6.9 MB/s eta 0:00:01\r\u001b[K     |██████▏                         | 235 kB 6.9 MB/s eta 0:00:01\r\u001b[K     |██████▌                         | 245 kB 6.9 MB/s eta 0:00:01\r\u001b[K     |██████▊                         | 256 kB 6.9 MB/s eta 0:00:01\r\u001b[K     |███████                         | 266 kB 6.9 MB/s eta 0:00:01\r\u001b[K     |███████▎                        | 276 kB 6.9 MB/s eta 0:00:01\r\u001b[K     |███████▋                        | 286 kB 6.9 MB/s eta 0:00:01\r\u001b[K     |███████▉                        | 296 kB 6.9 MB/s eta 0:00:01\r\u001b[K     |████████                        | 307 kB 6.9 MB/s eta 0:00:01\r\u001b[K     |████████▍                       | 317 kB 6.9 MB/s eta 0:00:01\r\u001b[K     |████████▋                       | 327 kB 6.9 MB/s eta 0:00:01\r\u001b[K     |█████████                       | 337 kB 6.9 MB/s eta 0:00:01\r\u001b[K     |█████████▏                      | 348 kB 6.9 MB/s eta 0:00:01\r\u001b[K     |█████████▌                      | 358 kB 6.9 MB/s eta 0:00:01\r\u001b[K     |█████████▊                      | 368 kB 6.9 MB/s eta 0:00:01\r\u001b[K     |██████████                      | 378 kB 6.9 MB/s eta 0:00:01\r\u001b[K     |██████████▎                     | 389 kB 6.9 MB/s eta 0:00:01\r\u001b[K     |██████████▌                     | 399 kB 6.9 MB/s eta 0:00:01\r\u001b[K     |██████████▉                     | 409 kB 6.9 MB/s eta 0:00:01\r\u001b[K     |███████████                     | 419 kB 6.9 MB/s eta 0:00:01\r\u001b[K     |███████████▍                    | 430 kB 6.9 MB/s eta 0:00:01\r\u001b[K     |███████████▋                    | 440 kB 6.9 MB/s eta 0:00:01\r\u001b[K     |███████████▉                    | 450 kB 6.9 MB/s eta 0:00:01\r\u001b[K     |████████████▏                   | 460 kB 6.9 MB/s eta 0:00:01\r\u001b[K     |████████████▍                   | 471 kB 6.9 MB/s eta 0:00:01\r\u001b[K     |████████████▊                   | 481 kB 6.9 MB/s eta 0:00:01\r\u001b[K     |█████████████                   | 491 kB 6.9 MB/s eta 0:00:01\r\u001b[K     |█████████████▎                  | 501 kB 6.9 MB/s eta 0:00:01\r\u001b[K     |█████████████▌                  | 512 kB 6.9 MB/s eta 0:00:01\r\u001b[K     |█████████████▊                  | 522 kB 6.9 MB/s eta 0:00:01\r\u001b[K     |██████████████                  | 532 kB 6.9 MB/s eta 0:00:01\r\u001b[K     |██████████████▎                 | 542 kB 6.9 MB/s eta 0:00:01\r\u001b[K     |██████████████▋                 | 552 kB 6.9 MB/s eta 0:00:01\r\u001b[K     |██████████████▉                 | 563 kB 6.9 MB/s eta 0:00:01\r\u001b[K     |███████████████▏                | 573 kB 6.9 MB/s eta 0:00:01\r\u001b[K     |███████████████▍                | 583 kB 6.9 MB/s eta 0:00:01\r\u001b[K     |███████████████▋                | 593 kB 6.9 MB/s eta 0:00:01\r\u001b[K     |████████████████                | 604 kB 6.9 MB/s eta 0:00:01\r\u001b[K     |████████████████▏               | 614 kB 6.9 MB/s eta 0:00:01\r\u001b[K     |████████████████▌               | 624 kB 6.9 MB/s eta 0:00:01\r\u001b[K     |████████████████▊               | 634 kB 6.9 MB/s eta 0:00:01\r\u001b[K     |█████████████████               | 645 kB 6.9 MB/s eta 0:00:01\r\u001b[K     |█████████████████▎              | 655 kB 6.9 MB/s eta 0:00:01\r\u001b[K     |█████████████████▌              | 665 kB 6.9 MB/s eta 0:00:01\r\u001b[K     |█████████████████▉              | 675 kB 6.9 MB/s eta 0:00:01\r\u001b[K     |██████████████████              | 686 kB 6.9 MB/s eta 0:00:01\r\u001b[K     |██████████████████▍             | 696 kB 6.9 MB/s eta 0:00:01\r\u001b[K     |██████████████████▋             | 706 kB 6.9 MB/s eta 0:00:01\r\u001b[K     |███████████████████             | 716 kB 6.9 MB/s eta 0:00:01\r\u001b[K     |███████████████████▏            | 727 kB 6.9 MB/s eta 0:00:01\r\u001b[K     |███████████████████▍            | 737 kB 6.9 MB/s eta 0:00:01\r\u001b[K     |███████████████████▊            | 747 kB 6.9 MB/s eta 0:00:01\r\u001b[K     |████████████████████            | 757 kB 6.9 MB/s eta 0:00:01\r\u001b[K     |████████████████████▎           | 768 kB 6.9 MB/s eta 0:00:01\r\u001b[K     |████████████████████▌           | 778 kB 6.9 MB/s eta 0:00:01\r\u001b[K     |████████████████████▉           | 788 kB 6.9 MB/s eta 0:00:01\r\u001b[K     |█████████████████████           | 798 kB 6.9 MB/s eta 0:00:01\r\u001b[K     |█████████████████████▎          | 808 kB 6.9 MB/s eta 0:00:01\r\u001b[K     |█████████████████████▋          | 819 kB 6.9 MB/s eta 0:00:01\r\u001b[K     |█████████████████████▉          | 829 kB 6.9 MB/s eta 0:00:01\r\u001b[K     |██████████████████████▏         | 839 kB 6.9 MB/s eta 0:00:01\r\u001b[K     |██████████████████████▍         | 849 kB 6.9 MB/s eta 0:00:01\r\u001b[K     |██████████████████████▊         | 860 kB 6.9 MB/s eta 0:00:01\r\u001b[K     |███████████████████████         | 870 kB 6.9 MB/s eta 0:00:01\r\u001b[K     |███████████████████████▏        | 880 kB 6.9 MB/s eta 0:00:01\r\u001b[K     |███████████████████████▌        | 890 kB 6.9 MB/s eta 0:00:01\r\u001b[K     |███████████████████████▊        | 901 kB 6.9 MB/s eta 0:00:01\r\u001b[K     |████████████████████████        | 911 kB 6.9 MB/s eta 0:00:01\r\u001b[K     |████████████████████████▎       | 921 kB 6.9 MB/s eta 0:00:01\r\u001b[K     |████████████████████████▋       | 931 kB 6.9 MB/s eta 0:00:01\r\u001b[K     |████████████████████████▉       | 942 kB 6.9 MB/s eta 0:00:01\r\u001b[K     |█████████████████████████       | 952 kB 6.9 MB/s eta 0:00:01\r\u001b[K     |█████████████████████████▍      | 962 kB 6.9 MB/s eta 0:00:01\r\u001b[K     |█████████████████████████▋      | 972 kB 6.9 MB/s eta 0:00:01\r\u001b[K     |██████████████████████████      | 983 kB 6.9 MB/s eta 0:00:01\r\u001b[K     |██████████████████████████▏     | 993 kB 6.9 MB/s eta 0:00:01\r\u001b[K     |██████████████████████████▌     | 1.0 MB 6.9 MB/s eta 0:00:01\r\u001b[K     |██████████████████████████▊     | 1.0 MB 6.9 MB/s eta 0:00:01\r\u001b[K     |███████████████████████████     | 1.0 MB 6.9 MB/s eta 0:00:01\r\u001b[K     |███████████████████████████▎    | 1.0 MB 6.9 MB/s eta 0:00:01\r\u001b[K     |███████████████████████████▌    | 1.0 MB 6.9 MB/s eta 0:00:01\r\u001b[K     |███████████████████████████▉    | 1.1 MB 6.9 MB/s eta 0:00:01\r\u001b[K     |████████████████████████████    | 1.1 MB 6.9 MB/s eta 0:00:01\r\u001b[K     |████████████████████████████▍   | 1.1 MB 6.9 MB/s eta 0:00:01\r\u001b[K     |████████████████████████████▋   | 1.1 MB 6.9 MB/s eta 0:00:01\r\u001b[K     |████████████████████████████▉   | 1.1 MB 6.9 MB/s eta 0:00:01\r\u001b[K     |█████████████████████████████▏  | 1.1 MB 6.9 MB/s eta 0:00:01\r\u001b[K     |█████████████████████████████▍  | 1.1 MB 6.9 MB/s eta 0:00:01\r\u001b[K     |█████████████████████████████▊  | 1.1 MB 6.9 MB/s eta 0:00:01\r\u001b[K     |██████████████████████████████  | 1.1 MB 6.9 MB/s eta 0:00:01\r\u001b[K     |██████████████████████████████▎ | 1.1 MB 6.9 MB/s eta 0:00:01\r\u001b[K     |██████████████████████████████▌ | 1.2 MB 6.9 MB/s eta 0:00:01\r\u001b[K     |██████████████████████████████▊ | 1.2 MB 6.9 MB/s eta 0:00:01\r\u001b[K     |███████████████████████████████ | 1.2 MB 6.9 MB/s eta 0:00:01\r\u001b[K     |███████████████████████████████▎| 1.2 MB 6.9 MB/s eta 0:00:01\r\u001b[K     |███████████████████████████████▋| 1.2 MB 6.9 MB/s eta 0:00:01\r\u001b[K     |███████████████████████████████▉| 1.2 MB 6.9 MB/s eta 0:00:01\r\u001b[K     |████████████████████████████████| 1.2 MB 6.9 MB/s \n",
            "\u001b[?25hInstalling collected packages: sentencepiece\n",
            "Successfully installed sentencepiece-0.1.96\n"
          ]
        }
      ],
      "source": [
        "!pip install sentencepiece"
      ]
    },
    {
      "cell_type": "markdown",
      "source": [
        "1. Google Drive Mount\n",
        "\n",
        "colab에서는 컴퓨터 자원에 접근이 불가능하므로 Google Drive에 파일을 올려 놓은 후 로컬처럼 사용함."
      ],
      "metadata": {
        "id": "IT8wjcIcg0od"
      }
    },
    {
      "cell_type": "code",
      "source": [
        "# data 저장할 폴더\n",
        "data_dir = '/content/drive/MyDrive/colab/NLP_모델/web-crawler/kowiki'"
      ],
      "metadata": {
        "id": "_8Z2GiAMpZwg"
      },
      "execution_count": 4,
      "outputs": []
    },
    {
      "cell_type": "markdown",
      "source": [
        "2. Imports"
      ],
      "metadata": {
        "id": "bg8lDV0OplLi"
      }
    },
    {
      "cell_type": "code",
      "source": [
        "import os\n",
        "import gzip\n",
        "import pandas as pd\n",
        "import sentencepiece as spm\n",
        "import shutil"
      ],
      "metadata": {
        "id": "7t5Upew9pkGK"
      },
      "execution_count": 3,
      "outputs": []
    },
    {
      "cell_type": "markdown",
      "source": [
        "3. 폴더의 목록을 확인"
      ],
      "metadata": {
        "id": "xLhhlCzBptDF"
      }
    },
    {
      "cell_type": "code",
      "source": [
        "os.listdir(data_dir)"
      ],
      "metadata": {
        "colab": {
          "base_uri": "https://localhost:8080/"
        },
        "id": "6896aWiXpsVd",
        "outputId": "69f5c1b5-4733-4d45-9d29-3463ed3e9565"
      },
      "execution_count": 5,
      "outputs": [
        {
          "output_type": "execute_result",
          "data": {
            "text/plain": [
              "['kowiki_20211228.csv']"
            ]
          },
          "metadata": {},
          "execution_count": 5
        }
      ]
    },
    {
      "cell_type": "markdown",
      "source": [
        "4. CSV 파일을 TEXT 형태로 변환\n",
        "\n",
        "Google SentencePiece에서 사용할 수 있도록 CSV를 TEXT 형태로 변환합니다."
      ],
      "metadata": {
        "id": "tBdRxOzMqBtM"
      }
    },
    {
      "cell_type": "code",
      "source": [
        "# field larger than field limit: error로 인한 설정\n",
        "import sys\n",
        "import csv\n",
        "\n",
        "csv.field_size_limit(sys.maxsize)"
      ],
      "metadata": {
        "colab": {
          "base_uri": "https://localhost:8080/"
        },
        "id": "AVVMF58ArM89",
        "outputId": "15a8f82a-bf9b-421f-c5ec-4a4ea0e66143"
      },
      "execution_count": 9,
      "outputs": [
        {
          "output_type": "execute_result",
          "data": {
            "text/plain": [
              "131072"
            ]
          },
          "metadata": {},
          "execution_count": 9
        }
      ]
    },
    {
      "cell_type": "code",
      "source": [
        "in_file = '/content/drive/MyDrive/colab/NLP 모델/web-crawler/kowiki/kowiki_20211228.csv'\n",
        "out_file = '/content/drive/MyDrive/colab/NLP 모델/kowiki.txt'\n",
        "SEPERATOR = u'\\u241D'\n",
        "df = pd.read_csv(in_file, sep=SEPERATOR, engine='python')\n",
        "with open(out_file,'w')  as f:\n",
        "  for index, row in df.iterrows():\n",
        "    f.write(row['text'])        # title과 text가 중복되므로 text만 저장\n",
        "    f.write('\\n\\n\\n\\n')         # 구분자 - 위키 문서별로 구분하기 위함."
      ],
      "metadata": {
        "id": "TlUE-VZeqBKd"
      },
      "execution_count": 11,
      "outputs": []
    },
    {
      "cell_type": "markdown",
      "source": [
        "5. Vovab 만들기\n",
        "\n",
        "#### 옵션\n",
        "- input: 입력 corpus\n",
        "- prefix: 저장할 모델 이름\n",
        "- vocab_size:vocab 개수(기본 8,000에 스페셜 토큰 7개를 더해서 8,007개)\n",
        "- max_sentence_length: 문장의 최대 길이\n",
        "- pad_id, pad_piece: nknown token id, 값\n",
        "- bos_id, bos_piece: begin of sentence token id, 값\n",
        "- eos_id, eos_piece: end of sequence token id, 값\n",
        "- user_defined_symbols: 사용자 정의 토큰"
      ],
      "metadata": {
        "id": "_Y4YnYbprxP7"
      }
    },
    {
      "cell_type": "code",
      "source": [
        "corpus = '/content/drive/MyDrive/colab/NLP_모델/kowiki.txt'\n",
        "prefix = 'kowiki'\n",
        "vocab_size = 8000\n",
        "spm.SentencePieceTrainer.train(\n",
        "    f\"--input={corpus} --model_prefix={prefix} --vocab_size={vocab_size + 7}\" + \n",
        "    \" --model_type=bpe\" +\n",
        "    \" --max_sentence_length=999999\" + # 문장 최대 길이\n",
        "    \" --pad_id=0 --pad_piece=[PAD]\" + # pad (0)\n",
        "    \" --unk_id=1 --unk_piece=[UNK]\" + # unknown (1)\n",
        "    \" --bos_id=2 --bos_piece=[BOS]\" + # begin of sequence (2)\n",
        "    \" --eos_id=3 --eos_piece=[EOS]\" + # end of sequence (3)\n",
        "    \" --user_defined_symbols=[SEP],[CLS],[MASK]\") # 사용자 정의 토큰"
      ],
      "metadata": {
        "id": "28GsGA3eq5un"
      },
      "execution_count": 14,
      "outputs": []
    },
    {
      "cell_type": "code",
      "source": [
        "# model, vocab 저장\n",
        "shutil.copy(\"kowiki.model\", \"/content/drive/MyDrive/colab/NLP_모델/kowiki_corpus/kowiki.model\")\n",
        "shutil.copy(\"kowiki.vocab\", \"/content/drive/MyDrive/colab/NLP_모델/kowiki_corpus/kowiki.vocab\")"
      ],
      "metadata": {
        "colab": {
          "base_uri": "https://localhost:8080/",
          "height": 35
        },
        "id": "Zl75zLYgt-Ff",
        "outputId": "fe788673-6027-45ff-ff4b-1c2b7bc3ed16"
      },
      "execution_count": 16,
      "outputs": [
        {
          "output_type": "execute_result",
          "data": {
            "application/vnd.google.colaboratory.intrinsic+json": {
              "type": "string"
            },
            "text/plain": [
              "'/content/drive/MyDrive/colab/NLP_모델/kowiki_corpus/kowiki.vocab'"
            ]
          },
          "metadata": {},
          "execution_count": 16
        }
      ]
    },
    {
      "cell_type": "markdown",
      "source": [
        "6 Vobab Test\n",
        "\n",
        "생성된 vocab을 이용한 간단한 테스트 코드입니다."
      ],
      "metadata": {
        "id": "2WyVlxU3tHjj"
      }
    },
    {
      "cell_type": "code",
      "source": [
        "vocab_file= '/content/drive/MyDrive/colab/NLP_모델/kowiki_corpus/kowiki.model'\n",
        "vocab = spm.SentencePieceProcessor()\n",
        "vocab.load(vocab_file)\n",
        "\n",
        "lines = [\n",
        "         \"겨울이 되어서 날씨가 무척 추워요.\",\n",
        "         \"이번 성탄절은 화이트 크리스마스가 될까요?\",\n",
        "         \"겨울에 감기 조심하시고 행복한 연말 되세요.\"\n",
        "]\n",
        "\n",
        "for line in lines:\n",
        "  pieces = vocab.encode_as_pieces(line)\n",
        "  ids = vocab.encode_as_ids(line)\n",
        "  print(line)\n",
        "  print(pieces)\n",
        "  print(ids)\n",
        "  print()"
      ],
      "metadata": {
        "colab": {
          "base_uri": "https://localhost:8080/"
        },
        "id": "Fx9DwP-qtN24",
        "outputId": "7e3545c9-b8bf-4e4d-9701-c096a2a99de0"
      },
      "execution_count": 17,
      "outputs": [
        {
          "output_type": "stream",
          "name": "stdout",
          "text": [
            "겨울이 되어서 날씨가 무척 추워요.\n",
            "['▁겨울', '이', '▁되어', '서', '▁날', '씨', '가', '▁무', '척', '▁추', '워', '요', '.']\n",
            "[3215, 3540, 637, 3554, 702, 3981, 3551, 107, 4151, 197, 3908, 3712, 3542]\n",
            "\n",
            "이번 성탄절은 화이트 크리스마스가 될까요?\n",
            "['▁이번', '▁성', '탄', '절', '은', '▁화', '이트', '▁크리스', '마', '스가', '▁될', '까', '요', '?']\n",
            "[2915, 88, 3921, 3876, 3556, 268, 659, 1908, 3618, 759, 1432, 3750, 3712, 4215]\n",
            "\n",
            "겨울에 감기 조심하시고 행복한 연말 되세요.\n",
            "['▁겨울', '에', '▁감', '기', '▁조', '심', '하', '시', '고', '▁행', '복', '한', '▁연', '말', '▁되', '세', '요', '.']\n",
            "[3215, 3543, 200, 3558, 53, 3785, 3548, 3565, 3552, 241, 3826, 3555, 63, 3781, 453, 3636, 3712, 3542]\n",
            "\n"
          ]
        }
      ]
    },
    {
      "cell_type": "markdown",
      "source": [
        "subword 단위로 잘 쪼개지는 것을 확인할 수 있음."
      ],
      "metadata": {
        "id": "4PcmhZdzufO9"
      }
    }
  ]
}
