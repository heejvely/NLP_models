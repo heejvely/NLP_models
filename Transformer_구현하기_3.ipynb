{
  "nbformat": 4,
  "nbformat_minor": 0,
  "metadata": {
    "colab": {
      "name": "Transformer 구현하기_3.ipynb",
      "provenance": [],
      "machine_shape": "hm",
      "collapsed_sections": [],
      "mount_file_id": "1v8o4b19SHDGZWH2RIdsPZqNuff_kWsOK",
      "authorship_tag": "ABX9TyP+gB2+0qdKuwe0vUM1VrHq",
      "include_colab_link": true
    },
    "kernelspec": {
      "name": "python3",
      "display_name": "Python 3"
    },
    "language_info": {
      "name": "python"
    },
    "accelerator": "GPU"
  },
  "cells": [
    {
      "cell_type": "markdown",
      "metadata": {
        "id": "view-in-github",
        "colab_type": "text"
      },
      "source": [
        "<a href=\"https://colab.research.google.com/github/heejvely/NLP_models/blob/main/Transformer_%EA%B5%AC%ED%98%84%ED%95%98%EA%B8%B0_3.ipynb\" target=\"_parent\"><img src=\"https://colab.research.google.com/assets/colab-badge.svg\" alt=\"Open In Colab\"/></a>"
      ]
    },
    {
      "cell_type": "markdown",
      "source": [
        "* 코드 참조: https://paul-hyun.github.io/transformer-03/"
      ],
      "metadata": {
        "id": "omFSsOGKMjnA"
      }
    },
    {
      "cell_type": "markdown",
      "source": [
        "Transformer 구현한기_2의 Transformer 클래스를 이용하여 NAver 영화리뷰 감정분석 분류 모델 클래스 정의"
      ],
      "metadata": {
        "id": "FkisadDZft4v"
      }
    },
    {
      "cell_type": "markdown",
      "source": [
        "0. Imports"
      ],
      "metadata": {
        "id": "Tqg3qLHDNXau"
      }
    },
    {
      "cell_type": "code",
      "source": [
        "# sentencepiece import\n",
        "!pip install sentencepiece\n",
        "!pip install wget"
      ],
      "metadata": {
        "colab": {
          "base_uri": "https://localhost:8080/"
        },
        "id": "gNyswLZNM9dk",
        "outputId": "f83c2df0-bc0c-4a45-bccd-ff7c67244aa2"
      },
      "execution_count": 1,
      "outputs": [
        {
          "output_type": "stream",
          "name": "stdout",
          "text": [
            "Collecting sentencepiece\n",
            "  Downloading sentencepiece-0.1.96-cp37-cp37m-manylinux_2_17_x86_64.manylinux2014_x86_64.whl (1.2 MB)\n",
            "\u001b[?25l\r\u001b[K     |▎                               | 10 kB 17.5 MB/s eta 0:00:01\r\u001b[K     |▌                               | 20 kB 9.8 MB/s eta 0:00:01\r\u001b[K     |▉                               | 30 kB 6.9 MB/s eta 0:00:01\r\u001b[K     |█                               | 40 kB 3.5 MB/s eta 0:00:01\r\u001b[K     |█▍                              | 51 kB 4.1 MB/s eta 0:00:01\r\u001b[K     |█▋                              | 61 kB 4.4 MB/s eta 0:00:01\r\u001b[K     |██                              | 71 kB 4.5 MB/s eta 0:00:01\r\u001b[K     |██▏                             | 81 kB 5.1 MB/s eta 0:00:01\r\u001b[K     |██▍                             | 92 kB 3.9 MB/s eta 0:00:01\r\u001b[K     |██▊                             | 102 kB 4.2 MB/s eta 0:00:01\r\u001b[K     |███                             | 112 kB 4.2 MB/s eta 0:00:01\r\u001b[K     |███▎                            | 122 kB 4.2 MB/s eta 0:00:01\r\u001b[K     |███▌                            | 133 kB 4.2 MB/s eta 0:00:01\r\u001b[K     |███▉                            | 143 kB 4.2 MB/s eta 0:00:01\r\u001b[K     |████                            | 153 kB 4.2 MB/s eta 0:00:01\r\u001b[K     |████▎                           | 163 kB 4.2 MB/s eta 0:00:01\r\u001b[K     |████▋                           | 174 kB 4.2 MB/s eta 0:00:01\r\u001b[K     |████▉                           | 184 kB 4.2 MB/s eta 0:00:01\r\u001b[K     |█████▏                          | 194 kB 4.2 MB/s eta 0:00:01\r\u001b[K     |█████▍                          | 204 kB 4.2 MB/s eta 0:00:01\r\u001b[K     |█████▊                          | 215 kB 4.2 MB/s eta 0:00:01\r\u001b[K     |██████                          | 225 kB 4.2 MB/s eta 0:00:01\r\u001b[K     |██████▏                         | 235 kB 4.2 MB/s eta 0:00:01\r\u001b[K     |██████▌                         | 245 kB 4.2 MB/s eta 0:00:01\r\u001b[K     |██████▊                         | 256 kB 4.2 MB/s eta 0:00:01\r\u001b[K     |███████                         | 266 kB 4.2 MB/s eta 0:00:01\r\u001b[K     |███████▎                        | 276 kB 4.2 MB/s eta 0:00:01\r\u001b[K     |███████▋                        | 286 kB 4.2 MB/s eta 0:00:01\r\u001b[K     |███████▉                        | 296 kB 4.2 MB/s eta 0:00:01\r\u001b[K     |████████                        | 307 kB 4.2 MB/s eta 0:00:01\r\u001b[K     |████████▍                       | 317 kB 4.2 MB/s eta 0:00:01\r\u001b[K     |████████▋                       | 327 kB 4.2 MB/s eta 0:00:01\r\u001b[K     |█████████                       | 337 kB 4.2 MB/s eta 0:00:01\r\u001b[K     |█████████▏                      | 348 kB 4.2 MB/s eta 0:00:01\r\u001b[K     |█████████▌                      | 358 kB 4.2 MB/s eta 0:00:01\r\u001b[K     |█████████▊                      | 368 kB 4.2 MB/s eta 0:00:01\r\u001b[K     |██████████                      | 378 kB 4.2 MB/s eta 0:00:01\r\u001b[K     |██████████▎                     | 389 kB 4.2 MB/s eta 0:00:01\r\u001b[K     |██████████▌                     | 399 kB 4.2 MB/s eta 0:00:01\r\u001b[K     |██████████▉                     | 409 kB 4.2 MB/s eta 0:00:01\r\u001b[K     |███████████                     | 419 kB 4.2 MB/s eta 0:00:01\r\u001b[K     |███████████▍                    | 430 kB 4.2 MB/s eta 0:00:01\r\u001b[K     |███████████▋                    | 440 kB 4.2 MB/s eta 0:00:01\r\u001b[K     |███████████▉                    | 450 kB 4.2 MB/s eta 0:00:01\r\u001b[K     |████████████▏                   | 460 kB 4.2 MB/s eta 0:00:01\r\u001b[K     |████████████▍                   | 471 kB 4.2 MB/s eta 0:00:01\r\u001b[K     |████████████▊                   | 481 kB 4.2 MB/s eta 0:00:01\r\u001b[K     |█████████████                   | 491 kB 4.2 MB/s eta 0:00:01\r\u001b[K     |█████████████▎                  | 501 kB 4.2 MB/s eta 0:00:01\r\u001b[K     |█████████████▌                  | 512 kB 4.2 MB/s eta 0:00:01\r\u001b[K     |█████████████▊                  | 522 kB 4.2 MB/s eta 0:00:01\r\u001b[K     |██████████████                  | 532 kB 4.2 MB/s eta 0:00:01\r\u001b[K     |██████████████▎                 | 542 kB 4.2 MB/s eta 0:00:01\r\u001b[K     |██████████████▋                 | 552 kB 4.2 MB/s eta 0:00:01\r\u001b[K     |██████████████▉                 | 563 kB 4.2 MB/s eta 0:00:01\r\u001b[K     |███████████████▏                | 573 kB 4.2 MB/s eta 0:00:01\r\u001b[K     |███████████████▍                | 583 kB 4.2 MB/s eta 0:00:01\r\u001b[K     |███████████████▋                | 593 kB 4.2 MB/s eta 0:00:01\r\u001b[K     |████████████████                | 604 kB 4.2 MB/s eta 0:00:01\r\u001b[K     |████████████████▏               | 614 kB 4.2 MB/s eta 0:00:01\r\u001b[K     |████████████████▌               | 624 kB 4.2 MB/s eta 0:00:01\r\u001b[K     |████████████████▊               | 634 kB 4.2 MB/s eta 0:00:01\r\u001b[K     |█████████████████               | 645 kB 4.2 MB/s eta 0:00:01\r\u001b[K     |█████████████████▎              | 655 kB 4.2 MB/s eta 0:00:01\r\u001b[K     |█████████████████▌              | 665 kB 4.2 MB/s eta 0:00:01\r\u001b[K     |█████████████████▉              | 675 kB 4.2 MB/s eta 0:00:01\r\u001b[K     |██████████████████              | 686 kB 4.2 MB/s eta 0:00:01\r\u001b[K     |██████████████████▍             | 696 kB 4.2 MB/s eta 0:00:01\r\u001b[K     |██████████████████▋             | 706 kB 4.2 MB/s eta 0:00:01\r\u001b[K     |███████████████████             | 716 kB 4.2 MB/s eta 0:00:01\r\u001b[K     |███████████████████▏            | 727 kB 4.2 MB/s eta 0:00:01\r\u001b[K     |███████████████████▍            | 737 kB 4.2 MB/s eta 0:00:01\r\u001b[K     |███████████████████▊            | 747 kB 4.2 MB/s eta 0:00:01\r\u001b[K     |████████████████████            | 757 kB 4.2 MB/s eta 0:00:01\r\u001b[K     |████████████████████▎           | 768 kB 4.2 MB/s eta 0:00:01\r\u001b[K     |████████████████████▌           | 778 kB 4.2 MB/s eta 0:00:01\r\u001b[K     |████████████████████▉           | 788 kB 4.2 MB/s eta 0:00:01\r\u001b[K     |█████████████████████           | 798 kB 4.2 MB/s eta 0:00:01\r\u001b[K     |█████████████████████▎          | 808 kB 4.2 MB/s eta 0:00:01\r\u001b[K     |█████████████████████▋          | 819 kB 4.2 MB/s eta 0:00:01\r\u001b[K     |█████████████████████▉          | 829 kB 4.2 MB/s eta 0:00:01\r\u001b[K     |██████████████████████▏         | 839 kB 4.2 MB/s eta 0:00:01\r\u001b[K     |██████████████████████▍         | 849 kB 4.2 MB/s eta 0:00:01\r\u001b[K     |██████████████████████▊         | 860 kB 4.2 MB/s eta 0:00:01\r\u001b[K     |███████████████████████         | 870 kB 4.2 MB/s eta 0:00:01\r\u001b[K     |███████████████████████▏        | 880 kB 4.2 MB/s eta 0:00:01\r\u001b[K     |███████████████████████▌        | 890 kB 4.2 MB/s eta 0:00:01\r\u001b[K     |███████████████████████▊        | 901 kB 4.2 MB/s eta 0:00:01\r\u001b[K     |████████████████████████        | 911 kB 4.2 MB/s eta 0:00:01\r\u001b[K     |████████████████████████▎       | 921 kB 4.2 MB/s eta 0:00:01\r\u001b[K     |████████████████████████▋       | 931 kB 4.2 MB/s eta 0:00:01\r\u001b[K     |████████████████████████▉       | 942 kB 4.2 MB/s eta 0:00:01\r\u001b[K     |█████████████████████████       | 952 kB 4.2 MB/s eta 0:00:01\r\u001b[K     |█████████████████████████▍      | 962 kB 4.2 MB/s eta 0:00:01\r\u001b[K     |█████████████████████████▋      | 972 kB 4.2 MB/s eta 0:00:01\r\u001b[K     |██████████████████████████      | 983 kB 4.2 MB/s eta 0:00:01\r\u001b[K     |██████████████████████████▏     | 993 kB 4.2 MB/s eta 0:00:01\r\u001b[K     |██████████████████████████▌     | 1.0 MB 4.2 MB/s eta 0:00:01\r\u001b[K     |██████████████████████████▊     | 1.0 MB 4.2 MB/s eta 0:00:01\r\u001b[K     |███████████████████████████     | 1.0 MB 4.2 MB/s eta 0:00:01\r\u001b[K     |███████████████████████████▎    | 1.0 MB 4.2 MB/s eta 0:00:01\r\u001b[K     |███████████████████████████▌    | 1.0 MB 4.2 MB/s eta 0:00:01\r\u001b[K     |███████████████████████████▉    | 1.1 MB 4.2 MB/s eta 0:00:01\r\u001b[K     |████████████████████████████    | 1.1 MB 4.2 MB/s eta 0:00:01\r\u001b[K     |████████████████████████████▍   | 1.1 MB 4.2 MB/s eta 0:00:01\r\u001b[K     |████████████████████████████▋   | 1.1 MB 4.2 MB/s eta 0:00:01\r\u001b[K     |████████████████████████████▉   | 1.1 MB 4.2 MB/s eta 0:00:01\r\u001b[K     |█████████████████████████████▏  | 1.1 MB 4.2 MB/s eta 0:00:01\r\u001b[K     |█████████████████████████████▍  | 1.1 MB 4.2 MB/s eta 0:00:01\r\u001b[K     |█████████████████████████████▊  | 1.1 MB 4.2 MB/s eta 0:00:01\r\u001b[K     |██████████████████████████████  | 1.1 MB 4.2 MB/s eta 0:00:01\r\u001b[K     |██████████████████████████████▎ | 1.1 MB 4.2 MB/s eta 0:00:01\r\u001b[K     |██████████████████████████████▌ | 1.2 MB 4.2 MB/s eta 0:00:01\r\u001b[K     |██████████████████████████████▊ | 1.2 MB 4.2 MB/s eta 0:00:01\r\u001b[K     |███████████████████████████████ | 1.2 MB 4.2 MB/s eta 0:00:01\r\u001b[K     |███████████████████████████████▎| 1.2 MB 4.2 MB/s eta 0:00:01\r\u001b[K     |███████████████████████████████▋| 1.2 MB 4.2 MB/s eta 0:00:01\r\u001b[K     |███████████████████████████████▉| 1.2 MB 4.2 MB/s eta 0:00:01\r\u001b[K     |████████████████████████████████| 1.2 MB 4.2 MB/s \n",
            "\u001b[?25hInstalling collected packages: sentencepiece\n",
            "Successfully installed sentencepiece-0.1.96\n",
            "Collecting wget\n",
            "  Downloading wget-3.2.zip (10 kB)\n",
            "Building wheels for collected packages: wget\n",
            "  Building wheel for wget (setup.py) ... \u001b[?25l\u001b[?25hdone\n",
            "  Created wheel for wget: filename=wget-3.2-py3-none-any.whl size=9672 sha256=f9236dfa6939a90773ec435c363cd66e3eaa80a0f4b389e21f37222e5b58c797\n",
            "  Stored in directory: /root/.cache/pip/wheels/a1/b6/7c/0e63e34eb06634181c63adacca38b79ff8f35c37e3c13e3c02\n",
            "Successfully built wget\n",
            "Installing collected packages: wget\n",
            "Successfully installed wget-3.2\n"
          ]
        }
      ]
    },
    {
      "cell_type": "code",
      "source": [
        "import os\n",
        "import numpy as np\n",
        "import math\n",
        "import matplotlib.pyplot as plt\n",
        "import json\n",
        "import pandas as pd\n",
        "from IPython.display import display\n",
        "from tqdm import tqdm, tqdm_notebook, trange\n",
        "import sentencepiece as spm\n",
        "import wget\n",
        "\n",
        "import torch\n",
        "import torch.nn as nn\n",
        "import torch.nn.functional as F"
      ],
      "metadata": {
        "id": "TVWQtvVwNWrP"
      },
      "execution_count": 2,
      "outputs": []
    },
    {
      "cell_type": "code",
      "source": [
        "# gpu 설정\n",
        "!nvidia-smi"
      ],
      "metadata": {
        "colab": {
          "base_uri": "https://localhost:8080/"
        },
        "id": "u3225qm3fcQ4",
        "outputId": "9a8be01a-cb92-4158-d229-c63f15d0f8e2"
      },
      "execution_count": 3,
      "outputs": [
        {
          "output_type": "stream",
          "name": "stdout",
          "text": [
            "Fri Dec 31 09:30:35 2021       \n",
            "+-----------------------------------------------------------------------------+\n",
            "| NVIDIA-SMI 495.44       Driver Version: 460.32.03    CUDA Version: 11.2     |\n",
            "|-------------------------------+----------------------+----------------------+\n",
            "| GPU  Name        Persistence-M| Bus-Id        Disp.A | Volatile Uncorr. ECC |\n",
            "| Fan  Temp  Perf  Pwr:Usage/Cap|         Memory-Usage | GPU-Util  Compute M. |\n",
            "|                               |                      |               MIG M. |\n",
            "|===============================+======================+======================|\n",
            "|   0  Tesla P100-PCIE...  Off  | 00000000:00:04.0 Off |                    0 |\n",
            "| N/A   32C    P0    28W / 250W |      0MiB / 16280MiB |      0%      Default |\n",
            "|                               |                      |                  N/A |\n",
            "+-------------------------------+----------------------+----------------------+\n",
            "                                                                               \n",
            "+-----------------------------------------------------------------------------+\n",
            "| Processes:                                                                  |\n",
            "|  GPU   GI   CI        PID   Type   Process name                  GPU Memory |\n",
            "|        ID   ID                                                   Usage      |\n",
            "|=============================================================================|\n",
            "|  No running processes found                                                 |\n",
            "+-----------------------------------------------------------------------------+\n"
          ]
        }
      ]
    },
    {
      "cell_type": "markdown",
      "source": [
        "1. Vocab\n",
        "\n",
        "sentencepiece를 활용해 만든 vocab을 이용해 텍스트를 입력 tensor로 변경"
      ],
      "metadata": {
        "id": "7pbW-Pk5Mymn"
      }
    },
    {
      "cell_type": "code",
      "execution_count": 4,
      "metadata": {
        "colab": {
          "base_uri": "https://localhost:8080/"
        },
        "id": "BwEdp5QKMUZa",
        "outputId": "1ba625e0-a2ce-4b42-ce0e-2700cbb16049"
      },
      "outputs": [
        {
          "output_type": "execute_result",
          "data": {
            "text/plain": [
              "True"
            ]
          },
          "metadata": {},
          "execution_count": 4
        }
      ],
      "source": [
        "import sentencepiece as spm\n",
        "# vocab loading\n",
        "vocab_file = '/content/drive/MyDrive/colab/NLP_모델/kowiki_corpus/kowiki.model'\n",
        "vocab = spm.SentencePieceProcessor()\n",
        "vocab.load(vocab_file)"
      ]
    },
    {
      "cell_type": "markdown",
      "source": [
        "* SentencePieceProcessor class 참고\n",
        ": https://github.com/google/sentencepiece/blob/master/doc/api.md"
      ],
      "metadata": {
        "id": "-GKuRgqdOpqW"
      }
    },
    {
      "cell_type": "code",
      "source": [
        "help(spm.SentencePieceProcessor)"
      ],
      "metadata": {
        "colab": {
          "base_uri": "https://localhost:8080/"
        },
        "id": "tDuzjzwWOIS5",
        "outputId": "25f466af-6cab-43fa-f023-3456c93a48ab"
      },
      "execution_count": 5,
      "outputs": [
        {
          "output_type": "stream",
          "name": "stdout",
          "text": [
            "Help on class SentencePieceProcessor in module sentencepiece:\n",
            "\n",
            "class SentencePieceProcessor(builtins.object)\n",
            " |  SentencePieceProcessor(model_file=None, model_proto=None, out_type=<class 'int'>, add_bos=False, add_eos=False, reverse=False, enable_sampling=False, nbest_size=-1, alpha=0.1)\n",
            " |  \n",
            " |  Methods defined here:\n",
            " |  \n",
            " |  Decode(self, input)\n",
            " |      Decode processed id or token sequences.\n",
            " |  \n",
            " |  DecodeIds = DecodeIdsWithCheck(self, ids)\n",
            " |  \n",
            " |  DecodeIdsAsSerializedProto = DecodeIdsAsSerializedProtoWithCheck(self, ids)\n",
            " |  \n",
            " |  DecodeIdsAsSerializedProtoWithCheck(self, ids)\n",
            " |  \n",
            " |  DecodeIdsWithCheck(self, ids)\n",
            " |  \n",
            " |  DecodePieces(self, pieces)\n",
            " |  \n",
            " |  DecodePiecesAsSerializedProto(self, pieces)\n",
            " |  \n",
            " |  Detokenize = Decode(self, input)\n",
            " |  \n",
            " |  Encode(self, input, out_type=None, add_bos=None, add_eos=None, reverse=None, enable_sampling=None, nbest_size=None, alpha=None)\n",
            " |      Encode text input to segmented ids or tokens.\n",
            " |      \n",
            " |      Args:\n",
            " |      input: input string. accepsts list of string.\n",
            " |      out_type: output type. int or str.\n",
            " |      add_bos: Add <s> to the result (Default = false)\n",
            " |      add_eos: Add </s> to the result (Default = false) <s>/</s> is added after\n",
            " |        reversing (if enabled).\n",
            " |      reverse: Reverses the tokenized sequence (Default = false)\n",
            " |      nbest_size: sampling parameters for unigram. Invalid for BPE-Dropout.\n",
            " |                  nbest_size = {0,1}: No sampling is performed.\n",
            " |                  nbest_size > 1: samples from the nbest_size results.\n",
            " |                  nbest_size < 0: assuming that nbest_size is infinite and samples\n",
            " |                    from the all hypothesis (lattice) using\n",
            " |                    forward-filtering-and-backward-sampling algorithm.\n",
            " |      alpha: Soothing parameter for unigram sampling, and merge probability for\n",
            " |             BPE-dropout (probablity 'p' in BPE-dropout paper).\n",
            " |  \n",
            " |  EncodeAsIds(self, input)\n",
            " |  \n",
            " |  EncodeAsPieces(self, input)\n",
            " |  \n",
            " |  EncodeAsSerializedProto(self, input)\n",
            " |  \n",
            " |  GetEncoderVersion(self)\n",
            " |  \n",
            " |  GetPieceSize(self)\n",
            " |  \n",
            " |  GetScore = _batched_func(self, arg)\n",
            " |  \n",
            " |  IdToPiece = _batched_func(self, arg)\n",
            " |  \n",
            " |  Init(self, model_file=None, model_proto=None, out_type=<class 'int'>, add_bos=False, add_eos=False, reverse=False, enable_sampling=False, nbest_size=-1, alpha=0.1)\n",
            " |      Initialzie sentencepieceProcessor.\n",
            " |      \n",
            " |      Args:\n",
            " |        model_file: The sentencepiece model file path.\n",
            " |        model_proto: The sentencepiece model serialized proto.\n",
            " |        out_type: output type. int or str.\n",
            " |        add_bos: Add <s> to the result (Default = false)\n",
            " |        add_eos: Add </s> to the result (Default = false) <s>/</s> is added after\n",
            " |          reversing (if enabled).\n",
            " |        reverse: Reverses the tokenized sequence (Default = false)\n",
            " |        nbest_size: sampling parameters for unigram. Invalid for BPE-Dropout.\n",
            " |                    nbest_size = {0,1}: No sampling is performed.\n",
            " |                    nbest_size > 1: samples from the nbest_size results.\n",
            " |                    nbest_size < 0: assuming that nbest_size is infinite and samples\n",
            " |                      from the all hypothesis (lattice) using\n",
            " |                      forward-filtering-and-backward-sampling algorithm.\n",
            " |        alpha: Soothing parameter for unigram sampling, and dropout probability of\n",
            " |          merge operations for BPE-dropout.\n",
            " |  \n",
            " |  IsByte = _batched_func(self, arg)\n",
            " |  \n",
            " |  IsControl = _batched_func(self, arg)\n",
            " |  \n",
            " |  IsUnknown = _batched_func(self, arg)\n",
            " |  \n",
            " |  IsUnused = _batched_func(self, arg)\n",
            " |  \n",
            " |  Load(self, model_file=None, model_proto=None)\n",
            " |      Overwride SentencePieceProcessor.Load to support both model_file and model_proto.\n",
            " |      \n",
            " |      Args:\n",
            " |        model_file: The sentencepiece model file path.\n",
            " |        model_proto: The sentencepiece model serialized proto. Either `model_file`\n",
            " |          or `model_proto` must be set.\n",
            " |  \n",
            " |  LoadFromFile(self, arg)\n",
            " |  \n",
            " |  LoadFromSerializedProto(self, serialized)\n",
            " |  \n",
            " |  LoadVocabulary(self, filename, threshold)\n",
            " |  \n",
            " |  NBestEncodeAsIds(self, input, nbest_size)\n",
            " |  \n",
            " |  NBestEncodeAsPieces(self, input, nbest_size)\n",
            " |  \n",
            " |  NBestEncodeAsSerializedProto(self, input, nbest_size)\n",
            " |  \n",
            " |  PieceToId = _batched_func(self, arg)\n",
            " |  \n",
            " |  ResetVocabulary(self)\n",
            " |  \n",
            " |  SampleEncodeAsIds(self, input, nbest_size, alpha)\n",
            " |  \n",
            " |  SampleEncodeAsPieces(self, input, nbest_size, alpha)\n",
            " |  \n",
            " |  SampleEncodeAsSerializedProto(self, input, nbest_size, alpha)\n",
            " |  \n",
            " |  SetDecodeExtraOptions(self, extra_option)\n",
            " |  \n",
            " |  SetEncodeExtraOptions(self, extra_option)\n",
            " |  \n",
            " |  SetEncoderVersion(self, encoder_version)\n",
            " |  \n",
            " |  SetVocabulary(self, valid_vocab)\n",
            " |  \n",
            " |  Tokenize = Encode(self, input, out_type=None, add_bos=None, add_eos=None, reverse=None, enable_sampling=None, nbest_size=None, alpha=None)\n",
            " |  \n",
            " |  __getitem__(self, piece)\n",
            " |  \n",
            " |  __getstate__(self)\n",
            " |  \n",
            " |  __init__ = Init(self, model_file=None, model_proto=None, out_type=<class 'int'>, add_bos=False, add_eos=False, reverse=False, enable_sampling=False, nbest_size=-1, alpha=0.1)\n",
            " |  \n",
            " |  __len__(self)\n",
            " |  \n",
            " |  __repr__ = _swig_repr(self)\n",
            " |  \n",
            " |  __setstate__(self, serialized_model_proto)\n",
            " |  \n",
            " |  bos_id(self)\n",
            " |  \n",
            " |  decode = Decode(self, input)\n",
            " |  \n",
            " |  decode_ids = DecodeIdsWithCheck(self, ids)\n",
            " |  \n",
            " |  decode_ids_as_serialized_proto = DecodeIdsAsSerializedProtoWithCheck(self, ids)\n",
            " |  \n",
            " |  decode_ids_as_serialized_proto_with_check = DecodeIdsAsSerializedProtoWithCheck(self, ids)\n",
            " |  \n",
            " |  decode_ids_with_check = DecodeIdsWithCheck(self, ids)\n",
            " |  \n",
            " |  decode_pieces = DecodePieces(self, pieces)\n",
            " |  \n",
            " |  decode_pieces_as_serialized_proto = DecodePiecesAsSerializedProto(self, pieces)\n",
            " |  \n",
            " |  detokenize = Decode(self, input)\n",
            " |  \n",
            " |  encode = Encode(self, input, out_type=None, add_bos=None, add_eos=None, reverse=None, enable_sampling=None, nbest_size=None, alpha=None)\n",
            " |  \n",
            " |  encode_as_ids = EncodeAsIds(self, input)\n",
            " |  \n",
            " |  encode_as_pieces = EncodeAsPieces(self, input)\n",
            " |  \n",
            " |  encode_as_serialized_proto = EncodeAsSerializedProto(self, input)\n",
            " |  \n",
            " |  eos_id(self)\n",
            " |  \n",
            " |  get_encoder_version = GetEncoderVersion(self)\n",
            " |  \n",
            " |  get_piece_size = GetPieceSize(self)\n",
            " |  \n",
            " |  get_score = _batched_func(self, arg)\n",
            " |  \n",
            " |  id_to_piece = _batched_func(self, arg)\n",
            " |  \n",
            " |  init = Init(self, model_file=None, model_proto=None, out_type=<class 'int'>, add_bos=False, add_eos=False, reverse=False, enable_sampling=False, nbest_size=-1, alpha=0.1)\n",
            " |  \n",
            " |  is_byte = _batched_func(self, arg)\n",
            " |  \n",
            " |  is_control = _batched_func(self, arg)\n",
            " |  \n",
            " |  is_unknown = _batched_func(self, arg)\n",
            " |  \n",
            " |  is_unused = _batched_func(self, arg)\n",
            " |  \n",
            " |  load = Load(self, model_file=None, model_proto=None)\n",
            " |  \n",
            " |  load_from_file = LoadFromFile(self, arg)\n",
            " |  \n",
            " |  load_from_serialized_proto = LoadFromSerializedProto(self, serialized)\n",
            " |  \n",
            " |  load_vocabulary = LoadVocabulary(self, filename, threshold)\n",
            " |  \n",
            " |  nbest_encode_as_ids = NBestEncodeAsIds(self, input, nbest_size)\n",
            " |  \n",
            " |  nbest_encode_as_pieces = NBestEncodeAsPieces(self, input, nbest_size)\n",
            " |  \n",
            " |  nbest_encode_as_serialized_proto = NBestEncodeAsSerializedProto(self, input, nbest_size)\n",
            " |  \n",
            " |  pad_id(self)\n",
            " |  \n",
            " |  piece_size(self)\n",
            " |  \n",
            " |  piece_to_id = _batched_func(self, arg)\n",
            " |  \n",
            " |  reset_vocabulary = ResetVocabulary(self)\n",
            " |  \n",
            " |  sample_encode_as_ids = SampleEncodeAsIds(self, input, nbest_size, alpha)\n",
            " |  \n",
            " |  sample_encode_as_pieces = SampleEncodeAsPieces(self, input, nbest_size, alpha)\n",
            " |  \n",
            " |  sample_encode_as_serialized_proto = SampleEncodeAsSerializedProto(self, input, nbest_size, alpha)\n",
            " |  \n",
            " |  serialized_model_proto(self)\n",
            " |  \n",
            " |  set_decode_extra_options = SetDecodeExtraOptions(self, extra_option)\n",
            " |  \n",
            " |  set_encode_extra_options = SetEncodeExtraOptions(self, extra_option)\n",
            " |  \n",
            " |  set_encoder_version = SetEncoderVersion(self, encoder_version)\n",
            " |  \n",
            " |  set_vocabulary = SetVocabulary(self, valid_vocab)\n",
            " |  \n",
            " |  tokenize = Encode(self, input, out_type=None, add_bos=None, add_eos=None, reverse=None, enable_sampling=None, nbest_size=None, alpha=None)\n",
            " |  \n",
            " |  unk_id(self)\n",
            " |  \n",
            " |  vocab_size(self)\n",
            " |  \n",
            " |  ----------------------------------------------------------------------\n",
            " |  Static methods defined here:\n",
            " |  \n",
            " |  __swig_destroy__ = delete_SentencePieceProcessor(...)\n",
            " |  \n",
            " |  ----------------------------------------------------------------------\n",
            " |  Data descriptors defined here:\n",
            " |  \n",
            " |  __dict__\n",
            " |      dictionary for instance variables (if defined)\n",
            " |  \n",
            " |  __weakref__\n",
            " |      list of weak references to the object (if defined)\n",
            " |  \n",
            " |  thisown\n",
            " |      The membership flag\n",
            "\n"
          ]
        }
      ]
    },
    {
      "cell_type": "markdown",
      "source": [
        "2. Config\n",
        "\n",
        "설정을 json 형태로 저장하고, 이를 읽어서 처리하는 간단한 클래스"
      ],
      "metadata": {
        "id": "F6Aa0FwMMz9w"
      }
    },
    {
      "cell_type": "code",
      "source": [
        "\"\"\"configuration json을 읽어들이는 class\"\"\"\n",
        "class Config(dict):\n",
        "  __getattr__ = dict.__getitem__\n",
        "  __setarrt__ = dict.__setitem__\n",
        "\n",
        "  @classmethod\n",
        "  def load(cls, file):\n",
        "    with open(file, 'r') as f:\n",
        "      config = json.loads(f.read())\n",
        "      return Config(config)"
      ],
      "metadata": {
        "id": "15KSw-8fM79x"
      },
      "execution_count": 5,
      "outputs": []
    },
    {
      "cell_type": "code",
      "source": [
        "config = Config({\n",
        "    'n_enc_vocab':len(vocab),\n",
        "    'n_dec_vocab':len(vocab),\n",
        "    'n_enc_seq':256,\n",
        "    'n_dec_seq':256,\n",
        "    'n_layer':6,\n",
        "    'd_hidn':256,\n",
        "    'i_pad':0,\n",
        "    'd_ff':1024,\n",
        "    'n_head':4,\n",
        "    'd_head':64,\n",
        "    'dropout':0.1,\n",
        "    'layer_norm_epsilon':1e-12\n",
        "})\n",
        "print(config)"
      ],
      "metadata": {
        "colab": {
          "base_uri": "https://localhost:8080/"
        },
        "id": "PSFpfW08N8Hz",
        "outputId": "db671edb-a58d-4e4e-92c2-38e69ccbf4d3"
      },
      "execution_count": 6,
      "outputs": [
        {
          "output_type": "stream",
          "name": "stdout",
          "text": [
            "{'n_enc_vocab': 8007, 'n_dec_vocab': 8007, 'n_enc_seq': 256, 'n_dec_seq': 256, 'n_layer': 6, 'd_hidn': 256, 'i_pad': 0, 'd_ff': 1024, 'n_head': 4, 'd_head': 64, 'dropout': 0.1, 'layer_norm_epsilon': 1e-12}\n"
          ]
        }
      ]
    },
    {
      "cell_type": "markdown",
      "source": [
        "3. Common Class\n",
        "\n",
        "Transformer 구현하기_1.ipynb 에서 구현한 'Position Embedding','Multi-Head Attention','Feed Forward'의 코드"
      ],
      "metadata": {
        "id": "Jzs2ENBtOaVg"
      }
    },
    {
      "cell_type": "markdown",
      "source": [
        "#### Position Encoding\n",
        "\n",
        "Position Embedding의 초기 값을 구하는 함수\n",
        "1. 각 position별 hidden index별 angle 값을 구합니다.\n",
        "2. hidden 짝수 index의 angle값의 sin값을 구합니다.\n",
        "3. hidden 홀수 index의 angle값의 cos값을 구합니다."
      ],
      "metadata": {
        "id": "2b7EceoKP62L"
      }
    },
    {
      "cell_type": "code",
      "source": [
        "\"\"\"sinusoid position encoding\"\"\"\n",
        "def get_sinusoid_encoding_table(n_seq, d_hidn):\n",
        "  def cal_angle(position, i_hidn):\n",
        "    return position / np.power(10000, 2 * (i_hidn // 2) / d_hidn)\n",
        "  def get_posi_angle_vec(position):\n",
        "    return [cal_angle(position, i_hidn) for i_hidn in range(d_hidn)]\n",
        "\n",
        "  sinusoid_table = np.array([get_posi_angle_vec(i_seq) for i_seq in range(n_seq)])  # 1. 각 position별 hidden index별 angle 값을 구합니다.\n",
        "  sinusoid_table[:, 0::2] = np.sin(sinusoid_table[:, 0::2])                         # 2. hidden 짝수 index의 angle값의 sin값을 구합니다.\n",
        "  sinusoid_table[:, 1::2] = np.cos(sinusoid_table[:, 1::2])                         # 3. hidden 홀수 index의 angle값의 cos값을 구합니다.\n",
        "\n",
        "  return sinusoid_table"
      ],
      "metadata": {
        "id": "6n6xR_-dOYV1"
      },
      "execution_count": 7,
      "outputs": []
    },
    {
      "cell_type": "markdown",
      "source": [
        "#### Attention Pad Mask\n",
        "\n",
        "Attention을 구할 때 Padding 부분을 제외하기 위한 Mask를 구하는 함수\n",
        "\n",
        "1. K의 값 중에 Pad인 부분을 True로 변경합니다.(나머지는 False)\n",
        "2. 구해진 값의 크기를 Q-len, K-len 되도록 변경합니다."
      ],
      "metadata": {
        "id": "ey2_NMszQEm2"
      }
    },
    {
      "cell_type": "code",
      "source": [
        "\"\"\"attention pad mask\"\"\"\n",
        "def get_attn_pad_mask(seq_q, seq_k, i_pad):\n",
        "  batch_size, len_q = seq_q.size()\n",
        "  batch_size, len_k = seq_k.size()\n",
        "  pad_attn_mask = seq_k.data.eq(i_pad)                                              # 1. K의 값 중에 Pad인 부분을 True로 변경합니다.(나머지는 False)\n",
        "  pad_attn_mask = pad_attn_mask.unsqueeze(1).expand(batch_size, len_q, len_k)       # 2. 구해진 값의 크기를 Q-len, K-len 되도록 변경합니다.\n",
        "  return pad_attn_mask"
      ],
      "metadata": {
        "id": "Ozn9JwhOPHIG"
      },
      "execution_count": 8,
      "outputs": []
    },
    {
      "cell_type": "markdown",
      "source": [
        "#### Attention Decoder Mask\n",
        "\n",
        "Decoder의 'Masked Multi Head Attention'에서 사용할 Mask를 구하는 함수입니다.\n",
        "\n",
        "현재 단어와 이전 단어는 볼 수 있고 다음 단어는 볼 수 없도록 Masking 합니다.\n",
        "\n",
        "1. 모든 값이 1인 Q-len, K-leb 테이블을 생성합니다.\n",
        "2. 대각선을 기준으로 아래쪽을 0으로 만듭니다."
      ],
      "metadata": {
        "id": "2tL99-xMQ7P9"
      }
    },
    {
      "cell_type": "code",
      "source": [
        "\"\"\"attention decoder mask\"\"\"\n",
        "def get_attn_decoder_mask(seq):\n",
        "  subsequent_mask = torch.ones_like(seq).unsqueeze(-1).expand(seq.size(0), seq.size(1), seq.size(1)) # 1. 모든 값이 1인 Q-len, K-leb 테이블을 생성합니다.\n",
        "  subsequent_mask = subsequent_mask.triu(diagonal=1)                                                 # 2. 대각선을 기준으로 아래쪽을 0으로 만듭니다.\n",
        "  return subsequent_mask"
      ],
      "metadata": {
        "id": "g9LhHwhmQ4fw"
      },
      "execution_count": 9,
      "outputs": []
    },
    {
      "cell_type": "markdown",
      "source": [
        "#### Scaled Dot Product Attention\n",
        "\n",
        "Scaled Dot Product Attention을 구하는 클래스\n",
        "\n",
        "1. Q * K.transpose를 구합니다.\n",
        "2. K-dimention에 루트를 취한 값으로 나눠 줍니다.\n",
        "3. Mask를 적용합니다.\n",
        "4. Softmax를 취해 각 단어의 가중치 확률분포 attn_prob를 구합니다.\n",
        "5. attn_prob * V를 구합니다. 구한 값은 Q에 대한 V의 가중치 합 벡터입니다."
      ],
      "metadata": {
        "id": "PMpcf2hGRowa"
      }
    },
    {
      "cell_type": "code",
      "source": [
        "\"\"\"scale dot product attention\"\"\"\n",
        "class ScaledDotProductAttention(nn.Module):\n",
        "  def __init__(self, config):\n",
        "    super().__init__()\n",
        "    self.config = config\n",
        "    self.dropout= nn.Dropout(config.dropout)\n",
        "    self.scale = 1 / (self.config.d_head ** 0.5)\n",
        "\n",
        "  def forward(self, Q, K, V, attn_mask):\n",
        "    scores = torch.matmul(Q, K.transpose(-1, -2))     # 1. Q * K.transpose를 구합니다.\n",
        "    scores = scores.mul_(self.scale)                   # 2. K-dimention에 루트를 취한 값으로 나눠 줍니다.\n",
        "    scores.masked_fill_(attn_mask, -1e9)              # 3. Mask를 적용합니다.\n",
        "\n",
        "    attn_prob = nn.Softmax(dim= -1)(scores)           # 4. Softmax를 취해 각 단어의 가중치 확률분포 attn_prob를 구합니다.\n",
        "    attn_prob = self.dropout(attn_prob)               # 5. attn_prob * V를 구합니다. 구한 값은 Q에 대한 V의 가중치 합 벡터입니다.\n",
        "\n",
        "    context = torch.matmul(attn_prob, V)\n",
        "\n",
        "    return context, attn_prob"
      ],
      "metadata": {
        "id": "WdOQ09aBRmnS"
      },
      "execution_count": 10,
      "outputs": []
    },
    {
      "cell_type": "markdown",
      "source": [
        "#### Multi-Head Attention\n",
        "\n",
        "Multi-Head Attention을 구하는 클래스\n",
        "\n",
        "1. Q * W_Q를 한 후 multi-head로 나눕니다.\n",
        "2. K * W_K를 한 후 multi-head로 나눕니다.\n",
        "3. V * W_V를 한 후 multi-head로 나눕니다.\n",
        "4. ScaledDotProductAttention 클래스를 이용해 각 head 별 Attention을 구합니다.\n",
        "5. 여러 개의 head를 1개로 합칩니다.\n",
        "6. Linear를 취해 최종 Multi-Head Attention값을 구합니다."
      ],
      "metadata": {
        "id": "RklKvjm9TAD8"
      }
    },
    {
      "cell_type": "code",
      "source": [
        "\"\"\"multi head attention\"\"\"\n",
        "class MultiHeadAttention(nn.Module):\n",
        "  def __init__(self, config):\n",
        "    super().__init__()\n",
        "    self.config = config\n",
        "\n",
        "    self.W_Q = nn.Linear(self.config.d_hidn, self.config.n_head * self.config.d_head)\n",
        "    self.W_K = nn.Linear(self.config.d_hidn, self.config.n_head * self.config.d_head)\n",
        "    self.W_V = nn.Linear(self.config.d_hidn, self.config.n_head * self.config.d_head)\n",
        "    self.scaled_dot_attn = ScaledDotProductAttention(self.config)\n",
        "    self.linear = nn.Linear(self.config.n_head * self.config.d_head, self.config.d_hidn)\n",
        "    self.dropout = nn.Dropout(config.dropout)\n",
        "\n",
        "  def forward(self, Q, K, V, attn_mask):\n",
        "    batch_size = Q.size(0)\n",
        "    q_s = self.W_Q(Q).view(batch_size, -1, self.config.n_head, self.config.d_head).transpose(1,2)                   # 1. Q * W_Q를 한 후 multi-head로 나눕니다.\n",
        "    k_s = self.W_K(K).view(batch_size, -1, self.config.n_head, self.config.d_head).transpose(1,2)                   # 2. K * W_K를 한 후 multi-head로 나눕니다.\n",
        "    v_s = self.W_V(V).view(batch_size, -1, self.config.n_head, self.config.d_head).transpose(1,2)                   # 3. V * W_V를 한 후 multi-head로 나눕니다.\n",
        "\n",
        "    attn_mask = attn_mask.unsqueeze(1).repeat(1, self.config.n_head, 1, 1)\n",
        "\n",
        "    context, attn_prob = self.scaled_dot_attn(q_s, k_s, v_s, attn_mask)                                             # 4. ScaledDotProductAttention 클래스를 이용해 각 head 별 Attention을 구합니다.\n",
        "    context = context.transpose(1, 2).contiguous().view(batch_size, -1, self.config.n_head * self.config.d_head)    # 5. 여러 개의 head를 1개로 합칩니다.\n",
        "    output = self.linear(context)                                                                                   # 6. Linear를 취해 최종 Multi-Head Attention값을 구합니다.\n",
        "    output = self.dropout(output)\n",
        "    \n",
        "    return output, attn_prob\n"
      ],
      "metadata": {
        "id": "jcfgPFY8S-0u"
      },
      "execution_count": 11,
      "outputs": []
    },
    {
      "cell_type": "markdown",
      "source": [
        "#### Feed Forward\n",
        "\n",
        "FeedForward를 처리하는 클래스입니다.\n",
        "\n",
        "1. Linear를 실행하여 shape을 d_ff(hidden * 4)크기로 키웁니다.\n",
        "2. activation 함수(relu or gelu)를 실행합니다.\n",
        "3. Linear를 실행하여 shape을 hidden 크기로 줄입니다."
      ],
      "metadata": {
        "id": "dj9aEP3HVyZM"
      }
    },
    {
      "cell_type": "code",
      "source": [
        "\"\"\"feed forward\"\"\"\n",
        "class PoswiseFeedForwardNet(nn.Module):\n",
        "  def __init__(self, config):\n",
        "    super().__init__()\n",
        "    self.config = config\n",
        "\n",
        "    self.conv1 = nn.Conv1d(in_channels = self.config.d_hidn, out_channels = self.config.d_ff, kernel_size=1)\n",
        "    self.conv2 = nn.Conv1d(in_channels = self.config.d_ff, out_channels = self.config.d_hidn, kernel_size=1)\n",
        "    self.active = F.gelu\n",
        "    self.dropout = nn.Dropout(config.dropout)\n",
        "\n",
        "  def forward(self, inputs):\n",
        "    output = self.conv1(inputs.transpose(1, 2))     # 1. Linear를 실행하여 shape을 d_ff(hidden * 4)크기로 키웁니다.\n",
        "    output = self.active(output)                    # 2. activation 함수(relu or gelu)를 실행합니다.\n",
        "\n",
        "    output = self.conv2(output).transpose(1, 2)     # 3. Linear를 실행하여 shape을 hidden 크기로 줄입니다.\n",
        "    output = self.dropout(output)\n",
        "\n",
        "    return output"
      ],
      "metadata": {
        "id": "zT527TcmVw6q"
      },
      "execution_count": 12,
      "outputs": []
    },
    {
      "cell_type": "markdown",
      "source": [
        "4. Encoder"
      ],
      "metadata": {
        "id": "IOw--0ERbdiq"
      }
    },
    {
      "cell_type": "markdown",
      "source": [
        "#### Encoder layer\n",
        "\n",
        "Encoder에서 루프를 돌며 처리할 수 있도록 EncoderLayer를 정의하고 여러 개 만들어서 실행\n",
        "\n",
        "1. Multi-Head Attention을 수행합니다. Q, K, V 모두 동일한 값을 사용하는 self-attention입니다.\n",
        "2. 1번의 결과와 input(residual)을 더한 후 LayerNorm을 실행합니다.\n",
        "3. 2번의 결과를 입력으로 Feed Forward를 실행합니다.\n",
        "4. 3번의 결과와 2번의 결과(residual)을 더한 후 LayerNorm을 실행합니다."
      ],
      "metadata": {
        "id": "tWuxESpiXq3J"
      }
    },
    {
      "cell_type": "code",
      "source": [
        "\"\"\"encoder layer\"\"\"\n",
        "class EncoderLayer(nn.Module):\n",
        "  def __init__(self, config):\n",
        "    super().__init__()\n",
        "    self.config = config\n",
        "\n",
        "    self.self_attn = MultiHeadAttention(self.config)\n",
        "    self.layer_norm1 = nn.LayerNorm(self.config.d_hidn, eps = self.config.layer_norm_epsilon)\n",
        "    self.pos_ffn = PoswiseFeedForwardNet(self.config)\n",
        "    self.layer_norm2 = nn.LayerNorm(self.config.d_hidn, eps = self.config.layer_norm_epsilon)\n",
        "\n",
        "  def forward(self, inputs, attn_mask):\n",
        "    attn_outputs, attn_prob = self.self_attn(inputs, inputs, inputs,attn_mask)    # 1. Multi-Head Attention을 수행합니다. Q, K, V 모두 동일한 값을 사용하는 self-attention입니다.\n",
        "    attn_outputs = self.layer_norm1(inputs + attn_outputs)                        # 2. 1번의 결과와 input(residual)을 더한 후 LayerNorm을 실행합니다.\n",
        "\n",
        "    ffn_outputs = self.pos_ffn(attn_outputs)                                      # 3. 2번의 결과를 입력으로 Feed Forward를 실행합니다.\n",
        "    ffn_outputs = self.layer_norm2(ffn_outputs + attn_outputs)                    # 4. 3번의 결과와 2번의 결과(residual)을 더한 후 LayerNorm을 실행합니다.\n",
        "\n",
        "    return ffn_outputs, attn_prob"
      ],
      "metadata": {
        "id": "P2fcz_tXXaIZ"
      },
      "execution_count": 13,
      "outputs": []
    },
    {
      "cell_type": "markdown",
      "source": [
        "#### Encoder\n",
        "Encoder 클래스\n",
        "\n",
        "1. 입력에 대한 Position 값을 구합니다.\n",
        "2. Input Embedding과 Position Embedding을 구한 후 더합니다.\n",
        "3. 입력에 대한 attention pad mask를 구합니다.\n",
        "4. for 루프를 돌며 각 layer를 실행합니다. layer의 입력은 이전 layer의 출력 값입니다."
      ],
      "metadata": {
        "id": "a3ytSH9aZYDJ"
      }
    },
    {
      "cell_type": "code",
      "source": [
        "\"\"\"encoder\"\"\"\n",
        "class Encoder(nn.Module):\n",
        "  def __init__(self, config):\n",
        "    super().__init__()\n",
        "    self.config = config\n",
        "\n",
        "    self.enc_emb = nn.Embedding(self.config.n_enc_vocab, self.config.d_hidn)\n",
        "    sinusoid_table = torch.FloatTensor(get_sinusoid_encoding_table(self.config.n_enc_seq + 1, self.config.d_hidn))\n",
        "    self.pos_emb = nn.Embedding.from_pretrained(sinusoid_table, freeze=True)\n",
        "\n",
        "    self.layers = nn.ModuleList([EncoderLayer(self.config) for _ in range(self.config.n_layer)])\n",
        "\n",
        "  def forward(self, inputs):\n",
        "    # 1. 입력에 대한 Position 값을 구합니다.\n",
        "    positions = torch.arange(inputs.size(1), device = inputs.device, dtype=inputs.dtype).expand(inputs.size(0), inputs.size(1)).contiguous() + 1\n",
        "    pos_mask = inputs.eq(self.config.i_pad)\n",
        "    positions.masked_fill_(pos_mask, 0)\n",
        "\n",
        "    outputs = self.enc_emb(inputs) + self.pos_emb(positions)          # 2. Input Embedding과 Position Embedding을 구한 후 더합니다.\n",
        "\n",
        "    attn_mask = get_attn_pad_mask(inputs, inputs, self.config.i_pad)  # 3. 입력에 대한 attention pad mask를 구합니다.\n",
        "\n",
        "    attn_probs = []\n",
        "    for layer in self.layers:\n",
        "      outputs, attn_prob = layer(outputs, attn_mask)                  # 4. for 루프를 돌며 각 layer를 실행합니다. layer의 입력은 이전 layer의 출력 값입니다.\n",
        "      attn_probs.append(attn_prob)\n",
        "\n",
        "    return outputs, attn_probs"
      ],
      "metadata": {
        "id": "XDkjdsC9ZWoL"
      },
      "execution_count": 14,
      "outputs": []
    },
    {
      "cell_type": "markdown",
      "source": [
        "5. Decoder"
      ],
      "metadata": {
        "id": "arYYs5DGbV85"
      }
    },
    {
      "cell_type": "markdown",
      "source": [
        "#### Decoder Layer\n",
        "\n",
        "Decoder에서 루프를 돌며 처리할 수 있도록 DecoderLayer를 정의하고 여러 개 만들어서 실행\n",
        "\n",
        "1. Multi-Head Attention을 수행합니다.\n",
        "- Q, K, V 모두 동일한 값을 사용하는 self-attention입니다.\n",
        "2. 1번의 결과와 input(residual)을 더한 후 LayerNorm을 실행합니다.\n",
        "3. Encoder-Decoder Multi-Head Attention을 수행합니다.\n",
        "- Q: 2번의 결과\n",
        "- K, V: Encoder 결과\n",
        "4. 3번의 결과와 2번의 결과(residual)을 더한 후 LayerNorm을 실행합니다.\n",
        "5. 4번의 결과를 입력으로 FeedForward를 실행합니다.\n",
        "6. 5번의 결과와 4번의 결과(residual)을 더한 후 LayerNorm을 실행합니다."
      ],
      "metadata": {
        "id": "8ExJrN8YbfDb"
      }
    },
    {
      "cell_type": "code",
      "source": [
        "\"\"\"decoder layer\"\"\"\n",
        "class DecoderLayer(nn.Module):\n",
        "  def __init__(self, config):\n",
        "    super().__init__()\n",
        "    self.config = config\n",
        "\n",
        "    self.self_attn = MultiHeadAttention(self.config)\n",
        "    self.layer_norm1 = nn.LayerNorm(self.config.d_hidn, eps = self.config.layer_norm_epsilon)\n",
        "    self.dec_enc_attn = MultiHeadAttention(self.config)\n",
        "    self.layer_norm2 = nn.LayerNorm(self.config.d_hidn, eps = self.config.layer_norm_epsilon)\n",
        "    self.pos_ffn = PoswiseFeedForwardNet(self.config)\n",
        "    self.layer_norm3 = nn.LayerNorm(self.config.d_hidn, eps = self.config.layer_norm_epsilon)\n",
        "\n",
        "  def forward(self, dec_inputs, enc_outputs, self_attn_mask, dec_enc_attn_mask):\n",
        "    self_attn_outputs, self_attn_prob = self.self_attn(dec_inputs, dec_inputs, dec_inputs, self_attn_mask)      # 1. Multi-Head Attention을 수행합니다. - Q, K, V 모두 동일한 값을 사용하는 self-attention입니다.\n",
        "    self_attn_outputs = self.layer_norm1(dec_inputs + self_attn_outputs)                                        # 2. 1번의 결과와 input(residual)을 더한 후 LayerNorm을 실행합니다.\n",
        "\n",
        "    # 3. Encoder-Decoder Multi-Head Attention을 수행합니다.\n",
        "    # - Q: 2번의 결과\n",
        "    # - K, V: Encoder 결과\n",
        "    dec_enc_attn_outputs, dec_enc_attn_prob = self.dec_enc_attn(self_attn_outputs, enc_outputs, enc_outputs, dec_enc_attn_mask)\n",
        "    dec_enc_attn_outputs = self.layer_norm2(self_attn_outputs + dec_enc_attn_outputs)                           # 4. 3번의 결과와 2번의 결과(residual)을 더한 후 LayerNorm을 실행합니다.\n",
        "\n",
        "    ffn_outputs = self.pos_ffn(dec_enc_attn_outputs)                                                            # 5. 4번의 결과를 입력으로 FeedForward를 실행합니다.\n",
        "    ffn_outputs = self.layer_norm3(dec_enc_attn_outputs + ffn_outputs)                                          # 6. 5번의 결과와 4번의 결과(residual)을 더한 후 LayerNorm을 실행합니다.\n",
        "    \n",
        "    return ffn_outputs, self_attn_prob, dec_enc_attn_prob"
      ],
      "metadata": {
        "id": "ptYhWHItbRaI"
      },
      "execution_count": 15,
      "outputs": []
    },
    {
      "cell_type": "markdown",
      "source": [
        "#### Decoder\n",
        "Decoder 클래스\n",
        "\n",
        "1. 입력에 대한 Position 값을 구합니다.\n",
        "2. Input Embedding과 Position Embedding을 구한 후 더합니다.\n",
        "3. 입력에 대한 attention pad mask를 구합니다.\n",
        "4. 입력에 대한 decoder attention mask를 구합니다.\n",
        "5. attention pad mask와 decoder attention mask 중 1곳이라도 mask 되어 있는 부분이 mask 되도록 attention mask를 구합니다.\n",
        "6. Q(decoder input), K(encoder output)에 대한 attention mask를 구합니다.\n",
        "7. for 루프를 돌며 각 layer를 실행합니다.\n",
        "- layer의 입력은 이전 layer의 출력 값입니다."
      ],
      "metadata": {
        "id": "ySTLJ0FJeUSd"
      }
    },
    {
      "cell_type": "code",
      "source": [
        "\"\"\"decoder\"\"\"\n",
        "class Decoder(nn.Module):\n",
        "  def __init__(self, config):\n",
        "    super().__init__()\n",
        "    self.config = config\n",
        "\n",
        "    self.dec_emb = nn.Embedding(self.config.n_dec_vocab, self.config.d_hidn)\n",
        "    sinusoid_table = torch.FloatTensor(get_sinusoid_encoding_table(self.config.n_dec_seq + 1, self.config.d_hidn))\n",
        "    self.pos_emb = nn.Embedding.from_pretrained(sinusoid_table, freeze = True)\n",
        "\n",
        "    self.layers = nn.ModuleList([DecoderLayer(self.config) for _ in range(self.config.n_layer)])\n",
        "\n",
        "  def forward(self, dec_inputs, enc_inputs, enc_outputs):\n",
        "    # 1. 입력에 대한 Position 값을 구합니다.\n",
        "    positions = torch.arange(dec_inputs.size(1), device = dec_inputs.device, dtype = dec_inputs.dtype).expand(dec_inputs.size(0), dec_inputs.size(1)).contiguous()+ 1\n",
        "    pos_mask = dec_inputs.eq(self.config.i_pad)\n",
        "    positions.masked_fill_(pos_mask, 0)\n",
        "\n",
        "    dec_outputs = self.dec_emb(dec_inputs) + self.pos_emb(positions)                    # 2. Input Embedding과 Position Embedding을 구한 후 더합니다.\n",
        "\n",
        "    dec_attn_pad_mask = get_attn_pad_mask(dec_inputs, dec_inputs, self.config.i_pad)    # 3. 입력에 대한 attention pad mask를 구합니다.\n",
        "    dec_attn_decoder_mask = get_attn_decoder_mask(dec_inputs)                           # 4. 입력에 대한 decoder attention mask를 구합니다.\n",
        "    dec_self_attn_mask = torch.gt((dec_attn_pad_mask + dec_attn_decoder_mask), 0)       # 5. attention pad mask와 decoder attention mask 중 1곳이라도 mask 되어 있는 부분이 mask 되도록 attention mask를 구합니다.\n",
        "    dec_enc_attn_mask = get_attn_pad_mask(dec_inputs, enc_inputs, self.config.i_pad)    # 6. Q(decoder input), K(encoder output)에 대한 attention mask를 구합니다.\n",
        "\n",
        "    self_attn_probs, dec_enc_attn_probs = [], []\n",
        "    # 7. for 루프를 돌며 각 layer를 실행합니다.\n",
        "    # - layer의 입력은 이전 layer의 출력 값입니다.\n",
        "    for layer in self.layers:\n",
        "      dec_outputs, self_attn_prob, dec_enc_attn_prob = layer(dec_outputs, enc_outputs, dec_self_attn_mask, dec_enc_attn_mask)\n",
        "      self_attn_probs.append(self_attn_prob)\n",
        "      dec_enc_attn_probs.append(dec_enc_attn_prob)\n",
        "    return dec_outputs, self_attn_probs, dec_enc_attn_probs"
      ],
      "metadata": {
        "id": "l9m3im8MeSF-"
      },
      "execution_count": 16,
      "outputs": []
    },
    {
      "cell_type": "markdown",
      "source": [
        "6. Transformer\n",
        "\n",
        "Transformer 클래스\n",
        "\n",
        "1. Encoder Input을 입력으로 Encoder를 실행합니다.\n",
        "2. Encoder Output과 Decoder Input을 입력으로 Decoder를 실행합니다."
      ],
      "metadata": {
        "id": "5Pw-lqNihZy1"
      }
    },
    {
      "cell_type": "code",
      "source": [
        "\"\"\"transformer\"\"\"\n",
        "class Transformer(nn.Module):\n",
        "  def __init__(self, config):\n",
        "    super().__init__()\n",
        "    self.config = config\n",
        "\n",
        "    self.encoder = Encoder(self.config)\n",
        "    self.decoder = Decoder(self.config)\n",
        "\n",
        "  def forward(self, enc_inputs, dec_inputs):\n",
        "    enc_outputs, enc_self_attn_probs = self.encoder(enc_inputs)                                                 # 1. Encoder Input을 입력으로 Encoder를 실행합니다.\n",
        "    dec_outputs, dec_self_attn_probs, dec_enc_attn_probs = self.decoder(dec_inputs, enc_inputs, enc_outputs)    # 2. Encoder Output과 Decoder Input을 입력으로 Decoder를 실행합니다.\n",
        "    return dec_outputs, enc_self_attn_probs, dec_self_attn_probs, dec_enc_attn_probs"
      ],
      "metadata": {
        "id": "wQGaSlHbhV58"
      },
      "execution_count": 17,
      "outputs": []
    },
    {
      "cell_type": "markdown",
      "source": [
        "# 1. Model\n",
        "\n",
        "Transforemr 클래스를 이용하여 Naver 영화리뷰 감정분석 분류 모델 클래스를 정의\n",
        "\n",
        "1. Encoder input과 Decoder inurt을 입력으로 Transforemr 모델을 실행합니다.\n",
        "2. Transformer 출력의 max 값을 구합니다.\n",
        "3. Linear를 실행하여 최종 예측 결과를 만듭니다."
      ],
      "metadata": {
        "id": "AiGfAxSif2Wq"
      }
    },
    {
      "cell_type": "code",
      "source": [
        "\"\"\"naver movie classifiaction\"\"\"\n",
        "class MovieClassification(nn.Module):\n",
        "  def __init__(self, config):\n",
        "    super().__init__()\n",
        "    self.config = config\n",
        "\n",
        "    self.transformer = Transformer(self.config)\n",
        "    self.projection = nn.Linear(self.config.d_hidn, self.config.n_output, bias=False)\n",
        "\n",
        "  def forward(self, enc_inputs, dec_inputs):\n",
        "    dec_outputs, enc_self_attn_probs, dec_self_attn_probs, dec_enc_attn_probs = self.transformer(enc_inputs, dec_inputs)  # 1. Encoder input과 Decoder inurt을 입력으로 Transforemr 모델을 실행합니다.\n",
        "    dec_outputs, _ = torch.max(dec_outputs, dim=1)                                                                        # 2. Transformer 출력의 max 값을 구합니다.\n",
        "    logits = self.projection(dec_outputs)                                                                                  # 3. Linear를 실행하여 최종 예측 결과를 만듭니다.\n",
        "\n",
        "    return logits, enc_self_attn_probs, dec_self_attn_probs, dec_enc_attn_probs"
      ],
      "metadata": {
        "id": "TUe0yS7df1z5"
      },
      "execution_count": 18,
      "outputs": []
    },
    {
      "cell_type": "markdown",
      "source": [
        "# 2. Dataset"
      ],
      "metadata": {
        "id": "6_YZIdRJhehO"
      }
    },
    {
      "cell_type": "markdown",
      "source": [
        "#### Dataset\n",
        "\n",
        "Naber 영화리뷰 감정분석 데이터 셋\n",
        "\n",
        "1. 입력 파일로부터 'label'을 읽어 들입니다.\n",
        "2. 입력 파일로부터 'doc'token을 읽어 숫자(token id)로 변경합니다.\n",
        "3. Decoder 입력은 '[BOS]'로 고정합니다."
      ],
      "metadata": {
        "id": "q1Bh7TCNhh_z"
      }
    },
    {
      "cell_type": "code",
      "source": [
        "\"\"\"영화 분류 데이터셋\"\"\"\n",
        "class MovieDataSet(torch.utils.data.Dataset):\n",
        "  def __init__(self, vocab, infile):\n",
        "    self.vocab = vocab\n",
        "    self.labels = []\n",
        "    self.sentences = []\n",
        "\n",
        "    line_cnt = 0\n",
        "    with open(infile, 'r') as f:\n",
        "      for line in f:\n",
        "        line_cnt += 1\n",
        "    \n",
        "    with open(infile, 'r') as f:\n",
        "      for i, line in enumerate(tqdm(f, total=line_cnt, desc=f'Loading {infile}', unit=' lines')):\n",
        "        data = json.loads(line)\n",
        "        self.labels.append(data['label'])                                           # 1. 입력 파일로부터 'label'을 읽어 들입니다.\n",
        "        self.sentences.append([vocab.piece_to_id(p) for p in data['doc']])          # 2. 입력 파일로부터 'doc'token을 읽어 숫자(token id)로 변경합니다.\n",
        "\n",
        "  def __len__(self):\n",
        "    assert len(self.labels) == len(self.sentences)\n",
        "    return len(self.labels)\n",
        "\n",
        "  def __getitem__(self, item):\n",
        "    return (torch.tensor(self.labels[item]),\n",
        "            torch.tensor(self.sentences[item]),\n",
        "            torch.tensor([self.vocab.piece_to_id('[BOS]')]))                        # 3. Decoder 입력은 '[BOS]'로 고정합니다."
      ],
      "metadata": {
        "id": "VIwWx-qwhbq_"
      },
      "execution_count": 19,
      "outputs": []
    },
    {
      "cell_type": "markdown",
      "source": [
        "#### Collate_fn\n",
        "\n",
        "배치단위로 데이터 처리를 위한 collate_fn입니다.\n",
        "\n",
        "1. Encoder inputs의 길이가 같아지도록 짧은 문장에 padding(0)을 추가합니다.\n",
        "- padding은 sentencepiece를 활용해 vocab 만들기에서 '-pad_id=0'옵셥으로 지정한 값입니다.\n",
        "2. Decoder inputs의 길이가 같아지도록 짧은 문장에 padding(0)을 추가합니다.\n",
        "3. Label은 길이가 1 고정이므로 stack 함수를 이용해 tensor로 만듭니다."
      ],
      "metadata": {
        "id": "oZYfOKFGjNLd"
      }
    },
    {
      "cell_type": "code",
      "source": [
        "\"\"\" movie data collate_fn \"\"\"\n",
        "def movie_collate_fn(inputs):\n",
        "  labels, enc_inputs, dec_inputs = list(zip(*inputs))\n",
        "\n",
        "  enc_inputs = torch.nn.utils.rnn.pad_sequence(enc_inputs, batch_first = True, padding_value=0)     # 1. Encoder inputs의 길이가 같아지도록 짧은 문장에 padding(0)을 추가합니다.\n",
        "  dec_inputs = torch.nn.utils.rnn.pad_sequence(dec_inputs, batch_first = True, padding_value=0)     # 2. Decoder inputs의 길이가 같아지도록 짧은 문장에 padding(0)을 추가합니다.\n",
        "\n",
        "  batch = [\n",
        "           torch.stack(labels, dim = 0),                                                            # 3. Label은 길이가 1 고정이므로 stack 함수를 이용해 tensor로 만듭니다.\n",
        "           enc_inputs,\n",
        "           dec_inputs\n",
        "  ]\n",
        "  return batch"
      ],
      "metadata": {
        "id": "Dj2G0VOVjKCh"
      },
      "execution_count": 20,
      "outputs": []
    },
    {
      "cell_type": "markdown",
      "source": [
        "#### DataLoader\n",
        "\n",
        "위에서 정의한 Dataset과 collate_fn을 이용해 학습용 (train_loader), 평가용(test_loader) Data Loader를 만듭니다."
      ],
      "metadata": {
        "id": "OpZMHaVQkei-"
      }
    },
    {
      "cell_type": "code",
      "source": [
        "batch_size = 128\n",
        "train_dataset = MovieDataSet(vocab, '/content/drive/MyDrive/colab/NLP_모델/naver_sentiment_corpus/ratings_train.json')\n",
        "train_loader = torch.utils.data.DataLoader(train_dataset, batch_size=batch_size, shuffle = True, collate_fn = movie_collate_fn)\n",
        "test_dataset = MovieDataSet(vocab, '/content/drive/MyDrive/colab/NLP_모델/naver_sentiment_corpus/ratings_test.json')\n",
        "test_loader = torch.utils.data.DataLoader(test_dataset, batch_size=batch_size, shuffle=False, collate_fn = movie_collate_fn)"
      ],
      "metadata": {
        "colab": {
          "base_uri": "https://localhost:8080/"
        },
        "id": "eshTcx58kd6i",
        "outputId": "68c6b9b1-231e-4930-dbc8-928c13e23bfc"
      },
      "execution_count": 21,
      "outputs": [
        {
          "output_type": "stream",
          "name": "stderr",
          "text": [
            "Loading /content/drive/MyDrive/colab/NLP_모델/naver_sentiment_corpus/ratings_train.json: 100%|██████████| 149995/149995 [00:04<00:00, 32190.74 lines/s]\n",
            "Loading /content/drive/MyDrive/colab/NLP_모델/naver_sentiment_corpus/ratings_test.json: 100%|██████████| 49997/49997 [00:01<00:00, 30192.94 lines/s]\n"
          ]
        }
      ]
    },
    {
      "cell_type": "markdown",
      "source": [
        "# 3. Evaluate\n",
        "\n",
        "학습된 MovieClassification 모델의 성능을 평가하기 위한 함수입니다. 평가는 정확도(accuracy)를 사용했습니다.\n",
        "\n",
        "1. Encoder input과 Decoder input을 입력으로 MovieClassification을 실행합니다.\n",
        "2. 1번의 결과 중 첫번째 값이 예측 logits입니다.\n",
        "3. lgits의 최대값의 index를 구합니다.\n",
        "4. 3번에게 구한 값과 labels의 값이 같은지 비교합니다."
      ],
      "metadata": {
        "id": "dn9eSfJVlTNT"
      }
    },
    {
      "cell_type": "code",
      "source": [
        "\"\"\"모델 epoch 평가\"\"\"\n",
        "def eval_epoch(config, model, data_loader):\n",
        "  matchs = []\n",
        "  model.eval()\n",
        "\n",
        "  n_word_total = 0\n",
        "  n_correct_total = 0\n",
        "  with tqdm(total=len(data_loader), desc = f'Valid') as pbar:\n",
        "    for i, value in enumerate(data_loader):\n",
        "      labels, enc_inputs, dec_inputs = map(lambda v: v.to(config.device), value)\n",
        "\n",
        "      outputs = model(enc_inputs, dec_inputs)       # 1. Encoder input과 Decoder input을 입력으로 MovieClassification을 실행합니다.\n",
        "      logits = outputs[0]                           # 2. 1번의 결과 중 첫번째 값이 예측 logits입니다.\n",
        "      _, indices = logits.max(1)                     # 3. lgits의 최대값의 index를 구합니다.\n",
        "\n",
        "      match = torch.eq(indices, labels).detach()    # 4. 3번에게 구한 값과 labels의 값이 같은지 비교합니다.\n",
        "      matchs.extend(match.cpu())\n",
        "      accuracy = np.sum(matchs) / len(matchs) if 0 < len(matchs) else 0\n",
        "\n",
        "      pbar.update(1)\n",
        "      pbar.set_postfix_str(f'Acc: {accuracy:.3f}')\n",
        "\n",
        "  return np.sum(matchs) / len(matchs) if 0 < len(matchs) else 0"
      ],
      "metadata": {
        "id": "zNSRKmgElRRu"
      },
      "execution_count": 26,
      "outputs": []
    },
    {
      "cell_type": "markdown",
      "source": [
        "# 4. Train\n",
        "\n",
        "MovieClassification 모델을 학습하기 위한 함수입니다.\n",
        "\n",
        "1. Encoder input과 Decoder input을 입력으로 MovieClassification을 실행합니다.\n",
        "2. 1번의 결과 중 첫 번째 값이 예측 logits입니다.\n",
        "3. logits 값과 labels의 값을 이용해 Loss를 계산합니다.\n",
        "4. loss, optimizer를 이용해 학습합니다."
      ],
      "metadata": {
        "id": "iY4ZKIuanUYT"
      }
    },
    {
      "cell_type": "code",
      "source": [
        "\"\"\"모델 epoch 학습\"\"\"\n",
        "def train_epoch(config, epoch, model, criterion, optimizer, train_loaer):\n",
        "  losses = []\n",
        "  model.train()\n",
        "\n",
        "  with tqdm(total=len(train_loader), desc = f'Train {epoch}') as pbar:\n",
        "    for i, value in enumerate(train_loader):\n",
        "      labels, enc_inputs, dec_inputs = map(lambda v: v.to(config.device), value)\n",
        "\n",
        "      optimizer.zero_grad()\n",
        "      outputs = model(enc_inputs, dec_inputs)                    # 1. Encoder input과 Decoder input을 입력으로 MovieClassification을 실행합니다.\n",
        "      logits = outputs[0]                                        # 2. 1번의 결과 중 첫 번째 값이 예측 logits입니다.\n",
        "\n",
        "      loss = criterion(logits, labels)                           # 3. logits 값과 labels의 값을 이용해 Loss를 계산합니다.\n",
        "      loss_val = loss.item()\n",
        "      losses.append(loss_val)\n",
        "\n",
        "      loss.backward()                                            # 4. loss, optimizer를 이용해 학습합니다.\n",
        "      optimizer.step()\n",
        "\n",
        "      pbar.update()\n",
        "      pbar.set_postfix_str(f'Loss: {loss_val:.3f} ({np.mean(losses):.3f}')\n",
        "  return np.mean(losses)"
      ],
      "metadata": {
        "id": "J9ZRdNRDnS6I"
      },
      "execution_count": 23,
      "outputs": []
    },
    {
      "cell_type": "markdown",
      "source": [
        "학습을 위한 추가적인 내용을 선언합니다.\n",
        "\n",
        "1. GPU 사용 여부를 확인합니다.\n",
        "2. 출력 값 개수를 정의합니다.(부정(0), 긍정(1) 2가지입니다.)\n",
        "3. learning_rate 및 학습 epoch를 선언합니다."
      ],
      "metadata": {
        "id": "hJQwb1xwqL06"
      }
    },
    {
      "cell_type": "code",
      "source": [
        "config.device = torch.device('cuda' if torch.cuda.is_available() else 'cpu')    # 1. GPU 사용 여부를 확인합니다.\n",
        "config.n_output = 2                                                             # 2. 출력 값 개수를 정의합니다.(부정(0), 긍정(1) 2가지입니다.)\n",
        "print(config)\n",
        "\n",
        "learning_rate = 5e-5                                                            # 3. learning_rate 및 학습 epoch를 선언합니다.\n",
        "n_epoch = 10"
      ],
      "metadata": {
        "colab": {
          "base_uri": "https://localhost:8080/"
        },
        "id": "1jruGPGaqK0U",
        "outputId": "15ebb56e-3b0e-486c-8a94-85da774016bc"
      },
      "execution_count": 24,
      "outputs": [
        {
          "output_type": "stream",
          "name": "stdout",
          "text": [
            "{'n_enc_vocab': 8007, 'n_dec_vocab': 8007, 'n_enc_seq': 256, 'n_dec_seq': 256, 'n_layer': 6, 'd_hidn': 256, 'i_pad': 0, 'd_ff': 1024, 'n_head': 4, 'd_head': 64, 'dropout': 0.1, 'layer_norm_epsilon': 1e-12}\n"
          ]
        }
      ]
    },
    {
      "cell_type": "markdown",
      "source": [
        "위에서 선언된 내용을 이용해 학습을 실행하는 절차입니다.\n",
        "\n",
        "1. MovieClassification을 생성합니다.\n",
        "2. MovieClassification이 GPU 또는 CPU를 지원하도록 합니다.\n",
        "3. loss 함수를 선언합니다.\n",
        "4. optimizer를 선언합니다.\n",
        "5. 각 epoch 마다 학습을 합니다.\n",
        "6. 각 epoch 마다 평가를 합니다."
      ],
      "metadata": {
        "id": "Rm97eXCHrIqj"
      }
    },
    {
      "cell_type": "code",
      "source": [
        "# 약 45분 소요\n",
        "model = MovieClassification(config)                                                   # 1. MovieClassification을 생성합니다.\n",
        "model.to(config.device)                                                               # 2. MovieClassification이 GPU 또는 CPU를 지원하도록 합니다.\n",
        "\n",
        "criterion = torch.nn.CrossEntropyLoss()                                               # 3. loss 함수를 선언합니다.\n",
        "optimizer = torch.optim.Adam(model.parameters(), lr=learning_rate)                    # 4. optimizer를 선언합니다.\n",
        "\n",
        "losses, scores = [], []\n",
        "for epoch in range(n_epoch):\n",
        "  loss = train_epoch(config, epoch, model, criterion, optimizer, train_loader)        # 5. 각 epoch 마다 학습을 합니다.\n",
        "  score = eval_epoch(config, model, test_loader)                                      # 6. 각 epoch 마다 평가를 합니다.\n",
        "\n",
        "  losses.append(loss)\n",
        "  scores.append(score)"
      ],
      "metadata": {
        "colab": {
          "base_uri": "https://localhost:8080/"
        },
        "id": "LZwhxLf7rEZg",
        "outputId": "6bc467e3-e2db-4a09-9631-ed3fde3f2771"
      },
      "execution_count": 27,
      "outputs": [
        {
          "output_type": "stream",
          "name": "stderr",
          "text": [
            "Train 0: 100%|██████████| 1172/1172 [03:40<00:00,  5.32it/s, Loss: 0.312 (0.484]\n",
            "Valid: 100%|██████████| 391/391 [00:45<00:00,  8.51it/s, Acc: 0.805]\n",
            "Train 1: 100%|██████████| 1172/1172 [03:39<00:00,  5.34it/s, Loss: 0.404 (0.402]\n",
            "Valid: 100%|██████████| 391/391 [00:42<00:00,  9.22it/s, Acc: 0.817]\n",
            "Train 2: 100%|██████████| 1172/1172 [03:38<00:00,  5.35it/s, Loss: 0.338 (0.375]\n",
            "Valid: 100%|██████████| 391/391 [00:42<00:00,  9.26it/s, Acc: 0.815]\n",
            "Train 3: 100%|██████████| 1172/1172 [03:38<00:00,  5.36it/s, Loss: 0.354 (0.355]\n",
            "Valid: 100%|██████████| 391/391 [00:41<00:00,  9.51it/s, Acc: 0.829]\n",
            "Train 4: 100%|██████████| 1172/1172 [03:40<00:00,  5.32it/s, Loss: 0.315 (0.335]\n",
            "Valid: 100%|██████████| 391/391 [00:42<00:00,  9.30it/s, Acc: 0.826]\n",
            "Train 5: 100%|██████████| 1172/1172 [03:40<00:00,  5.32it/s, Loss: 0.301 (0.315]\n",
            "Valid: 100%|██████████| 391/391 [00:42<00:00,  9.22it/s, Acc: 0.832]\n",
            "Train 6: 100%|██████████| 1172/1172 [03:40<00:00,  5.32it/s, Loss: 0.211 (0.294]\n",
            "Valid: 100%|██████████| 391/391 [00:42<00:00,  9.27it/s, Acc: 0.833]\n",
            "Train 7: 100%|██████████| 1172/1172 [03:39<00:00,  5.35it/s, Loss: 0.422 (0.271]\n",
            "Valid: 100%|██████████| 391/391 [00:42<00:00,  9.22it/s, Acc: 0.831]\n",
            "Train 8: 100%|██████████| 1172/1172 [03:39<00:00,  5.33it/s, Loss: 0.372 (0.249]\n",
            "Valid: 100%|██████████| 391/391 [00:42<00:00,  9.26it/s, Acc: 0.832]\n",
            "Train 9: 100%|██████████| 1172/1172 [03:39<00:00,  5.35it/s, Loss: 0.302 (0.227]\n",
            "Valid: 100%|██████████| 391/391 [00:42<00:00,  9.26it/s, Acc: 0.835]\n"
          ]
        }
      ]
    },
    {
      "cell_type": "markdown",
      "source": [
        "# 5. Result"
      ],
      "metadata": {
        "id": "AtNAYkd51B0z"
      }
    },
    {
      "cell_type": "code",
      "source": [
        "# table\n",
        "data = {\n",
        "    'loss': losses,\n",
        "    'score': scores\n",
        "}\n",
        "\n",
        "df = pd.DataFrame(data)\n",
        "display(df)\n",
        "\n",
        "# graph\n",
        "plt.figure(figsize=[12,4])\n",
        "plt.plot(losses, label = 'loss')\n",
        "plt.plot(scores, label = 'score')\n",
        "plt.legend()\n",
        "plt.xlabel('Epoch')\n",
        "plt.ylabel('Value')\n",
        "plt.show()"
      ],
      "metadata": {
        "colab": {
          "base_uri": "https://localhost:8080/",
          "height": 625
        },
        "id": "lAMHRErD1GjC",
        "outputId": "db3ff302-ec68-4992-ea75-2e3bec2b5522"
      },
      "execution_count": 28,
      "outputs": [
        {
          "output_type": "display_data",
          "data": {
            "text/html": [
              "\n",
              "  <div id=\"df-cf51eec1-9628-428c-9aa2-86ae5fb149fa\">\n",
              "    <div class=\"colab-df-container\">\n",
              "      <div>\n",
              "<style scoped>\n",
              "    .dataframe tbody tr th:only-of-type {\n",
              "        vertical-align: middle;\n",
              "    }\n",
              "\n",
              "    .dataframe tbody tr th {\n",
              "        vertical-align: top;\n",
              "    }\n",
              "\n",
              "    .dataframe thead th {\n",
              "        text-align: right;\n",
              "    }\n",
              "</style>\n",
              "<table border=\"1\" class=\"dataframe\">\n",
              "  <thead>\n",
              "    <tr style=\"text-align: right;\">\n",
              "      <th></th>\n",
              "      <th>loss</th>\n",
              "      <th>score</th>\n",
              "    </tr>\n",
              "  </thead>\n",
              "  <tbody>\n",
              "    <tr>\n",
              "      <th>0</th>\n",
              "      <td>0.483909</td>\n",
              "      <td>0.804508</td>\n",
              "    </tr>\n",
              "    <tr>\n",
              "      <th>1</th>\n",
              "      <td>0.401940</td>\n",
              "      <td>0.817049</td>\n",
              "    </tr>\n",
              "    <tr>\n",
              "      <th>2</th>\n",
              "      <td>0.375420</td>\n",
              "      <td>0.815269</td>\n",
              "    </tr>\n",
              "    <tr>\n",
              "      <th>3</th>\n",
              "      <td>0.354822</td>\n",
              "      <td>0.828550</td>\n",
              "    </tr>\n",
              "    <tr>\n",
              "      <th>4</th>\n",
              "      <td>0.335374</td>\n",
              "      <td>0.826430</td>\n",
              "    </tr>\n",
              "    <tr>\n",
              "      <th>5</th>\n",
              "      <td>0.315077</td>\n",
              "      <td>0.831870</td>\n",
              "    </tr>\n",
              "    <tr>\n",
              "      <th>6</th>\n",
              "      <td>0.294090</td>\n",
              "      <td>0.833450</td>\n",
              "    </tr>\n",
              "    <tr>\n",
              "      <th>7</th>\n",
              "      <td>0.271483</td>\n",
              "      <td>0.830770</td>\n",
              "    </tr>\n",
              "    <tr>\n",
              "      <th>8</th>\n",
              "      <td>0.248893</td>\n",
              "      <td>0.831590</td>\n",
              "    </tr>\n",
              "    <tr>\n",
              "      <th>9</th>\n",
              "      <td>0.226699</td>\n",
              "      <td>0.834590</td>\n",
              "    </tr>\n",
              "  </tbody>\n",
              "</table>\n",
              "</div>\n",
              "      <button class=\"colab-df-convert\" onclick=\"convertToInteractive('df-cf51eec1-9628-428c-9aa2-86ae5fb149fa')\"\n",
              "              title=\"Convert this dataframe to an interactive table.\"\n",
              "              style=\"display:none;\">\n",
              "        \n",
              "  <svg xmlns=\"http://www.w3.org/2000/svg\" height=\"24px\"viewBox=\"0 0 24 24\"\n",
              "       width=\"24px\">\n",
              "    <path d=\"M0 0h24v24H0V0z\" fill=\"none\"/>\n",
              "    <path d=\"M18.56 5.44l.94 2.06.94-2.06 2.06-.94-2.06-.94-.94-2.06-.94 2.06-2.06.94zm-11 1L8.5 8.5l.94-2.06 2.06-.94-2.06-.94L8.5 2.5l-.94 2.06-2.06.94zm10 10l.94 2.06.94-2.06 2.06-.94-2.06-.94-.94-2.06-.94 2.06-2.06.94z\"/><path d=\"M17.41 7.96l-1.37-1.37c-.4-.4-.92-.59-1.43-.59-.52 0-1.04.2-1.43.59L10.3 9.45l-7.72 7.72c-.78.78-.78 2.05 0 2.83L4 21.41c.39.39.9.59 1.41.59.51 0 1.02-.2 1.41-.59l7.78-7.78 2.81-2.81c.8-.78.8-2.07 0-2.86zM5.41 20L4 18.59l7.72-7.72 1.47 1.35L5.41 20z\"/>\n",
              "  </svg>\n",
              "      </button>\n",
              "      \n",
              "  <style>\n",
              "    .colab-df-container {\n",
              "      display:flex;\n",
              "      flex-wrap:wrap;\n",
              "      gap: 12px;\n",
              "    }\n",
              "\n",
              "    .colab-df-convert {\n",
              "      background-color: #E8F0FE;\n",
              "      border: none;\n",
              "      border-radius: 50%;\n",
              "      cursor: pointer;\n",
              "      display: none;\n",
              "      fill: #1967D2;\n",
              "      height: 32px;\n",
              "      padding: 0 0 0 0;\n",
              "      width: 32px;\n",
              "    }\n",
              "\n",
              "    .colab-df-convert:hover {\n",
              "      background-color: #E2EBFA;\n",
              "      box-shadow: 0px 1px 2px rgba(60, 64, 67, 0.3), 0px 1px 3px 1px rgba(60, 64, 67, 0.15);\n",
              "      fill: #174EA6;\n",
              "    }\n",
              "\n",
              "    [theme=dark] .colab-df-convert {\n",
              "      background-color: #3B4455;\n",
              "      fill: #D2E3FC;\n",
              "    }\n",
              "\n",
              "    [theme=dark] .colab-df-convert:hover {\n",
              "      background-color: #434B5C;\n",
              "      box-shadow: 0px 1px 3px 1px rgba(0, 0, 0, 0.15);\n",
              "      filter: drop-shadow(0px 1px 2px rgba(0, 0, 0, 0.3));\n",
              "      fill: #FFFFFF;\n",
              "    }\n",
              "  </style>\n",
              "\n",
              "      <script>\n",
              "        const buttonEl =\n",
              "          document.querySelector('#df-cf51eec1-9628-428c-9aa2-86ae5fb149fa button.colab-df-convert');\n",
              "        buttonEl.style.display =\n",
              "          google.colab.kernel.accessAllowed ? 'block' : 'none';\n",
              "\n",
              "        async function convertToInteractive(key) {\n",
              "          const element = document.querySelector('#df-cf51eec1-9628-428c-9aa2-86ae5fb149fa');\n",
              "          const dataTable =\n",
              "            await google.colab.kernel.invokeFunction('convertToInteractive',\n",
              "                                                     [key], {});\n",
              "          if (!dataTable) return;\n",
              "\n",
              "          const docLinkHtml = 'Like what you see? Visit the ' +\n",
              "            '<a target=\"_blank\" href=https://colab.research.google.com/notebooks/data_table.ipynb>data table notebook</a>'\n",
              "            + ' to learn more about interactive tables.';\n",
              "          element.innerHTML = '';\n",
              "          dataTable['output_type'] = 'display_data';\n",
              "          await google.colab.output.renderOutput(dataTable, element);\n",
              "          const docLink = document.createElement('div');\n",
              "          docLink.innerHTML = docLinkHtml;\n",
              "          element.appendChild(docLink);\n",
              "        }\n",
              "      </script>\n",
              "    </div>\n",
              "  </div>\n",
              "  "
            ],
            "text/plain": [
              "       loss     score\n",
              "0  0.483909  0.804508\n",
              "1  0.401940  0.817049\n",
              "2  0.375420  0.815269\n",
              "3  0.354822  0.828550\n",
              "4  0.335374  0.826430\n",
              "5  0.315077  0.831870\n",
              "6  0.294090  0.833450\n",
              "7  0.271483  0.830770\n",
              "8  0.248893  0.831590\n",
              "9  0.226699  0.834590"
            ]
          },
          "metadata": {}
        },
        {
          "output_type": "display_data",
          "data": {
            "image/png": "[encoded data removed]",
            "text/plain": [
              "<Figure size 864x288 with 1 Axes>"
            ]
          },
          "metadata": {
            "needs_background": "light"
          }
        }
      ]
    }
  ]
}